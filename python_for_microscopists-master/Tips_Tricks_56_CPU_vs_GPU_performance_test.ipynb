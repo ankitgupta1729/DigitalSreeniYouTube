{
  "nbformat": 4,
  "nbformat_minor": 0,
  "metadata": {
    "colab": {
      "provenance": [],
      "gpuType": "T4",
      "authorship_tag": "ABX9TyP3J2TjdgiQUI+jnPy/Kob8",
      "include_colab_link": true
    },
    "kernelspec": {
      "name": "python3",
      "display_name": "Python 3"
    },
    "language_info": {
      "name": "python"
    },
    "accelerator": "GPU"
  },
  "cells": [
    {
      "cell_type": "markdown",
      "metadata": {
        "id": "view-in-github",
        "colab_type": "text"
      },
      "source": [
        "<a href=\"https://colab.research.google.com/github/bnsreenu/python_for_microscopists/blob/master/Tips_Tricks_56_CPU_vs_GPU_performance_test.ipynb\" target=\"_parent\"><img src=\"https://colab.research.google.com/assets/colab-badge.svg\" alt=\"Open In Colab\"/></a>"
      ]
    },
    {
      "cell_type": "markdown",
      "source": [
        "https://youtu.be/d4kj62mH36w"
      ],
      "metadata": {
        "id": "MjKyPL_N6uUw"
      }
    },
    {
      "cell_type": "markdown",
      "source": [
        "# **A Deep Dive into Why GPUs Outpace CPUs**  A Hands-On Tutorial\n",
        "\n",
        "FLOPS is commonly used to quantify the computational power of processors and other computing devices. It is an important metric for tasks that involve complex mathematical calculations, such as scientific simulations, artificial intelligence and machine learning algorithms. <p>\n",
        "\n",
        "FLOPS stands for \"Floating Point Operations Per Second\" which means the number of floating-point calculations a computer system can perform in one second. The higher the FLOPS value, the faster the computer or processor can perform floating-point calculations, indicating better computational performance.\n",
        "<p>\n",
        "In this tutorial, let us use FLOPS as a metric to evaluate the performance of CPU versus GPU. We will begin by employing the DAXPY (Double-precision A*X plus Y) operation, a commonly used operation in numerical computing. This operation involves multiplying a scalar (A) with a vector (X) and adding the result to another vector (Y). We will calculate FLOPS to perform the DAXPY operation using both the CPU and GPU, respectively.\n",
        "<p>\n",
        "The DAXPY operation is executed using NumPy operations (A * X + Y). NumPy can leverage optimized implementations, and the actual computation may occur in optimized C or Fortran libraries. Therefore, a more effective way to compare speeds is by conducting matrix multiplications using TensorFlow. The second part of our code is designed to accomplish precisely this task. We will perform matrix multiplications of various-sized matrices and explore how the true advantage of GPUs lies in working with large matrices (datasets in general).\n",
        "\n"
      ],
      "metadata": {
        "id": "q-320PnYXSUo"
      }
    },
    {
      "cell_type": "markdown",
      "source": [
        "**Let us start by finding out the details of our current hadrware.**"
      ],
      "metadata": {
        "id": "vAoDcfzGbWLL"
      }
    },
    {
      "cell_type": "code",
      "source": [
        "import psutil\n",
        "import tensorflow as tf\n",
        "\n",
        "# CPU Information\n",
        "cpu_info = {\n",
        "    \"Physical Cores\": psutil.cpu_count(logical=False),\n",
        "    \"Total Cores\": psutil.cpu_count(logical=True),\n",
        "    \"CPU Frequency\": psutil.cpu_freq().current,\n",
        "    \"CPU Usage\": psutil.cpu_percent(interval=1),\n",
        "}\n",
        "\n",
        "print(\"CPU Information:\")\n",
        "for key, value in cpu_info.items():\n",
        "    print(f\"{key}: {value}\")\n",
        "\n",
        "# GPU Information\n",
        "physical_devices = tf.config.experimental.list_physical_devices('GPU')\n",
        "\n",
        "if physical_devices:\n",
        "    gpu_info = tf.config.experimental.get_device_details(physical_devices[0])\n",
        "    print(\"\\nGPU Information:\")\n",
        "    for key, value in gpu_info.items():\n",
        "        print(f\"{key}: {value}\")\n",
        "else:\n",
        "    print(\"\\nGPU not available on this machine.\")\n"
      ],
      "metadata": {
        "colab": {
          "base_uri": "https://localhost:8080/"
        },
        "id": "_H7MGDjXGtO1",
        "outputId": "ab06b25c-e0fe-43ce-c229-1cf396dfa31b"
      },
      "execution_count": 1,
      "outputs": [
        {
          "output_type": "stream",
          "name": "stdout",
          "text": [
            "CPU Information:\n",
            "Physical Cores: 1\n",
            "Total Cores: 2\n",
            "CPU Frequency: 2000.202\n",
            "CPU Usage: 14.4\n",
            "\n",
            "GPU Information:\n",
            "compute_capability: (7, 5)\n",
            "device_name: Tesla T4\n"
          ]
        }
      ]
    },
    {
      "cell_type": "markdown",
      "source": [
        "At the time of this testing, the GPU offered by Colab is Tesla T4 <br><p>\n",
        "**Specifications:** <br>\n",
        "* Turing Tensor Cores. 320. <br>\n",
        "* **NVIDIA CUDA cores. 2,560.** <br>\n",
        "* **Single Precision Performance (FP32) 8.1 TFLOPS.**<br>\n",
        "* Mixed Precision (FP16/FP32) 65 FP16 TFLOPS.<br>\n",
        "* INT8 Precision. 130 INT8 TOPS.<br>\n",
        "* INT4 Precision. 260 INT4 TOPS.<br>\n",
        "\n",
        "\n"
      ],
      "metadata": {
        "id": "TpS1oB3qQI4b"
      }
    },
    {
      "cell_type": "markdown",
      "source": [
        "**Calculating FLOPS for CPU and GPU using DAXPY**"
      ],
      "metadata": {
        "id": "WrslgBCQWPjs"
      }
    },
    {
      "cell_type": "code",
      "execution_count": 3,
      "metadata": {
        "colab": {
          "base_uri": "https://localhost:8080/"
        },
        "id": "XzHj_r9OGDRH",
        "outputId": "0ec4a765-7a13-4591-d71e-f3069d21c118"
      },
      "outputs": [
        {
          "output_type": "stream",
          "name": "stdout",
          "text": [
            "CPU FLOPS: 2.56e+08\n",
            "GPU FLOPS: 3.42e+08\n",
            "GPU is 33.41% faster than CPU.\n"
          ]
        }
      ],
      "source": [
        "import numpy as np\n",
        "import time\n",
        "import tensorflow as tf\n",
        "\n",
        "def perform_daxpy(array_size, use_gpu=False):\n",
        "    if use_gpu:\n",
        "        device = '/device:GPU:0'\n",
        "    else:\n",
        "        device = '/device:CPU:0'\n",
        "\n",
        "    with tf.device(device):\n",
        "        # Create NumPy arrays for vectors X, Y, and a scalar A\n",
        "        A = 2.0  # Scalar\n",
        "        X = np.random.rand(array_size)\n",
        "        Y = np.random.rand(array_size)\n",
        "\n",
        "        # Measure the time taken for the DAXPY operation\n",
        "        start_time = time.time()\n",
        "        result = A * X + Y\n",
        "        end_time = time.time()\n",
        "\n",
        "        # Calculate FLOPS\n",
        "        elapsed_time = end_time - start_time\n",
        "        flops = array_size / elapsed_time\n",
        "\n",
        "        return flops\n",
        "\n",
        "\n",
        "# Define the size of the array for the operation\n",
        "array_size = 10**6  #System crashes for large arrays as they may exceed system memory.\n",
        "\n",
        "# Perform DAXPY on CPU\n",
        "cpu_flops = perform_daxpy(array_size, use_gpu=False)\n",
        "print(f\"CPU FLOPS: {cpu_flops:.2e}\")\n",
        "\n",
        "# Perform DAXPY on GPU (if available)\n",
        "if tf.config.experimental.list_physical_devices('GPU'):\n",
        "    gpu_flops = perform_daxpy(array_size, use_gpu=True)\n",
        "    print(f\"GPU FLOPS: {gpu_flops:.2e}\")\n",
        "    # Calculate percent difference\n",
        "    percent_difference = abs((gpu_flops - cpu_flops) / cpu_flops) * 100\n",
        "    print(f\"GPU is {percent_difference:.2f}% faster than CPU.\")\n",
        "else:\n",
        "    print(\"GPU not available on this machine.\")\n",
        "\n"
      ]
    },
    {
      "cell_type": "markdown",
      "source": [
        "We do not see a significant advantage of GPU over CPU. This is because DAXPY is not a suitable operation for this test. Moreover, increasing the array_size for this test beyond 10**6 (at the time of this test) demands additional RAM and crashes the system. Therefore, let us continue our CPU vs GPU speed test using matrix multiplication with the TensorFlow library."
      ],
      "metadata": {
        "id": "0odJ5clZb8Ri"
      }
    },
    {
      "cell_type": "markdown",
      "source": [
        "**Testing CPU vs GPU speed using matrix multiplication**"
      ],
      "metadata": {
        "id": "VrMh_3RPcmx9"
      }
    },
    {
      "cell_type": "markdown",
      "source": [
        "Here, we will verify the GPU speed advantage over CPU for different matrix sizes. The relative efficiency of the GPU compared to the CPU can vary based on the computational demands of the specific task. <p>\n",
        "In order to make sure we start with a common base line for each matrix multiplication task, we will clear the default graph and release the GPU memory. We will also disable the eager execution in TensorFlow for the matrix multiplication task. Please note that eager execution is a mode that allows operations to be executed immediately as they are called, instead of requiring them to be explicitly executed within a session. Eager execution is enabled by default in TensorFlow 2.x. By disabling eager execution, operations are added to a computation graph, and the graph is executed within a session."
      ],
      "metadata": {
        "id": "jPU0yMMXK575"
      }
    },
    {
      "cell_type": "code",
      "source": [
        "import numpy as np\n",
        "import pandas as pd\n",
        "import time\n",
        "import tensorflow as tf\n",
        "import seaborn as sns\n",
        "import matplotlib.pyplot as plt\n",
        "\n",
        "def perform_matmul(matrix_size, use_gpu=False):\n",
        "    if use_gpu:\n",
        "        device = '/device:GPU:0'\n",
        "    else:\n",
        "        device = '/device:CPU:0'\n",
        "\n",
        "    with tf.device(device):\n",
        "        # Reset default graph and clear GPU memory\n",
        "        tf.compat.v1.reset_default_graph()\n",
        "\n",
        "        # Create NumPy arrays for matrices A and B\n",
        "        A = np.random.rand(matrix_size, matrix_size)\n",
        "        B = np.random.rand(matrix_size, matrix_size)\n",
        "\n",
        "        # Disable eager execution temporarily\n",
        "        tf.config.experimental_run_functions_eagerly(False)\n",
        "\n",
        "        # Measure the time taken for the matrix multiplication\n",
        "        start_time = time.time()\n",
        "        result = tf.matmul(A, B)\n",
        "        end_time = time.time()\n",
        "\n",
        "        # Enable eager execution again\n",
        "        tf.config.experimental_run_functions_eagerly(True)\n",
        "\n",
        "        # Calculate FLOPS\n",
        "        elapsed_time = end_time - start_time\n",
        "        flops = 2 * matrix_size**3 / elapsed_time\n",
        "\n",
        "        # Convert FLOPS to TFLOPS\n",
        "        tflops = flops / 1e12\n",
        "\n",
        "        return tflops\n",
        "\n",
        "# Matrix sizes to test\n",
        "matrix_sizes = [100, 200, 300, 400, 500, 600, 700, 800, 900, 1000,\n",
        "                5000, 7500, 10000]\n",
        "\n",
        "# Lists to store results\n",
        "data = {'Matrix Size': [], 'GPU TFLOPS': [], 'CPU TFLOPS': [], 'Percentage Speedup': []}\n",
        "\n",
        "# Loop through matrix sizes\n",
        "for matrix_size in matrix_sizes:\n",
        "    tflops_gpu = perform_matmul(matrix_size, use_gpu=True)\n",
        "    tflops_cpu = perform_matmul(matrix_size, use_gpu=False)\n",
        "\n",
        "    # Calculate percentage speedup\n",
        "    percentage_speedup = ((tflops_gpu - tflops_cpu) / tflops_cpu) * 100\n",
        "\n",
        "    # Store data in the dictionary\n",
        "    data['Matrix Size'].append(matrix_size)\n",
        "    data['GPU TFLOPS'].append(tflops_gpu)\n",
        "    data['CPU TFLOPS'].append(tflops_cpu)\n",
        "    data['Percentage Speedup'].append(percentage_speedup)\n",
        "\n",
        "    # Print results for each matrix size\n",
        "    print(f\"Matrix Size: {matrix_size}, GPU TFLOPS: {tflops_gpu}, CPU TFLOPS: {tflops_cpu}\")\n",
        "    print(f\"GPU is {percentage_speedup:.2f}% faster than CPU.\\n\")\n",
        "\n",
        "# Create a DataFrame from the collected data\n",
        "df = pd.DataFrame(data)\n",
        "\n"
      ],
      "metadata": {
        "colab": {
          "base_uri": "https://localhost:8080/"
        },
        "id": "30zogfV0R8NL",
        "outputId": "a5ac4271-ba62-494c-f884-d92ab3dd500f"
      },
      "execution_count": 4,
      "outputs": [
        {
          "output_type": "stream",
          "name": "stderr",
          "text": [
            "WARNING:tensorflow:From <ipython-input-4-130829aaae00>:23: experimental_run_functions_eagerly (from tensorflow.python.eager.polymorphic_function.eager_function_run) is deprecated and will be removed in a future version.\n",
            "Instructions for updating:\n",
            "Use `tf.config.run_functions_eagerly` instead of the experimental version.\n"
          ]
        },
        {
          "output_type": "stream",
          "name": "stdout",
          "text": [
            "Matrix Size: 100, GPU TFLOPS: 1.5799986815463578e-05, CPU TFLOPS: 0.0009599047945989244\n",
            "GPU is -98.35% faster than CPU.\n",
            "\n",
            "Matrix Size: 200, GPU TFLOPS: 0.0005992825989891232, CPU TFLOPS: 0.008634696860524961\n",
            "GPU is -93.06% faster than CPU.\n",
            "\n",
            "Matrix Size: 300, GPU TFLOPS: 0.022977824490210002, CPU TFLOPS: 0.011799552800208387\n",
            "GPU is 94.73% faster than CPU.\n",
            "\n",
            "Matrix Size: 400, GPU TFLOPS: 0.06104274155770324, CPU TFLOPS: 0.016616246115753637\n",
            "GPU is 267.37% faster than CPU.\n",
            "\n",
            "Matrix Size: 500, GPU TFLOPS: 0.06747159127469275, CPU TFLOPS: 0.015129875189380276\n",
            "GPU is 345.95% faster than CPU.\n",
            "\n",
            "Matrix Size: 600, GPU TFLOPS: 0.14157988185654008, CPU TFLOPS: 0.016796033778585268\n",
            "GPU is 742.94% faster than CPU.\n",
            "\n",
            "Matrix Size: 700, GPU TFLOPS: 0.13017656173370132, CPU TFLOPS: 0.012909661942130035\n",
            "GPU is 908.37% faster than CPU.\n",
            "\n",
            "Matrix Size: 800, GPU TFLOPS: 0.13311536637222995, CPU TFLOPS: 0.008384759526389255\n",
            "GPU is 1487.59% faster than CPU.\n",
            "\n",
            "Matrix Size: 900, GPU TFLOPS: 0.20332807660593163, CPU TFLOPS: 0.01188897272181147\n",
            "GPU is 1610.22% faster than CPU.\n",
            "\n",
            "Matrix Size: 1000, GPU TFLOPS: 0.2402924090518476, CPU TFLOPS: 0.019628948963283797\n",
            "GPU is 1124.17% faster than CPU.\n",
            "\n",
            "Matrix Size: 5000, GPU TFLOPS: 0.4808483963022526, CPU TFLOPS: 0.01889561010475879\n",
            "GPU is 2444.76% faster than CPU.\n",
            "\n",
            "Matrix Size: 7500, GPU TFLOPS: 0.5995199360050198, CPU TFLOPS: 0.019153862489447143\n",
            "GPU is 3030.02% faster than CPU.\n",
            "\n",
            "Matrix Size: 10000, GPU TFLOPS: 0.8949633686932754, CPU TFLOPS: 0.019109207790533614\n",
            "GPU is 4583.41% faster than CPU.\n",
            "\n"
          ]
        }
      ]
    },
    {
      "cell_type": "markdown",
      "source": [
        "How come CPU is faster than GPU for small matrix sizes? <br>\n",
        "For small matrices, the computational advantage of the GPU may not outweigh the associated overhead and warm-up time. As the matrix size increases, the GPU's parallel processing capability becomes more effective"
      ],
      "metadata": {
        "id": "c1DVEdwILzCG"
      }
    },
    {
      "cell_type": "code",
      "source": [
        "# Plotting the results with CPU and GPU TFLOPS, and Percentage Speedup\n",
        "fig, ax1 = plt.subplots(figsize=(10, 6))\n",
        "\n",
        "# Plot GPU TFLOPS on the primary y-axis\n",
        "gpu_tflops_line, = ax1.plot(df['Matrix Size'], df['GPU TFLOPS'], marker='o', linestyle='-', color='blue', label='GPU TFLOPS')\n",
        "cpu_tflops_line, = ax1.plot(df['Matrix Size'], df['CPU TFLOPS'], marker='o', linestyle='-', color='green', label='CPU TFLOPS')\n",
        "ax1.set_xlabel('Matrix Size')\n",
        "ax1.set_ylabel('GPU/CPU TFLOPS', color='black')\n",
        "ax1.tick_params('y', colors='black')\n",
        "\n",
        "# Create a secondary y-axis for Percentage Speedup\n",
        "ax2 = ax1.twinx()\n",
        "speedup_line, = ax2.plot(df['Matrix Size'], df['Percentage Speedup'], marker='o', linestyle='-', color='red', label='GPU Speedup')\n",
        "ax2.set_ylabel('GPU Speedup (%)', color='red')\n",
        "ax2.tick_params('y', colors='red')\n",
        "\n",
        "# Add legend\n",
        "lines = [gpu_tflops_line, cpu_tflops_line, speedup_line]\n",
        "labels = [line.get_label() for line in lines]\n",
        "ax1.legend(lines, labels, loc='upper left')\n",
        "\n",
        "plt.xscale('log')  # Use a logarithmic scale for better visualization\n",
        "plt.title('GPU Speedup Over CPU for Matrix Multiplication')\n",
        "fig.tight_layout()\n",
        "plt.show()\n"
      ],
      "metadata": {
        "colab": {
          "base_uri": "https://localhost:8080/",
          "height": 607
        },
        "id": "ZIYZqt0nStCU",
        "outputId": "86b42499-28f1-4449-f033-cfa626a7c779"
      },
      "execution_count": 5,
      "outputs": [
        {
          "output_type": "display_data",
          "data": {
            "text/plain": [
              "<Figure size 1000x600 with 2 Axes>"
            ],
            "image/png": "[encoded data removed]"
          },
          "metadata": {}
        }
      ]
    },
    {
      "cell_type": "markdown",
      "source": [
        "**Summary of our experiment:**\n",
        " <p>\n",
        " GPU is highly effective in handling larger and more computationally intensive tasks. On the other hand, the CPU's performance appears to plateau with the matrix size."
      ],
      "metadata": {
        "id": "WGAgFyaFhdyd"
      }
    },
    {
      "cell_type": "markdown",
      "source": [
        "# Forget FLOPS, it's all about the memory bandwidth!!!\n",
        "\n",
        "\n",
        "*   Memory bandwidth is a measure of how quickly data can be transferred between the processor (CPU or GPU) and the memory.\n",
        "*   High memory bandwidth is crucial for tasks that involve frequent access to large datasets (e.g., deep learning training)\n",
        "\n",
        "* Memory bandwidth becomes particularly important when dealing with large matrices, as transferring data between the processor and memory efficiently can significantly impact overall performance.\n",
        "\n",
        "\n",
        "\n",
        "\n"
      ],
      "metadata": {
        "id": "_fZDluYwRgfd"
      }
    }
  ]
}