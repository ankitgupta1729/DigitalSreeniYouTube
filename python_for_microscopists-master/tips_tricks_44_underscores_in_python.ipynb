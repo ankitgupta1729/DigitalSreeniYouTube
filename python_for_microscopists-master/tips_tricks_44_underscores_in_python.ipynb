{
  "nbformat": 4,
  "nbformat_minor": 0,
  "metadata": {
    "colab": {
      "provenance": [],
      "collapsed_sections": [],
      "mount_file_id": "1ONwxUNkDru_fx6kC2WrmStrZPOYUcrU3",
      "authorship_tag": "ABX9TyOIC0xXz+vZaIvqwKnfoEoi",
      "include_colab_link": true
    },
    "kernelspec": {
      "name": "python3",
      "display_name": "Python 3"
    },
    "language_info": {
      "name": "python"
    }
  },
  "cells": [
    {
      "cell_type": "markdown",
      "metadata": {
        "id": "view-in-github",
        "colab_type": "text"
      },
      "source": [
        "<a href=\"https://colab.research.google.com/github/bnsreenu/python_for_microscopists/blob/master/tips_tricks_44_underscores_in_python.ipynb\" target=\"_parent\"><img src=\"https://colab.research.google.com/assets/colab-badge.svg\" alt=\"Open In Colab\"/></a>"
      ]
    },
    {
      "cell_type": "markdown",
      "source": [
        "https://youtu.be/3z2XxLd1xKo"
      ],
      "metadata": {
        "id": "8voPFf7qpL0i"
      }
    },
    {
      "cell_type": "markdown",
      "source": [
        "<h2>Underscores in python​</h2><br>\n",
        "\n",
        "* Single underscore ONLY: _\n",
        "* Single underscore after: abc_\n",
        "* Single underscore before: _abc\n",
        "* Double underscore before and after: \\_\\_abc\\_\\_\n",
        "* Double underscore before: __abc\n",
        "\n",
        "\n",
        "\n"
      ],
      "metadata": {
        "id": "-havuB2zKVDW"
      }
    },
    {
      "cell_type": "markdown",
      "source": [
        "<h2>Single underscore ONLY: _</h2>\n",
        "<br>\n",
        "Commonly used for unused variables. <br>\n",
        "Used in this tutorial: https://github.com/bnsreenu/python_for_microscopists/blob/2c2b120fec17d8686572719916920bc05e3288f8/086--auto_denoise_mnist.py"
      ],
      "metadata": {
        "id": "gEQjEPxwK6nj"
      }
    },
    {
      "cell_type": "code",
      "source": [
        "from tensorflow.keras.datasets import mnist\n",
        "(x_train, y_train), (x_test, y_test) = mnist.load_data()\n",
        "print(x_train.shape)\n",
        "print(y_train.shape)\n",
        "print(x_test.shape)\n",
        "print(y_test.shape)"
      ],
      "metadata": {
        "colab": {
          "base_uri": "https://localhost:8080/"
        },
        "id": "06P5cNPfKUoe",
        "outputId": "349a78f5-13bb-4f37-9f25-17c700cb6f54"
      },
      "execution_count": null,
      "outputs": [
        {
          "output_type": "stream",
          "name": "stdout",
          "text": [
            "Downloading data from https://storage.googleapis.com/tensorflow/tf-keras-datasets/mnist.npz\n",
            "11490434/11490434 [==============================] - 0s 0us/step\n",
            "(60000, 28, 28)\n",
            "(60000,)\n",
            "(10000, 28, 28)\n",
            "(10000,)\n"
          ]
        }
      ]
    },
    {
      "cell_type": "markdown",
      "source": [
        "But, if we do not need labels (y_train and y_test), why store them under a variable? "
      ],
      "metadata": {
        "id": "lfGqRt6JLxof"
      }
    },
    {
      "cell_type": "code",
      "execution_count": null,
      "metadata": {
        "colab": {
          "base_uri": "https://localhost:8080/"
        },
        "id": "LcVafZiiKLMn",
        "outputId": "ce3538b4-254c-485a-b336-8170c845ebce"
      },
      "outputs": [
        {
          "output_type": "stream",
          "name": "stdout",
          "text": [
            "(60000, 28, 28)\n",
            "(10000, 28, 28)\n"
          ]
        }
      ],
      "source": [
        "(x_train, _), (x_test, _) = mnist.load_data()\n",
        "print(x_train.shape)\n",
        "print(x_test.shape)"
      ]
    },
    {
      "cell_type": "markdown",
      "source": [
        "The variable _ gets overwritten and the last time it got assigned remains in the memory. "
      ],
      "metadata": {
        "id": "EhFpKzeFMkNc"
      }
    },
    {
      "cell_type": "code",
      "source": [
        "_.shape"
      ],
      "metadata": {
        "colab": {
          "base_uri": "https://localhost:8080/"
        },
        "id": "i6W6fM0yMeaN",
        "outputId": "67acdb03-b22e-4e6e-8f44-996ad384cace"
      },
      "execution_count": null,
      "outputs": [
        {
          "output_type": "execute_result",
          "data": {
            "text/plain": [
              "(10000,)"
            ]
          },
          "metadata": {},
          "execution_count": 3
        }
      ]
    },
    {
      "cell_type": "markdown",
      "source": [
        "Single _ can also be used to make long numbers easily readable. "
      ],
      "metadata": {
        "id": "auJtvXM2M-jq"
      }
    },
    {
      "cell_type": "code",
      "source": [
        "my_long_number = 1_000_000_000  #9 zeros, so 1 billion\n",
        "print(my_long_number)"
      ],
      "metadata": {
        "colab": {
          "base_uri": "https://localhost:8080/"
        },
        "id": "JkeOrm6xNMZB",
        "outputId": "2818dbec-63b8-46ba-c87c-445e46e11342"
      },
      "execution_count": null,
      "outputs": [
        {
          "output_type": "stream",
          "name": "stdout",
          "text": [
            "1000000000\n"
          ]
        }
      ]
    },
    {
      "cell_type": "markdown",
      "source": [
        "<h2>Single underscore after: abc_</h2>\n",
        "Allows us to use reserved keywords as variables (e.g., id, def, class, etc.)\n"
      ],
      "metadata": {
        "id": "c6gPvarJOcs7"
      }
    },
    {
      "cell_type": "code",
      "source": [
        "class='cats'\n",
        "print(class)"
      ],
      "metadata": {
        "id": "d9TlqFLKO_3T",
        "colab": {
          "base_uri": "https://localhost:8080/",
          "height": 132
        },
        "outputId": "21eeec67-1e7e-4f16-98e8-04e29f37e477"
      },
      "execution_count": null,
      "outputs": [
        {
          "output_type": "error",
          "ename": "SyntaxError",
          "evalue": "ignored",
          "traceback": [
            "\u001b[0;36m  File \u001b[0;32m\"<ipython-input-7-b7f92a6a7c4d>\"\u001b[0;36m, line \u001b[0;32m1\u001b[0m\n\u001b[0;31m    class='cats'\u001b[0m\n\u001b[0m         ^\u001b[0m\n\u001b[0;31mSyntaxError\u001b[0m\u001b[0;31m:\u001b[0m invalid syntax\n"
          ]
        }
      ]
    },
    {
      "cell_type": "code",
      "source": [
        "class_='cats'\n",
        "print(class_)"
      ],
      "metadata": {
        "colab": {
          "base_uri": "https://localhost:8080/"
        },
        "id": "4UNtzVFFP9aL",
        "outputId": "d2b5a206-802b-425e-c024-1640bc35ba15"
      },
      "execution_count": null,
      "outputs": [
        {
          "output_type": "stream",
          "name": "stdout",
          "text": [
            "cats\n"
          ]
        }
      ]
    },
    {
      "cell_type": "markdown",
      "source": [
        "<h2>Single underscore before: _abc</h2>\n",
        "Usually represents objects/variables that are used internally. "
      ],
      "metadata": {
        "id": "bbOgTH2_QFd3"
      }
    },
    {
      "cell_type": "markdown",
      "source": [
        "Let us create an external module (python file) where we store all our variables. Let us define two variables: <br>\n",
        "a = 5 <br>\n",
        "_a = 10\n",
        "\n",
        "Let us make this module importable into our notebook by copying it to our working directory"
      ],
      "metadata": {
        "id": "W0ZVVY-nWYZn"
      }
    },
    {
      "cell_type": "code",
      "source": [
        "!cp -r '/content/drive/MyDrive/Colab Notebooks/my_variables.py' ."
      ],
      "metadata": {
        "id": "I5vIr9iSURT6"
      },
      "execution_count": null,
      "outputs": []
    },
    {
      "cell_type": "markdown",
      "source": [
        "Now, let us do a wildcard import of everything from this external module. <br>\n",
        "By the way, this type of import drives me crazy and makes debugging a nightmare!!!"
      ],
      "metadata": {
        "id": "mWE7Kzj0WxMr"
      }
    },
    {
      "cell_type": "code",
      "source": [
        "from my_variables import *"
      ],
      "metadata": {
        "id": "32yxJmzuQZu9"
      },
      "execution_count": null,
      "outputs": []
    },
    {
      "cell_type": "markdown",
      "source": [
        "Let us access the variable a"
      ],
      "metadata": {
        "id": "nDGXLjHgW-MS"
      }
    },
    {
      "cell_type": "code",
      "source": [
        "print(a)"
      ],
      "metadata": {
        "colab": {
          "base_uri": "https://localhost:8080/"
        },
        "id": "UjiJu87XQsKW",
        "outputId": "2d8e2cf0-ebf2-480a-ee32-c46d49fd2f58"
      },
      "execution_count": null,
      "outputs": [
        {
          "output_type": "stream",
          "name": "stdout",
          "text": [
            "5\n"
          ]
        }
      ]
    },
    {
      "cell_type": "markdown",
      "source": [
        "Let us access the variable _a <br>\n",
        "It should fail to recognize this variable. "
      ],
      "metadata": {
        "id": "9cJWlFZXXBB4"
      }
    },
    {
      "cell_type": "code",
      "source": [
        "print(_a)"
      ],
      "metadata": {
        "colab": {
          "base_uri": "https://localhost:8080/",
          "height": 166
        },
        "id": "e5BiFh9vWClq",
        "outputId": "fe8098e5-4fae-4bb7-e3e0-cb17cc75f208"
      },
      "execution_count": null,
      "outputs": [
        {
          "output_type": "error",
          "ename": "NameError",
          "evalue": "ignored",
          "traceback": [
            "\u001b[0;31m---------------------------------------------------------------------------\u001b[0m",
            "\u001b[0;31mNameError\u001b[0m                                 Traceback (most recent call last)",
            "\u001b[0;32m<ipython-input-12-b38268ef8da7>\u001b[0m in \u001b[0;36m<module>\u001b[0;34m\u001b[0m\n\u001b[0;32m----> 1\u001b[0;31m \u001b[0mprint\u001b[0m\u001b[0;34m(\u001b[0m\u001b[0m_a\u001b[0m\u001b[0;34m)\u001b[0m\u001b[0;34m\u001b[0m\u001b[0;34m\u001b[0m\u001b[0m\n\u001b[0m",
            "\u001b[0;31mNameError\u001b[0m: name '_a' is not defined"
          ]
        }
      ]
    },
    {
      "cell_type": "markdown",
      "source": [
        "The private variable can be accessed if we call it directly. "
      ],
      "metadata": {
        "id": "15-AkpbIXN1Q"
      }
    },
    {
      "cell_type": "code",
      "source": [
        "import my_variables\n",
        "print(my_variables.a)\n",
        "print(my_variables._a)"
      ],
      "metadata": {
        "colab": {
          "base_uri": "https://localhost:8080/"
        },
        "id": "Q5rG3ukOWD_R",
        "outputId": "0c5239a4-a60e-4d8d-b605-4ddea57cae69"
      },
      "execution_count": null,
      "outputs": [
        {
          "output_type": "stream",
          "name": "stdout",
          "text": [
            "5\n",
            "10\n"
          ]
        }
      ]
    },
    {
      "cell_type": "markdown",
      "source": [
        "<h2>Double underscore before and after: __abc__</h2>\n",
        "These are used under 'dunder' class methods and dunder literally stands for Double Underscore. <br>\n",
        "We are familiar with our constructor of class: __init__ which creates an instance of a class. \n",
        "\n"
      ],
      "metadata": {
        "id": "ZRu2bK30XVjQ"
      }
    },
    {
      "cell_type": "code",
      "source": [
        "class person:\n",
        "\n",
        "  def __init__(self, first_name, age_in_years):\n",
        "\n",
        "    self.name = first_name\n",
        "    self.age = age_in_years"
      ],
      "metadata": {
        "id": "QanapEALZMi9"
      },
      "execution_count": null,
      "outputs": []
    },
    {
      "cell_type": "markdown",
      "source": [
        "Create an object"
      ],
      "metadata": {
        "id": "awKncEvSZehB"
      }
    },
    {
      "cell_type": "code",
      "source": [
        "sreeni = person('sreenivas', 21)"
      ],
      "metadata": {
        "id": "vqz7-FBbZfpo"
      },
      "execution_count": null,
      "outputs": []
    },
    {
      "cell_type": "code",
      "source": [
        "print(sreeni)"
      ],
      "metadata": {
        "colab": {
          "base_uri": "https://localhost:8080/"
        },
        "id": "iCfoGRZ2ZnlA",
        "outputId": "78078756-4066-4514-a0c0-5d4d047c142b"
      },
      "execution_count": null,
      "outputs": [
        {
          "output_type": "stream",
          "name": "stdout",
          "text": [
            "<__main__.person object at 0x7f1f6b661310>\n"
          ]
        }
      ]
    },
    {
      "cell_type": "code",
      "source": [
        "print(sreeni.name)"
      ],
      "metadata": {
        "colab": {
          "base_uri": "https://localhost:8080/"
        },
        "id": "sy1YTS9-Z1OJ",
        "outputId": "84b88dab-0dab-4ca2-eb7d-5cbc9e54a5b7"
      },
      "execution_count": null,
      "outputs": [
        {
          "output_type": "stream",
          "name": "stdout",
          "text": [
            "sreenivas\n"
          ]
        }
      ]
    },
    {
      "cell_type": "markdown",
      "source": [
        "What in the world is: if \\_\\_name\\_\\_ == \"\\_\\_main\\_\\_\"? <br>\n",
        "\n",
        "Python files are referred to as modules. When an interpreter runs a file (module) containing variables, functions, and classes, the \\_\\_name\\_\\_ variable will be set as \\_\\_main\\_\\_ if the module that is being run is the main program.\n",
        "<br>\n",
        "If a module is imported from another file (module), then the \\_\\_name\\_\\_  variable will be set to that module’s name.\n"
      ],
      "metadata": {
        "id": "AvIR8KbQcPWm"
      }
    },
    {
      "cell_type": "code",
      "source": [
        "print(\"This file's __name__ is set to: \", (__name__))"
      ],
      "metadata": {
        "colab": {
          "base_uri": "https://localhost:8080/"
        },
        "id": "BudDWj2NckXJ",
        "outputId": "b0ab2f0a-15c0-4be2-8435-5ce2c9f9545c"
      },
      "execution_count": null,
      "outputs": [
        {
          "output_type": "stream",
          "name": "stdout",
          "text": [
            "This file's __name__ is set to:  __main__\n"
          ]
        }
      ]
    },
    {
      "cell_type": "markdown",
      "source": [
        "Earlier in this file, we imported a module called my_variables. When you check the \\_\\_name\\_\\_ of that module you'd get my_variables"
      ],
      "metadata": {
        "id": "XdYJEuB-e4Vq"
      }
    },
    {
      "cell_type": "code",
      "source": [
        "my_variables.__name__"
      ],
      "metadata": {
        "colab": {
          "base_uri": "https://localhost:8080/",
          "height": 35
        },
        "id": "Q9DWETjjby-E",
        "outputId": "b52b3f53-bbe7-4783-ca5c-ba19e5fe8da1"
      },
      "execution_count": null,
      "outputs": [
        {
          "output_type": "execute_result",
          "data": {
            "text/plain": [
              "'my_variables'"
            ],
            "application/vnd.google.colaboratory.intrinsic+json": {
              "type": "string"
            }
          },
          "metadata": {},
          "execution_count": 20
        }
      ]
    },
    {
      "cell_type": "code",
      "source": [],
      "metadata": {
        "id": "hbOBmTGSyHPl"
      },
      "execution_count": null,
      "outputs": []
    },
    {
      "cell_type": "markdown",
      "source": [
        "Let us run the following function. <br>\n",
        "You will not see any output. "
      ],
      "metadata": {
        "id": "oensdVsbfxK6"
      }
    },
    {
      "cell_type": "code",
      "source": [
        "def my_function():\n",
        "  sum = 3+4\n",
        "  return print(\"Sum of 3 and 4 is: \", sum)"
      ],
      "metadata": {
        "id": "UTPgUKBDfGZH"
      },
      "execution_count": null,
      "outputs": []
    },
    {
      "cell_type": "markdown",
      "source": [
        "Let us run the same function, this time with: if \\_\\_name\\_\\_ == \"\\_\\_main\\_\\_\""
      ],
      "metadata": {
        "id": "0uqiME-Ef2Vj"
      }
    },
    {
      "cell_type": "code",
      "source": [
        "def my_function():\n",
        "  sum = 3+4\n",
        "  return print(\"Sum of 3 and 4 is: \", sum)\n",
        "\n",
        "if __name__ == \"__main__\":\n",
        "   my_function()"
      ],
      "metadata": {
        "colab": {
          "base_uri": "https://localhost:8080/"
        },
        "id": "Sa_AyduAftYV",
        "outputId": "ffcc605e-c0ea-4fc4-8c85-ced6faf414f2"
      },
      "execution_count": null,
      "outputs": [
        {
          "output_type": "stream",
          "name": "stdout",
          "text": [
            "Sum of 3 and 4 is:  7\n"
          ]
        }
      ]
    },
    {
      "cell_type": "markdown",
      "source": [
        "<h2>Double underscore before: __abc</h2>\n",
        "<br>\n",
        "Used for name mangling - process that overwrites identifiers in a class to avoid conflicts of names between the current class and its subclasses. <br>\n",
        "In other words, __abc will have a different name in the class."
      ],
      "metadata": {
        "id": "woWazRPerPVA"
      }
    },
    {
      "cell_type": "code",
      "source": [
        "class person:\n",
        "\n",
        "  def __init__(self):\n",
        "\n",
        "    self.name = 'Sreenivas'\n",
        "    self._age = 21  #Single underscore\n",
        "    self.__nick_name = \"Sreeni\"  #Double underscore\n",
        "\n",
        "myself = person()"
      ],
      "metadata": {
        "id": "VCd-HQpariXT"
      },
      "execution_count": null,
      "outputs": []
    },
    {
      "cell_type": "code",
      "source": [
        "print(dir(myself))"
      ],
      "metadata": {
        "colab": {
          "base_uri": "https://localhost:8080/"
        },
        "id": "D5cylDmmsM4M",
        "outputId": "10996867-bcd8-48de-fe21-ecb840eac9c5"
      },
      "execution_count": null,
      "outputs": [
        {
          "output_type": "stream",
          "name": "stdout",
          "text": [
            "['__class__', '__delattr__', '__dict__', '__dir__', '__doc__', '__eq__', '__format__', '__ge__', '__getattribute__', '__gt__', '__hash__', '__init__', '__init_subclass__', '__le__', '__lt__', '__module__', '__ne__', '__new__', '__reduce__', '__reduce_ex__', '__repr__', '__setattr__', '__sizeof__', '__str__', '__subclasshook__', '__weakref__', '_age', '_person__nick_name', 'name']\n"
          ]
        }
      ]
    },
    {
      "cell_type": "code",
      "source": [
        "print(myself.name)\n",
        "print(myself._person__nick_name)"
      ],
      "metadata": {
        "colab": {
          "base_uri": "https://localhost:8080/"
        },
        "id": "1HRiJvXEwMpj",
        "outputId": "8d5ec6c1-59b2-46e1-e035-9a05f7ece2c2"
      },
      "execution_count": null,
      "outputs": [
        {
          "output_type": "stream",
          "name": "stdout",
          "text": [
            "Sreenivas\n",
            "Sreeni\n"
          ]
        }
      ]
    },
    {
      "cell_type": "markdown",
      "source": [
        "'name and '_age' are available but \\_\\_nick_name is available as _person\\_\\_nick_name. <br> This way the \\_\\_nick_name class cannot be overwritten in subclasses. "
      ],
      "metadata": {
        "id": "EPMWXKjltMc4"
      }
    },
    {
      "cell_type": "code",
      "source": [
        "class another_person(person):\n",
        "  def __init__(self):\n",
        "    super(another_person, self).__init__()\n",
        "    self.name = \"David\"\n",
        "    self._age = 42\n",
        "    self.__nick_name = \"Dave\"\n",
        "\n",
        "not_myself = another_person()"
      ],
      "metadata": {
        "id": "f4wkvCdTuEVV"
      },
      "execution_count": null,
      "outputs": []
    },
    {
      "cell_type": "code",
      "source": [
        "print(dir(not_myself))"
      ],
      "metadata": {
        "colab": {
          "base_uri": "https://localhost:8080/"
        },
        "id": "68j996Jhuhux",
        "outputId": "5fca7c8d-5c07-4246-853e-94aa28b474e6"
      },
      "execution_count": null,
      "outputs": [
        {
          "output_type": "stream",
          "name": "stdout",
          "text": [
            "['__class__', '__delattr__', '__dict__', '__dir__', '__doc__', '__eq__', '__format__', '__ge__', '__getattribute__', '__gt__', '__hash__', '__init__', '__init_subclass__', '__le__', '__lt__', '__module__', '__ne__', '__new__', '__reduce__', '__reduce_ex__', '__repr__', '__setattr__', '__sizeof__', '__str__', '__subclasshook__', '__weakref__', '_age', '_another_person__nick_name', '_person__nick_name', 'name']\n"
          ]
        }
      ]
    },
    {
      "cell_type": "markdown",
      "source": [
        "'name' and '_age' are overwritten but not '\\_\\_nick_name'<br>\n",
        "Both '_another_person\\_\\_nick_name' and '_person\\_\\_nick_name' are available"
      ],
      "metadata": {
        "id": "vKeyxBRvu_Qj"
      }
    },
    {
      "cell_type": "code",
      "source": [
        "\n",
        "print(not_myself.name) #Overwritten with new name\n",
        "print(not_myself._another_person__nick_name) #New nick name\n",
        "print(not_myself._person__nick_name) #Old nick name still available"
      ],
      "metadata": {
        "colab": {
          "base_uri": "https://localhost:8080/"
        },
        "id": "PqiUoM59vSdK",
        "outputId": "b1d625af-7ae9-4280-baa8-4430222fac19"
      },
      "execution_count": null,
      "outputs": [
        {
          "output_type": "stream",
          "name": "stdout",
          "text": [
            "David\n",
            "Dave\n",
            "Sreeni\n"
          ]
        }
      ]
    }
  ]
}