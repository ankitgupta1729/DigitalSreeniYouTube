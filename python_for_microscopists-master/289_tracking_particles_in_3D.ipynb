{
  "nbformat": 4,
  "nbformat_minor": 0,
  "metadata": {
    "colab": {
      "provenance": [],
      "collapsed_sections": [],
      "mount_file_id": "1sGB4509dtXobh8durkSbUU1uB7kp1wdH",
      "authorship_tag": "ABX9TyMEq5hoSTcoMzG8aW1nbwEM",
      "include_colab_link": true
    },
    "kernelspec": {
      "name": "python3",
      "display_name": "Python 3"
    },
    "language_info": {
      "name": "python"
    },
    "gpuClass": "standard"
  },
  "cells": [
    {
      "cell_type": "markdown",
      "metadata": {
        "id": "view-in-github",
        "colab_type": "text"
      },
      "source": [
        "<a href=\"https://colab.research.google.com/github/bnsreenu/python_for_microscopists/blob/master/289_tracking_particles_in_3D.ipynb\" target=\"_parent\"><img src=\"https://colab.research.google.com/assets/colab-badge.svg\" alt=\"Open In Colab\"/></a>"
      ]
    },
    {
      "cell_type": "markdown",
      "source": [
        "# **Tracking particles in 3D**\n",
        "\n",
        "https://youtu.be/vqmavdOcjrU\n",
        "\n"
      ],
      "metadata": {
        "id": "Ltl-3uZuktqq"
      }
    },
    {
      "cell_type": "markdown",
      "source": [
        "Trackpy installation: http://soft-matter.github.io/trackpy/dev/installation.html\n",
        "\n",
        "Trackpy strongly recommends using Conda and not pip. Therefore, we need to set up conda environment for our colab notebook. \n",
        "\n",
        "This specific topic has been covered in a separate tutorial: https://youtu.be/v4qskw8EHXQ\n",
        "\n",
        "For more examples of trackpy and to download sample data sets: https://github.com/soft-matter/trackpy-examples"
      ],
      "metadata": {
        "id": "9O9WZqwgWRGX"
      }
    },
    {
      "cell_type": "markdown",
      "source": [
        "Let us start by understanding the current python version in our colab and installing the corresponding conda environment. "
      ],
      "metadata": {
        "id": "-oKxTS9sZGOb"
      }
    },
    {
      "cell_type": "code",
      "execution_count": null,
      "metadata": {
        "id": "RDHRimB7Vjs8",
        "colab": {
          "base_uri": "https://localhost:8080/"
        },
        "outputId": "c0481fa2-0036-4105-fdd5-af7b7b161307"
      },
      "outputs": [
        {
          "output_type": "stream",
          "name": "stdout",
          "text": [
            "/usr/local/bin/python\n",
            "Python 3.7.13\n"
          ]
        }
      ],
      "source": [
        "!which python\n",
        "!python --version"
      ]
    },
    {
      "cell_type": "markdown",
      "source": [
        "It gives python 3.7.13.\n",
        "https://docs.conda.io/en/latest/miniconda.html#system-requirements\n",
        "The documentation recommends miniconda 4.12.0 for python 3.7 Linux 64 bit\n",
        "\n",
        "Let us reset the default python path for colab. Just to make sure we do not run into any issues later when miniconda installs its own version of python. "
      ],
      "metadata": {
        "id": "NIZ3OZpvZjPL"
      }
    },
    {
      "cell_type": "code",
      "source": [
        "!echo $PYTHONPATH"
      ],
      "metadata": {
        "id": "EUxNfBrSWJih",
        "colab": {
          "base_uri": "https://localhost:8080/"
        },
        "outputId": "c14113ac-4031-42ad-88ef-bd0427f98cee"
      },
      "execution_count": null,
      "outputs": [
        {
          "output_type": "stream",
          "name": "stdout",
          "text": [
            "/env/python\n"
          ]
        }
      ]
    },
    {
      "cell_type": "code",
      "source": [
        "%env PYTHONPATH="
      ],
      "metadata": {
        "id": "NQKuXwpNWPkM",
        "colab": {
          "base_uri": "https://localhost:8080/"
        },
        "outputId": "84a249bc-dec7-405c-ae64-3837f646a24c"
      },
      "execution_count": null,
      "outputs": [
        {
          "output_type": "stream",
          "name": "stdout",
          "text": [
            "env: PYTHONPATH=\n"
          ]
        }
      ]
    },
    {
      "cell_type": "code",
      "source": [
        "%%bash\n",
        "MINICONDA_INSTALLER_SCRIPT=Miniconda3-py37_4.12.0-Linux-x86_64.sh\n",
        "MINICONDA_PREFIX=/usr/local\n",
        "wget https://repo.continuum.io/miniconda/$MINICONDA_INSTALLER_SCRIPT\n",
        "chmod +x $MINICONDA_INSTALLER_SCRIPT\n",
        "./$MINICONDA_INSTALLER_SCRIPT -b -f -p $MINICONDA_PREFIX"
      ],
      "metadata": {
        "id": "cQfgqkXzWggd"
      },
      "execution_count": null,
      "outputs": []
    },
    {
      "cell_type": "markdown",
      "source": [
        "Verify to see if the conda executable is available"
      ],
      "metadata": {
        "id": "0mb7VEk5Zq5b"
      }
    },
    {
      "cell_type": "code",
      "source": [
        "!which conda # should return /usr/local/bin/conda"
      ],
      "metadata": {
        "id": "ElMwj5xUWrG1",
        "colab": {
          "base_uri": "https://localhost:8080/"
        },
        "outputId": "9033c572-913a-4a2e-d0bc-7594e7238b20"
      },
      "execution_count": null,
      "outputs": [
        {
          "output_type": "stream",
          "name": "stdout",
          "text": [
            "/usr/local/bin/conda\n"
          ]
        }
      ]
    },
    {
      "cell_type": "markdown",
      "source": [
        "Confirm the conda version"
      ],
      "metadata": {
        "id": "aGdK_a47Zxbm"
      }
    },
    {
      "cell_type": "code",
      "source": [
        "!conda --version # should return 4.12.0"
      ],
      "metadata": {
        "id": "Lr1325GLWtss",
        "colab": {
          "base_uri": "https://localhost:8080/"
        },
        "outputId": "7415a0e0-e112-4582-b4f7-44da95697ba7"
      },
      "execution_count": null,
      "outputs": [
        {
          "output_type": "stream",
          "name": "stdout",
          "text": [
            "conda 4.12.0\n"
          ]
        }
      ]
    },
    {
      "cell_type": "markdown",
      "source": [
        "Update conda"
      ],
      "metadata": {
        "id": "rqg4jJvmZ0Vj"
      }
    },
    {
      "cell_type": "code",
      "source": [
        "%%bash\n",
        "conda install --channel defaults conda python=3.7 --yes\n",
        "conda update --channel defaults --all --yes"
      ],
      "metadata": {
        "id": "wnGYfHvFW0-I",
        "colab": {
          "base_uri": "https://localhost:8080/"
        },
        "outputId": "6b62a650-e603-4833-ecd9-5f34e54e94d2"
      },
      "execution_count": null,
      "outputs": [
        {
          "output_type": "stream",
          "name": "stdout",
          "text": [
            "Collecting package metadata (current_repodata.json): ...working... done\n",
            "Solving environment: ...working... done\n",
            "\n",
            "## Package Plan ##\n",
            "\n",
            "  environment location: /usr/local\n",
            "\n",
            "  added / updated specs:\n",
            "    - conda\n",
            "    - python=3.7\n",
            "\n",
            "\n",
            "The following packages will be downloaded:\n",
            "\n",
            "    package                    |            build\n",
            "    ---------------------------|-----------------\n",
            "    ca-certificates-2022.4.26  |       h06a4308_0         124 KB\n",
            "    certifi-2022.6.15          |   py37h06a4308_0         153 KB\n",
            "    conda-4.13.0               |   py37h06a4308_0         890 KB\n",
            "    ------------------------------------------------------------\n",
            "                                           Total:         1.1 MB\n",
            "\n",
            "The following packages will be UPDATED:\n",
            "\n",
            "  ca-certificates                      2022.3.29-h06a4308_1 --> 2022.4.26-h06a4308_0\n",
            "  certifi                          2021.10.8-py37h06a4308_2 --> 2022.6.15-py37h06a4308_0\n",
            "  conda                               4.12.0-py37h06a4308_0 --> 4.13.0-py37h06a4308_0\n",
            "\n",
            "\n",
            "\n",
            "Downloading and Extracting Packages\n",
            "\rconda-4.13.0         | 890 KB    |            |   0% \rconda-4.13.0         | 890 KB    | ##8        |  29% \rconda-4.13.0         | 890 KB    | ########## | 100% \n",
            "\rcertifi-2022.6.15    | 153 KB    |            |   0% \rcertifi-2022.6.15    | 153 KB    | ########## | 100% \n",
            "\rca-certificates-2022 | 124 KB    |            |   0% \rca-certificates-2022 | 124 KB    | ########## | 100% \n",
            "Preparing transaction: ...working... done\n",
            "Verifying transaction: ...working... done\n",
            "Executing transaction: ...working... done\n",
            "Collecting package metadata (current_repodata.json): ...working... done\n",
            "Solving environment: ...working... done\n",
            "\n",
            "## Package Plan ##\n",
            "\n",
            "  environment location: /usr/local\n",
            "\n",
            "\n",
            "The following packages will be downloaded:\n",
            "\n",
            "    package                    |            build\n",
            "    ---------------------------|-----------------\n",
            "    _openmp_mutex-5.1          |            1_gnu          21 KB\n",
            "    cryptography-37.0.1        |   py37h9ce1e76_0         1.3 MB\n",
            "    ld_impl_linux-64-2.38      |       h1181459_1         654 KB\n",
            "    libgcc-ng-11.2.0           |       h1234567_1         5.3 MB\n",
            "    libgomp-11.2.0             |       h1234567_1         474 KB\n",
            "    libstdcxx-ng-11.2.0        |       h1234567_1         4.7 MB\n",
            "    ncurses-6.3                |       h5eee18b_3         781 KB\n",
            "    openssl-1.1.1p             |       h5eee18b_0         2.5 MB\n",
            "    requests-2.28.0            |   py37h06a4308_0          93 KB\n",
            "    sqlite-3.38.5              |       hc218d9a_0         1.0 MB\n",
            "    tk-8.6.12                  |       h1ccaba5_0         3.0 MB\n",
            "    tqdm-4.64.0                |   py37h06a4308_0         126 KB\n",
            "    urllib3-1.26.9             |   py37h06a4308_0         180 KB\n",
            "    xz-5.2.5                   |       h7f8727e_1         339 KB\n",
            "    zlib-1.2.12                |       h7f8727e_2         106 KB\n",
            "    ------------------------------------------------------------\n",
            "                                           Total:        20.6 MB\n",
            "\n",
            "The following packages will be REMOVED:\n",
            "\n",
            "  colorama-0.4.4-pyhd3eb1b0_0\n",
            "  conda-content-trust-0.1.1-pyhd3eb1b0_0\n",
            "  six-1.16.0-pyhd3eb1b0_1\n",
            "\n",
            "The following packages will be UPDATED:\n",
            "\n",
            "  _openmp_mutex                                   4.5-1_gnu --> 5.1-1_gnu\n",
            "  cryptography                        36.0.0-py37h9ce1e76_0 --> 37.0.1-py37h9ce1e76_0\n",
            "  ld_impl_linux-64                        2.35.1-h7274673_9 --> 2.38-h1181459_1\n",
            "  libgcc-ng                               9.3.0-h5101ec6_17 --> 11.2.0-h1234567_1\n",
            "  libgomp                                 9.3.0-h5101ec6_17 --> 11.2.0-h1234567_1\n",
            "  libstdcxx-ng                            9.3.0-hd4cf53a_17 --> 11.2.0-h1234567_1\n",
            "  ncurses                                    6.3-h7f8727e_2 --> 6.3-h5eee18b_3\n",
            "  openssl                                 1.1.1n-h7f8727e_0 --> 1.1.1p-h5eee18b_0\n",
            "  requests           pkgs/main/noarch::requests-2.27.1-pyh~ --> pkgs/main/linux-64::requests-2.28.0-py37h06a4308_0\n",
            "  sqlite                                  3.38.2-hc218d9a_0 --> 3.38.5-hc218d9a_0\n",
            "  tk                                      8.6.11-h1ccaba5_0 --> 8.6.12-h1ccaba5_0\n",
            "  tqdm               pkgs/main/noarch::tqdm-4.63.0-pyhd3eb~ --> pkgs/main/linux-64::tqdm-4.64.0-py37h06a4308_0\n",
            "  urllib3            pkgs/main/noarch::urllib3-1.26.8-pyhd~ --> pkgs/main/linux-64::urllib3-1.26.9-py37h06a4308_0\n",
            "  xz                                       5.2.5-h7b6447c_0 --> 5.2.5-h7f8727e_1\n",
            "  zlib                                    1.2.12-h7f8727e_1 --> 1.2.12-h7f8727e_2\n",
            "\n",
            "\n",
            "\n",
            "Downloading and Extracting Packages\n",
            "\rxz-5.2.5             | 339 KB    |            |   0% \rxz-5.2.5             | 339 KB    | ########## | 100% \rxz-5.2.5             | 339 KB    | ########## | 100% \n",
            "\rzlib-1.2.12          | 106 KB    |            |   0% \rzlib-1.2.12          | 106 KB    | ########## | 100% \n",
            "\rlibgcc-ng-11.2.0     | 5.3 MB    |            |   0% \rlibgcc-ng-11.2.0     | 5.3 MB    | ########## | 100% \rlibgcc-ng-11.2.0     | 5.3 MB    | ########## | 100% \n",
            "\rld_impl_linux-64-2.3 | 654 KB    |            |   0% \rld_impl_linux-64-2.3 | 654 KB    | ########## | 100% \n",
            "\rtk-8.6.12            | 3.0 MB    |            |   0% \rtk-8.6.12            | 3.0 MB    | ########## | 100% \rtk-8.6.12            | 3.0 MB    | ########## | 100% \n",
            "\rsqlite-3.38.5        | 1.0 MB    |            |   0% \rsqlite-3.38.5        | 1.0 MB    | ########## | 100% \n",
            "\ropenssl-1.1.1p       | 2.5 MB    |            |   0% \ropenssl-1.1.1p       | 2.5 MB    | ########## | 100% \ropenssl-1.1.1p       | 2.5 MB    | ########## | 100% \n",
            "\rtqdm-4.64.0          | 126 KB    |            |   0% \rtqdm-4.64.0          | 126 KB    | ########## | 100% \n",
            "\rurllib3-1.26.9       | 180 KB    |            |   0% \rurllib3-1.26.9       | 180 KB    | ########## | 100% \n",
            "\rcryptography-37.0.1  | 1.3 MB    |            |   0% \rcryptography-37.0.1  | 1.3 MB    | ########## | 100% \rcryptography-37.0.1  | 1.3 MB    | ########## | 100% \n",
            "\r_openmp_mutex-5.1    | 21 KB     |            |   0% \r_openmp_mutex-5.1    | 21 KB     | ########## | 100% \n",
            "\rlibstdcxx-ng-11.2.0  | 4.7 MB    |            |   0% \rlibstdcxx-ng-11.2.0  | 4.7 MB    | ########## | 100% \rlibstdcxx-ng-11.2.0  | 4.7 MB    | ########## | 100% \n",
            "\rlibgomp-11.2.0       | 474 KB    |            |   0% \rlibgomp-11.2.0       | 474 KB    | ########## | 100% \n",
            "\rrequests-2.28.0      | 93 KB     |            |   0% \rrequests-2.28.0      | 93 KB     | ########## | 100% \n",
            "\rncurses-6.3          | 781 KB    |            |   0% \rncurses-6.3          | 781 KB    | ########## | 100% \rncurses-6.3          | 781 KB    | ########## | 100% \n",
            "Preparing transaction: ...working... done\n",
            "Verifying transaction: ...working... done\n",
            "Executing transaction: ...working... done\n"
          ]
        }
      ]
    },
    {
      "cell_type": "code",
      "source": [
        "!conda --version "
      ],
      "metadata": {
        "id": "PY9tivXBW4YE",
        "colab": {
          "base_uri": "https://localhost:8080/"
        },
        "outputId": "8f62ba33-b684-4ae3-9ed9-99ad0fefee69"
      },
      "execution_count": null,
      "outputs": [
        {
          "output_type": "stream",
          "name": "stdout",
          "text": [
            "conda 4.13.0\n"
          ]
        }
      ]
    },
    {
      "cell_type": "code",
      "source": [
        "!python --version"
      ],
      "metadata": {
        "id": "AEQv2ILlW6ec",
        "colab": {
          "base_uri": "https://localhost:8080/"
        },
        "outputId": "c71fb382-e6d5-445e-aa56-287461774ec3"
      },
      "execution_count": null,
      "outputs": [
        {
          "output_type": "stream",
          "name": "stdout",
          "text": [
            "Python 3.7.13\n"
          ]
        }
      ]
    },
    {
      "cell_type": "markdown",
      "source": [
        "Provide directory where site packages are installed within miniconda\n",
        "\n",
        "First, check the current paths."
      ],
      "metadata": {
        "id": "itfwlH7FZ3FE"
      }
    },
    {
      "cell_type": "code",
      "source": [
        "import sys\n",
        "sys.path"
      ],
      "metadata": {
        "id": "k15koYw6XAXp",
        "colab": {
          "base_uri": "https://localhost:8080/"
        },
        "outputId": "f96ed262-74b5-4416-e008-26b32a9254d1"
      },
      "execution_count": null,
      "outputs": [
        {
          "output_type": "execute_result",
          "data": {
            "text/plain": [
              "['',\n",
              " '/content',\n",
              " '/env/python',\n",
              " '/usr/lib/python37.zip',\n",
              " '/usr/lib/python3.7',\n",
              " '/usr/lib/python3.7/lib-dynload',\n",
              " '/usr/local/lib/python3.7/dist-packages',\n",
              " '/usr/lib/python3/dist-packages',\n",
              " '/usr/local/lib/python3.7/dist-packages/IPython/extensions',\n",
              " '/root/.ipython']"
            ]
          },
          "metadata": {},
          "execution_count": 10
        }
      ]
    },
    {
      "cell_type": "markdown",
      "source": [
        "Now add the path for our site-packages"
      ],
      "metadata": {
        "id": "0a1TRiTXZ7NG"
      }
    },
    {
      "cell_type": "code",
      "source": [
        "import sys\n",
        "_ = (sys.path\n",
        "        .append(\"/usr/local/lib/python3.7/site-packages\"))"
      ],
      "metadata": {
        "id": "EzAI-e03XHrN"
      },
      "execution_count": null,
      "outputs": []
    },
    {
      "cell_type": "markdown",
      "source": [
        "Now, we are all set to install trackpy library using conda.\n",
        "\n",
        "Please note that you will be prompted to answer Yes/No a couple of times."
      ],
      "metadata": {
        "id": "FJKO0JPEZ9mO"
      }
    },
    {
      "cell_type": "code",
      "source": [
        "!conda install -c conda-forge trackpy\n",
        "#!conda install -c conda-forge pims"
      ],
      "metadata": {
        "id": "VzW99yxyXcJK",
        "colab": {
          "base_uri": "https://localhost:8080/"
        },
        "outputId": "bd38cab8-0835-40fe-96ea-a9dacdcf9fcd"
      },
      "execution_count": null,
      "outputs": [
        {
          "output_type": "stream",
          "name": "stdout",
          "text": [
            "Collecting package metadata (current_repodata.json): - \b\b\\ \b\b| \b\b/ \b\b- \b\b\\ \b\b| \b\b/ \b\b- \b\b\\ \b\b| \b\b/ \b\b- \b\b\\ \b\b| \b\b/ \b\b- \b\b\\ \b\b| \b\b/ \b\b- \b\b\\ \b\b| \b\b/ \b\b- \b\b\\ \b\b| \b\b/ \b\b- \b\b\\ \b\b| \b\b/ \b\b- \b\b\\ \b\b| \b\b/ \b\b- \b\b\\ \b\b| \b\b/ \b\b- \b\b\\ \b\b| \b\b/ \b\b- \b\b\\ \b\b| \b\b/ \b\b- \b\b\\ \b\b| \b\b/ \b\b- \b\b\\ \b\b| \b\b/ \b\b- \b\b\\ \b\b| \b\b/ \b\b- \b\b\\ \b\b| \b\b/ \b\b- \b\b\\ \b\b| \b\b/ \b\b- \b\b\\ \b\b| \b\b/ \b\b- \b\b\\ \b\b| \b\b/ \b\b- \b\b\\ \b\b| \b\b/ \b\b- \b\b\\ \b\b| \b\b/ \b\b- \b\b\\ \b\b| \b\b/ \b\b- \b\b\\ \b\b| \b\b/ \b\b- \b\b\\ \b\b| \b\b/ \b\b- \b\b\\ \b\b| \b\b/ \b\b- \b\b\\ \b\b| \b\b/ \b\b- \b\b\\ \b\b| \b\b/ \b\b- \b\b\\ \b\b| \b\b/ \b\b- \b\b\\ \b\b| \b\b/ \b\b- \b\b\\ \b\b| \b\b/ \b\b- \b\b\\ \b\b| \b\b/ \b\b- \b\b\\ \b\b| \b\b/ \b\b- \b\b\\ \b\b| \b\b/ \b\b- \b\b\\ \b\b| \b\b/ \b\b- \b\b\\ \b\b| \b\b/ \b\bdone\n",
            "Solving environment: \\ \b\b| \b\b/ \b\b- \b\b\\ \b\b| \b\b/ \b\b- \b\b\\ \b\b| \b\b/ \b\b- \b\b\\ \b\b| \b\b/ \b\b- \b\b\\ \b\b| \b\b/ \b\b- \b\b\\ \b\b| \b\b/ \b\b- \b\b\\ \b\b| \b\b/ \b\b- \b\b\\ \b\b| \b\b/ \b\b- \b\b\\ \b\b| \b\b/ \b\b- \b\b\\ \b\b| \b\b/ \b\b- \b\b\\ \b\b| \b\b/ \b\b- \b\b\\ \b\b| \b\b/ \b\b- \b\b\\ \b\bdone\n",
            "\n",
            "## Package Plan ##\n",
            "\n",
            "  environment location: /usr/local\n",
            "\n",
            "  added / updated specs:\n",
            "    - trackpy\n",
            "\n",
            "\n",
            "The following packages will be downloaded:\n",
            "\n",
            "    package                    |            build\n",
            "    ---------------------------|-----------------\n",
            "    bottleneck-1.3.5           |   py37h7deecbd_0         115 KB\n",
            "    ca-certificates-2022.6.15  |       ha878542_0         149 KB  conda-forge\n",
            "    certifi-2022.6.15          |   py37h89c1867_0         155 KB  conda-forge\n",
            "    conda-4.13.0               |   py37h89c1867_1         989 KB  conda-forge\n",
            "    cycler-0.11.0              |     pyhd8ed1ab_0          10 KB  conda-forge\n",
            "    freetype-2.10.4            |       h0708190_1         890 KB  conda-forge\n",
            "    icu-67.1                   |       he1b5a44_0        12.9 MB  conda-forge\n",
            "    kiwisolver-1.4.2           |   py37h295c915_0          83 KB\n",
            "    libblas-3.9.0              |15_linux64_openblas          12 KB  conda-forge\n",
            "    libcblas-3.9.0             |15_linux64_openblas          12 KB  conda-forge\n",
            "    libgfortran-ng-12.1.0      |      h69a702a_16          23 KB  conda-forge\n",
            "    libgfortran5-12.1.0        |      hdcd56e2_16         1.8 MB  conda-forge\n",
            "    liblapack-3.9.0            |15_linux64_openblas          12 KB  conda-forge\n",
            "    libopenblas-0.3.20         |pthreads_h78a6416_0        10.1 MB  conda-forge\n",
            "    libpng-1.6.37              |       h21135ba_2         306 KB  conda-forge\n",
            "    matplotlib-base-3.2.2      |   py37h1d35a4c_1         7.0 MB  conda-forge\n",
            "    nomkl-1.0                  |       h5ca1d4c_0           4 KB  conda-forge\n",
            "    numexpr-2.8.0              | py37h85a3170_102         133 KB  conda-forge\n",
            "    numpy-1.21.6               |   py37h976b520_0         6.1 MB  conda-forge\n",
            "    pandas-1.3.5               |   py37h8c16a72_0         9.3 MB\n",
            "    pyparsing-3.0.9            |     pyhd8ed1ab_0          79 KB  conda-forge\n",
            "    python-dateutil-2.8.2      |     pyhd8ed1ab_0         240 KB  conda-forge\n",
            "    python_abi-3.7             |          2_cp37m           4 KB  conda-forge\n",
            "    pytz-2022.1                |     pyhd8ed1ab_0         242 KB  conda-forge\n",
            "    pyyaml-6.0                 |   py37h540881e_4         178 KB  conda-forge\n",
            "    scipy-1.7.3                |   py37hf2a6cf1_0        21.8 MB  conda-forge\n",
            "    six-1.16.0                 |     pyh6c4a22f_0          14 KB  conda-forge\n",
            "    tornado-5.1.1              |py37h14c3975_1000         662 KB  conda-forge\n",
            "    trackpy-0.5.0              |     pyhd8ed1ab_0          98 KB  conda-forge\n",
            "    typing_extensions-4.3.0    |     pyha770c72_0          28 KB  conda-forge\n",
            "    ------------------------------------------------------------\n",
            "                                           Total:        73.2 MB\n",
            "\n",
            "The following NEW packages will be INSTALLED:\n",
            "\n",
            "  bottleneck         pkgs/main/linux-64::bottleneck-1.3.5-py37h7deecbd_0\n",
            "  cycler             conda-forge/noarch::cycler-0.11.0-pyhd8ed1ab_0\n",
            "  freetype           conda-forge/linux-64::freetype-2.10.4-h0708190_1\n",
            "  icu                conda-forge/linux-64::icu-67.1-he1b5a44_0\n",
            "  kiwisolver         pkgs/main/linux-64::kiwisolver-1.4.2-py37h295c915_0\n",
            "  libblas            conda-forge/linux-64::libblas-3.9.0-15_linux64_openblas\n",
            "  libcblas           conda-forge/linux-64::libcblas-3.9.0-15_linux64_openblas\n",
            "  libgfortran-ng     conda-forge/linux-64::libgfortran-ng-12.1.0-h69a702a_16\n",
            "  libgfortran5       conda-forge/linux-64::libgfortran5-12.1.0-hdcd56e2_16\n",
            "  liblapack          conda-forge/linux-64::liblapack-3.9.0-15_linux64_openblas\n",
            "  libopenblas        conda-forge/linux-64::libopenblas-0.3.20-pthreads_h78a6416_0\n",
            "  libpng             conda-forge/linux-64::libpng-1.6.37-h21135ba_2\n",
            "  matplotlib-base    conda-forge/linux-64::matplotlib-base-3.2.2-py37h1d35a4c_1\n",
            "  nomkl              conda-forge/noarch::nomkl-1.0-h5ca1d4c_0\n",
            "  numexpr            conda-forge/linux-64::numexpr-2.8.0-py37h85a3170_102\n",
            "  numpy              conda-forge/linux-64::numpy-1.21.6-py37h976b520_0\n",
            "  pandas             pkgs/main/linux-64::pandas-1.3.5-py37h8c16a72_0\n",
            "  pyparsing          conda-forge/noarch::pyparsing-3.0.9-pyhd8ed1ab_0\n",
            "  python-dateutil    conda-forge/noarch::python-dateutil-2.8.2-pyhd8ed1ab_0\n",
            "  python_abi         conda-forge/linux-64::python_abi-3.7-2_cp37m\n",
            "  pytz               conda-forge/noarch::pytz-2022.1-pyhd8ed1ab_0\n",
            "  pyyaml             conda-forge/linux-64::pyyaml-6.0-py37h540881e_4\n",
            "  scipy              conda-forge/linux-64::scipy-1.7.3-py37hf2a6cf1_0\n",
            "  six                conda-forge/noarch::six-1.16.0-pyh6c4a22f_0\n",
            "  tornado            conda-forge/linux-64::tornado-5.1.1-py37h14c3975_1000\n",
            "  trackpy            conda-forge/noarch::trackpy-0.5.0-pyhd8ed1ab_0\n",
            "  typing_extensions  conda-forge/noarch::typing_extensions-4.3.0-pyha770c72_0\n",
            "\n",
            "The following packages will be UPDATED:\n",
            "\n",
            "  ca-certificates    pkgs/main::ca-certificates-2022.4.26-~ --> conda-forge::ca-certificates-2022.6.15-ha878542_0\n",
            "  conda              pkgs/main::conda-4.13.0-py37h06a4308_0 --> conda-forge::conda-4.13.0-py37h89c1867_1\n",
            "\n",
            "The following packages will be SUPERSEDED by a higher-priority channel:\n",
            "\n",
            "  certifi            pkgs/main::certifi-2022.6.15-py37h06a~ --> conda-forge::certifi-2022.6.15-py37h89c1867_0\n",
            "\n",
            "\n",
            "Proceed ([y]/n)? y\n",
            "\n",
            "\n",
            "Downloading and Extracting Packages\n",
            "pytz-2022.1          | 242 KB    | : 100% 1.0/1 [00:00<00:00,  5.88it/s]\n",
            "bottleneck-1.3.5     | 115 KB    | : 100% 1.0/1 [00:00<00:00,  9.93it/s]\n",
            "numpy-1.21.6         | 6.1 MB    | : 100% 1.0/1 [00:01<00:00,  1.41s/it]              \n",
            "libopenblas-0.3.20   | 10.1 MB   | : 100% 1.0/1 [00:01<00:00,  1.83s/it]               \n",
            "freetype-2.10.4      | 890 KB    | : 100% 1.0/1 [00:00<00:00,  5.38it/s]\n",
            "scipy-1.7.3          | 21.8 MB   | : 100% 1.0/1 [00:03<00:00,  3.94s/it]\n",
            "liblapack-3.9.0      | 12 KB     | : 100% 1.0/1 [00:00<00:00, 32.57it/s]\n",
            "certifi-2022.6.15    | 155 KB    | : 100% 1.0/1 [00:00<00:00, 18.49it/s]\n",
            "icu-67.1             | 12.9 MB   | : 100% 1.0/1 [00:02<00:00,  2.20s/it]\n",
            "libgfortran-ng-12.1. | 23 KB     | : 100% 1.0/1 [00:00<00:00, 20.75it/s]\n",
            "python-dateutil-2.8. | 240 KB    | : 100% 1.0/1 [00:00<00:00, 15.81it/s]\n",
            "pyparsing-3.0.9      | 79 KB     | : 100% 1.0/1 [00:00<00:00, 18.04it/s]\n",
            "matplotlib-base-3.2. | 7.0 MB    | : 100% 1.0/1 [00:01<00:00,  1.36s/it]               \n",
            "kiwisolver-1.4.2     | 83 KB     | : 100% 1.0/1 [00:00<00:00, 15.75it/s]\n",
            "pandas-1.3.5         | 9.3 MB    | : 100% 1.0/1 [00:00<00:00,  1.41it/s]               \n",
            "tornado-5.1.1        | 662 KB    | : 100% 1.0/1 [00:00<00:00,  4.89it/s]\n",
            "libcblas-3.9.0       | 12 KB     | : 100% 1.0/1 [00:00<00:00, 22.67it/s]\n",
            "pyyaml-6.0           | 178 KB    | : 100% 1.0/1 [00:00<00:00, 13.08it/s]\n",
            "conda-4.13.0         | 989 KB    | : 100% 1.0/1 [00:00<00:00,  3.61it/s]\n",
            "six-1.16.0           | 14 KB     | : 100% 1.0/1 [00:00<00:00, 21.40it/s]\n",
            "python_abi-3.7       | 4 KB      | : 100% 1.0/1 [00:00<00:00, 27.00it/s]\n",
            "cycler-0.11.0        | 10 KB     | : 100% 1.0/1 [00:00<00:00, 27.63it/s]\n",
            "trackpy-0.5.0        | 98 KB     | : 100% 1.0/1 [00:00<00:00, 19.88it/s]\n",
            "numexpr-2.8.0        | 133 KB    | : 100% 1.0/1 [00:00<00:00, 15.71it/s]\n",
            "libblas-3.9.0        | 12 KB     | : 100% 1.0/1 [00:00<00:00, 18.05it/s]\n",
            "typing_extensions-4. | 28 KB     | : 100% 1.0/1 [00:00<00:00, 27.50it/s]\n",
            "nomkl-1.0            | 4 KB      | : 100% 1.0/1 [00:00<00:00, 26.31it/s]\n",
            "libgfortran5-12.1.0  | 1.8 MB    | : 100% 1.0/1 [00:00<00:00,  2.73it/s]\n",
            "libpng-1.6.37        | 306 KB    | : 100% 1.0/1 [00:00<00:00,  9.95it/s]\n",
            "ca-certificates-2022 | 149 KB    | : 100% 1.0/1 [00:00<00:00, 17.38it/s]\n",
            "Preparing transaction: / \b\b- \b\b\\ \b\b| \b\bdone\n",
            "Verifying transaction: - \b\b\\ \b\b| \b\b/ \b\b- \b\b\\ \b\b| \b\b/ \b\b- \b\b\\ \b\b| \b\b/ \b\bdone\n",
            "Executing transaction: \\ \b\b| \b\b/ \b\b- \b\b\\ \b\b| \b\b/ \b\b- \b\b\\ \b\b| \b\b/ \b\b- \b\b\\ \b\b| \b\b/ \b\b- \b\b\\ \b\b| \b\b/ \b\b- \b\b\\ \b\b| \b\bdone\n"
          ]
        }
      ]
    },
    {
      "cell_type": "code",
      "source": [
        "!conda install -c conda-forge pims"
      ],
      "metadata": {
        "id": "zlriaFsQmG8-",
        "colab": {
          "base_uri": "https://localhost:8080/"
        },
        "outputId": "4b581bdc-aeb6-4650-cdd0-7d6f583ff582"
      },
      "execution_count": null,
      "outputs": [
        {
          "output_type": "stream",
          "name": "stdout",
          "text": [
            "Collecting package metadata (current_repodata.json): - \b\b\\ \b\b| \b\b/ \b\b- \b\b\\ \b\b| \b\b/ \b\b- \b\b\\ \b\b| \b\b/ \b\b- \b\b\\ \b\b| \b\b/ \b\b- \b\b\\ \b\b| \b\b/ \b\b- \b\b\\ \b\b| \b\b/ \b\b- \b\b\\ \b\b| \b\b/ \b\b- \b\bdone\n",
            "Solving environment: | \b\b/ \b\b- \b\b\\ \b\b| \b\b/ \b\b- \b\b\\ \b\b| \b\b/ \b\b- \b\b\\ \b\b| \b\b/ \b\b- \b\b\\ \b\b| \b\b/ \b\b- \b\b\\ \b\b| \b\b/ \b\b- \b\b\\ \b\b| \b\b/ \b\b- \b\b\\ \b\b| \b\b/ \b\b- \b\b\\ \b\b| \b\b/ \b\b- \b\b\\ \b\b| \b\b/ \b\bdone\n",
            "\n",
            "## Package Plan ##\n",
            "\n",
            "  environment location: /usr/local\n",
            "\n",
            "  added / updated specs:\n",
            "    - pims\n",
            "\n",
            "\n",
            "The following packages will be downloaded:\n",
            "\n",
            "    package                    |            build\n",
            "    ---------------------------|-----------------\n",
            "    enum34-1.1.10              |   py37hc8dfbb8_2           4 KB  conda-forge\n",
            "    imagecodecs-lite-2019.12.3 |   py37hda87dfa_5         176 KB  conda-forge\n",
            "    imageio-2.6.1              |           py37_0         3.3 MB  conda-forge\n",
            "    jinja2-3.1.2               |     pyhd8ed1ab_1          99 KB  conda-forge\n",
            "    jpeg-9e                    |       h166bdaf_1         268 KB  conda-forge\n",
            "    libtiff-4.0.10             |    hc3755c2_1005         602 KB  conda-forge\n",
            "    lz4-c-1.9.3                |       h9c3ff4c_1         179 KB  conda-forge\n",
            "    markupsafe-2.1.1           |   py37h540881e_1          22 KB  conda-forge\n",
            "    olefile-0.46               |     pyh9f0ad1d_1          32 KB  conda-forge\n",
            "    pathlib-1.0.1              |   py37h89c1867_6           4 KB  conda-forge\n",
            "    pillow-6.2.1               |   py37h6b7be26_0         637 KB  conda-forge\n",
            "    pims-0.6.1                 |     pyhd8ed1ab_0          66 KB  conda-forge\n",
            "    slicerator-1.1.0           |     pyhd8ed1ab_0          13 KB  conda-forge\n",
            "    tifffile-2019.7.26.2       |           py37_0         218 KB  conda-forge\n",
            "    zstd-1.4.9                 |       ha95c52a_0         431 KB  conda-forge\n",
            "    ------------------------------------------------------------\n",
            "                                           Total:         6.0 MB\n",
            "\n",
            "The following NEW packages will be INSTALLED:\n",
            "\n",
            "  enum34             conda-forge/linux-64::enum34-1.1.10-py37hc8dfbb8_2\n",
            "  imagecodecs-lite   conda-forge/linux-64::imagecodecs-lite-2019.12.3-py37hda87dfa_5\n",
            "  imageio            conda-forge/linux-64::imageio-2.6.1-py37_0\n",
            "  jinja2             conda-forge/noarch::jinja2-3.1.2-pyhd8ed1ab_1\n",
            "  jpeg               conda-forge/linux-64::jpeg-9e-h166bdaf_1\n",
            "  libtiff            conda-forge/linux-64::libtiff-4.0.10-hc3755c2_1005\n",
            "  lz4-c              conda-forge/linux-64::lz4-c-1.9.3-h9c3ff4c_1\n",
            "  markupsafe         conda-forge/linux-64::markupsafe-2.1.1-py37h540881e_1\n",
            "  olefile            conda-forge/noarch::olefile-0.46-pyh9f0ad1d_1\n",
            "  pathlib            conda-forge/linux-64::pathlib-1.0.1-py37h89c1867_6\n",
            "  pillow             conda-forge/linux-64::pillow-6.2.1-py37h6b7be26_0\n",
            "  pims               conda-forge/noarch::pims-0.6.1-pyhd8ed1ab_0\n",
            "  slicerator         conda-forge/noarch::slicerator-1.1.0-pyhd8ed1ab_0\n",
            "  tifffile           conda-forge/linux-64::tifffile-2019.7.26.2-py37_0\n",
            "  zstd               conda-forge/linux-64::zstd-1.4.9-ha95c52a_0\n",
            "\n",
            "\n",
            "Proceed ([y]/n)? y\n",
            "\n",
            "\n",
            "Downloading and Extracting Packages\n",
            "jpeg-9e              | 268 KB    | : 100% 1.0/1 [00:00<00:00,  7.65it/s]\n",
            "pims-0.6.1           | 66 KB     | : 100% 1.0/1 [00:00<00:00, 17.84it/s]\n",
            "jinja2-3.1.2         | 99 KB     | : 100% 1.0/1 [00:00<00:00, 17.60it/s]\n",
            "tifffile-2019.7.26.2 | 218 KB    | : 100% 1.0/1 [00:00<00:00,  9.93it/s]\n",
            "imageio-2.6.1        | 3.3 MB    | : 100% 1.0/1 [00:00<00:00,  2.15it/s]\n",
            "olefile-0.46         | 32 KB     | : 100% 1.0/1 [00:00<00:00, 20.88it/s]\n",
            "zstd-1.4.9           | 431 KB    | : 100% 1.0/1 [00:00<00:00,  8.69it/s]\n",
            "pathlib-1.0.1        | 4 KB      | : 100% 1.0/1 [00:00<00:00, 17.51it/s]\n",
            "pillow-6.2.1         | 637 KB    | : 100% 1.0/1 [00:00<00:00,  5.69it/s]\n",
            "enum34-1.1.10        | 4 KB      | : 100% 1.0/1 [00:00<00:00, 27.16it/s]\n",
            "slicerator-1.1.0     | 13 KB     | : 100% 1.0/1 [00:00<00:00, 18.65it/s]\n",
            "lz4-c-1.9.3          | 179 KB    | : 100% 1.0/1 [00:00<00:00, 13.79it/s]\n",
            "imagecodecs-lite-201 | 176 KB    | : 100% 1.0/1 [00:00<00:00, 11.37it/s]\n",
            "libtiff-4.0.10       | 602 KB    | : 100% 1.0/1 [00:00<00:00,  6.87it/s]\n",
            "markupsafe-2.1.1     | 22 KB     | : 100% 1.0/1 [00:00<00:00, 22.61it/s]\n",
            "Preparing transaction: \\ \b\bdone\n",
            "Verifying transaction: / \b\bdone\n",
            "Executing transaction: \\ \b\b| \b\b/ \b\b- \b\b\\ \b\b| \b\b/ \b\b- \b\b\\ \b\b| \b\b/ \b\b- \b\b\\ \b\bdone\n"
          ]
        }
      ]
    },
    {
      "cell_type": "markdown",
      "source": [
        "Now we are ready to focus on our goal of tracking particles in 3D.\n",
        "\n",
        "Download the test data set from here: "
      ],
      "metadata": {
        "id": "VPFKGI1JcmED"
      }
    },
    {
      "cell_type": "markdown",
      "source": [
        "Import the required libraries"
      ],
      "metadata": {
        "id": "BzcEtYZzaBBz"
      }
    },
    {
      "cell_type": "code",
      "source": [
        "%matplotlib inline\n",
        "import matplotlib as mpl\n",
        "import matplotlib.pyplot as plt\n",
        "mpl.rc('figure',  figsize=(10, 6))\n",
        "import numpy as np\n",
        "import pandas as pd\n",
        "from pandas import DataFrame, Series  # for convenience\n",
        "\n",
        "import pims\n",
        "import trackpy as tp\n",
        "\n",
        "import warnings\n",
        "warnings.filterwarnings(\"ignore\", module=\"matplotlib\")"
      ],
      "metadata": {
        "id": "0b2-4HuUYFSL",
        "colab": {
          "base_uri": "https://localhost:8080/"
        },
        "outputId": "43d0aa8a-1146-4b76-eff9-13b51654b545"
      },
      "execution_count": null,
      "outputs": [
        {
          "output_type": "stream",
          "name": "stdout",
          "text": [
            "Imageio: 'ffmpeg-linux64-v3.3.1' was not found on your computer; downloading it now.\n",
            "Try 1. Download from https://github.com/imageio/imageio-binaries/raw/master/ffmpeg/ffmpeg-linux64-v3.3.1 (43.8 MB)\n",
            "Downloading: 8192/45929032 bytes (0.0%)\b\b\b\b\b\b\b\b\b\b\b\b\b\b\b\b\b\b\b\b\b\b\b\b\b\b3563520/45929032 bytes (7.8%)\b\b\b\b\b\b\b\b\b\b\b\b\b\b\b\b\b\b\b\b\b\b\b\b\b\b\b\b\b7307264/45929032 bytes (15.9%)\b\b\b\b\b\b\b\b\b\b\b\b\b\b\b\b\b\b\b\b\b\b\b\b\b\b\b\b\b\b11042816/45929032 bytes (24.0%)\b\b\b\b\b\b\b\b\b\b\b\b\b\b\b\b\b\b\b\b\b\b\b\b\b\b\b\b\b\b\b14483456/45929032 bytes (31.5%)\b\b\b\b\b\b\b\b\b\b\b\b\b\b\b\b\b\b\b\b\b\b\b\b\b\b\b\b\b\b\b18169856/45929032 bytes (39.6%)\b\b\b\b\b\b\b\b\b\b\b\b\b\b\b\b\b\b\b\b\b\b\b\b\b\b\b\b\b\b\b21889024/45929032 bytes (47.7%)\b\b\b\b\b\b\b\b\b\b\b\b\b\b\b\b\b\b\b\b\b\b\b\b\b\b\b\b\b\b\b25526272/45929032 bytes (55.6%)\b\b\b\b\b\b\b\b\b\b\b\b\b\b\b\b\b\b\b\b\b\b\b\b\b\b\b\b\b\b\b29065216/45929032 bytes (63.3%)\b\b\b\b\b\b\b\b\b\b\b\b\b\b\b\b\b\b\b\b\b\b\b\b\b\b\b\b\b\b\b32825344/45929032 bytes (71.5%)\b\b\b\b\b\b\b\b\b\b\b\b\b\b\b\b\b\b\b\b\b\b\b\b\b\b\b\b\b\b\b36569088/45929032 bytes (79.6%)\b\b\b\b\b\b\b\b\b\b\b\b\b\b\b\b\b\b\b\b\b\b\b\b\b\b\b\b\b\b\b40009728/45929032 bytes (87.1%)\b\b\b\b\b\b\b\b\b\b\b\b\b\b\b\b\b\b\b\b\b\b\b\b\b\b\b\b\b\b\b43622400/45929032 bytes (95.0%)\b\b\b\b\b\b\b\b\b\b\b\b\b\b\b\b\b\b\b\b\b\b\b\b\b\b\b\b\b\b\b45929032/45929032 bytes (100.0%)\n",
            "  Done\n",
            "File saved as /root/.imageio/ffmpeg/ffmpeg-linux64-v3.3.1.\n"
          ]
        }
      ]
    },
    {
      "cell_type": "markdown",
      "source": [
        "Make sure to upload your data to Google Drive and mount the drive to make it accessible via your colab notebook.\n",
        "\n",
        "Load the 3D time series image from zip drive. We make use of ImageSequenceND. This reader class searches for files matching a certain search string. The filename should contain indentifiers for each axis (dimension). For example \"demo_t001_z001.png\" contains identifiers t and z. We set the returned image axes to zyx and the iterating axis to t. In this way we get 3D images indexed by t.\n",
        "\n",
        "We will be using this data set:\n",
        "https://github.com/soft-matter/trackpy-examples/blob/master/sample_data/pmma_colloids.zip"
      ],
      "metadata": {
        "id": "yFE4wLpiaG-u"
      }
    },
    {
      "cell_type": "code",
      "source": [
        "frames = pims.ImageSequenceND(r'/content/drive/MyDrive/ColabNotebooks/data/tracking_data/pmma_colloids.zip', axes_identifiers = ['z', 't'])\n",
        "frames.bundle_axes = ['z', 'y', 'x']\n",
        "frames.iter_axes = 't'\n",
        "frames"
      ],
      "metadata": {
        "id": "yuoIb1GSYwpI",
        "colab": {
          "base_uri": "https://localhost:8080/"
        },
        "outputId": "ca574f2c-df78-4bf9-9a6d-4d28a8538375"
      },
      "execution_count": null,
      "outputs": [
        {
          "output_type": "execute_result",
          "data": {
            "text/plain": [
              "<ImageSequenceND>\n",
              "Source: /content/drive/MyDrive/ColabNotebooks/data/tracking_data/pmma_colloids.zip\n",
              "Axes: 4\n",
              "Axis 'z' size: 25\n",
              "Axis 't' size: 33\n",
              "Axis 'y' size: 128\n",
              "Axis 'x' size: 128\n",
              "Pixel Datatype: uint8"
            ]
          },
          "metadata": {},
          "execution_count": 15
        }
      ]
    },
    {
      "cell_type": "code",
      "source": [
        "t_slice=frames[0]  #specific t slice (3D stack)\n",
        "t_slice_for_specific_z=t_slice[0] #specific t slice for a given z stack(2D)"
      ],
      "metadata": {
        "id": "bcHOXK9Aap7T"
      },
      "execution_count": null,
      "outputs": []
    },
    {
      "cell_type": "code",
      "source": [
        "plt.imshow(t_slice_for_specific_z)"
      ],
      "metadata": {
        "id": "_iR79t7bcG58",
        "colab": {
          "base_uri": "https://localhost:8080/",
          "height": 394
        },
        "outputId": "bfe8e606-3186-4ddd-cddc-c975e0b2b15a"
      },
      "execution_count": null,
      "outputs": [
        {
          "output_type": "execute_result",
          "data": {
            "text/plain": [
              "<matplotlib.image.AxesImage at 0x7f7374eaedd0>"
            ]
          },
          "metadata": {},
          "execution_count": 17
        },
        {
          "output_type": "display_data",
          "data": {
            "text/plain": [
              "<Figure size 720x432 with 1 Axes>"
            ],
            "image/png": "[encoded data removed]"
          },
          "metadata": {
            "needs_background": "light"
          }
        }
      ]
    },
    {
      "cell_type": "markdown",
      "source": [
        "**Locating features**\n",
        "\n",
        "This step performs segmentation using Gaussian blob detection. We can use our own segmentation, e.g, Deep Learning based. This will be covered in the next tutorial. \n",
        "\n",
        "For blob detection, estimate the size of features. locate only requires a feature diameter. This needs to be an odd integer and can be specified for each dimension seperately. The order of dimensions is the same as the order of the image array, typically (z, y, x).\n",
        "\n"
      ],
      "metadata": {
        "id": "K2fQluLFgaN3"
      }
    },
    {
      "cell_type": "code",
      "source": [
        "features = tp.locate(frames[0], diameter=(5, 9, 9))\n",
        "features.head()  # displays first 5 rows\n"
      ],
      "metadata": {
        "id": "ERXWHkbPcQF0",
        "colab": {
          "base_uri": "https://localhost:8080/",
          "height": 206
        },
        "outputId": "3422b040-8b6c-4efe-fb5f-71544d150907"
      },
      "execution_count": null,
      "outputs": [
        {
          "output_type": "execute_result",
          "data": {
            "text/plain": [
              "          z           y          x         mass    size_z    size_y    size_x  \\\n",
              "0  2.150307    9.127058  92.698579  4078.904707  1.397100  2.346068  2.775242   \n",
              "1  1.966345   12.324782  54.751706  2798.073313  1.299836  2.373661  2.861476   \n",
              "2  2.003977   37.991313   4.868746  3145.774586  1.272156  2.673398  2.848487   \n",
              "3  2.008338   80.036620  58.814761  2922.205302  1.339245  2.223283  2.692462   \n",
              "4  1.671356  115.246732  28.295780  2644.966218  1.288565  2.809659  2.506161   \n",
              "\n",
              "   ecc     signal  raw_mass      ep_z      ep_y      ep_x  frame  \n",
              "0  NaN  83.961955   11471.0  0.006037  0.013466  0.013466      0  \n",
              "1  NaN  60.255050    7476.0  0.009536  0.021271  0.021271      0  \n",
              "2  NaN  60.913575    8632.0  0.008166  0.018216  0.018216      0  \n",
              "3  NaN  76.388916    7986.0  0.008879  0.019806  0.019806      0  \n",
              "4  NaN  55.316112    7970.0  0.008898  0.019848  0.019848      0  "
            ],
            "text/html": [
              "\n",
              "  <div id=\"df-2b4439bd-c600-413f-a487-eeb97715dcbb\">\n",
              "    <div class=\"colab-df-container\">\n",
              "      <div>\n",
              "<style scoped>\n",
              "    .dataframe tbody tr th:only-of-type {\n",
              "        vertical-align: middle;\n",
              "    }\n",
              "\n",
              "    .dataframe tbody tr th {\n",
              "        vertical-align: top;\n",
              "    }\n",
              "\n",
              "    .dataframe thead th {\n",
              "        text-align: right;\n",
              "    }\n",
              "</style>\n",
              "<table border=\"1\" class=\"dataframe\">\n",
              "  <thead>\n",
              "    <tr style=\"text-align: right;\">\n",
              "      <th></th>\n",
              "      <th>z</th>\n",
              "      <th>y</th>\n",
              "      <th>x</th>\n",
              "      <th>mass</th>\n",
              "      <th>size_z</th>\n",
              "      <th>size_y</th>\n",
              "      <th>size_x</th>\n",
              "      <th>ecc</th>\n",
              "      <th>signal</th>\n",
              "      <th>raw_mass</th>\n",
              "      <th>ep_z</th>\n",
              "      <th>ep_y</th>\n",
              "      <th>ep_x</th>\n",
              "      <th>frame</th>\n",
              "    </tr>\n",
              "  </thead>\n",
              "  <tbody>\n",
              "    <tr>\n",
              "      <th>0</th>\n",
              "      <td>2.150307</td>\n",
              "      <td>9.127058</td>\n",
              "      <td>92.698579</td>\n",
              "      <td>4078.904707</td>\n",
              "      <td>1.397100</td>\n",
              "      <td>2.346068</td>\n",
              "      <td>2.775242</td>\n",
              "      <td>NaN</td>\n",
              "      <td>83.961955</td>\n",
              "      <td>11471.0</td>\n",
              "      <td>0.006037</td>\n",
              "      <td>0.013466</td>\n",
              "      <td>0.013466</td>\n",
              "      <td>0</td>\n",
              "    </tr>\n",
              "    <tr>\n",
              "      <th>1</th>\n",
              "      <td>1.966345</td>\n",
              "      <td>12.324782</td>\n",
              "      <td>54.751706</td>\n",
              "      <td>2798.073313</td>\n",
              "      <td>1.299836</td>\n",
              "      <td>2.373661</td>\n",
              "      <td>2.861476</td>\n",
              "      <td>NaN</td>\n",
              "      <td>60.255050</td>\n",
              "      <td>7476.0</td>\n",
              "      <td>0.009536</td>\n",
              "      <td>0.021271</td>\n",
              "      <td>0.021271</td>\n",
              "      <td>0</td>\n",
              "    </tr>\n",
              "    <tr>\n",
              "      <th>2</th>\n",
              "      <td>2.003977</td>\n",
              "      <td>37.991313</td>\n",
              "      <td>4.868746</td>\n",
              "      <td>3145.774586</td>\n",
              "      <td>1.272156</td>\n",
              "      <td>2.673398</td>\n",
              "      <td>2.848487</td>\n",
              "      <td>NaN</td>\n",
              "      <td>60.913575</td>\n",
              "      <td>8632.0</td>\n",
              "      <td>0.008166</td>\n",
              "      <td>0.018216</td>\n",
              "      <td>0.018216</td>\n",
              "      <td>0</td>\n",
              "    </tr>\n",
              "    <tr>\n",
              "      <th>3</th>\n",
              "      <td>2.008338</td>\n",
              "      <td>80.036620</td>\n",
              "      <td>58.814761</td>\n",
              "      <td>2922.205302</td>\n",
              "      <td>1.339245</td>\n",
              "      <td>2.223283</td>\n",
              "      <td>2.692462</td>\n",
              "      <td>NaN</td>\n",
              "      <td>76.388916</td>\n",
              "      <td>7986.0</td>\n",
              "      <td>0.008879</td>\n",
              "      <td>0.019806</td>\n",
              "      <td>0.019806</td>\n",
              "      <td>0</td>\n",
              "    </tr>\n",
              "    <tr>\n",
              "      <th>4</th>\n",
              "      <td>1.671356</td>\n",
              "      <td>115.246732</td>\n",
              "      <td>28.295780</td>\n",
              "      <td>2644.966218</td>\n",
              "      <td>1.288565</td>\n",
              "      <td>2.809659</td>\n",
              "      <td>2.506161</td>\n",
              "      <td>NaN</td>\n",
              "      <td>55.316112</td>\n",
              "      <td>7970.0</td>\n",
              "      <td>0.008898</td>\n",
              "      <td>0.019848</td>\n",
              "      <td>0.019848</td>\n",
              "      <td>0</td>\n",
              "    </tr>\n",
              "  </tbody>\n",
              "</table>\n",
              "</div>\n",
              "      <button class=\"colab-df-convert\" onclick=\"convertToInteractive('df-2b4439bd-c600-413f-a487-eeb97715dcbb')\"\n",
              "              title=\"Convert this dataframe to an interactive table.\"\n",
              "              style=\"display:none;\">\n",
              "        \n",
              "  <svg xmlns=\"http://www.w3.org/2000/svg\" height=\"24px\"viewBox=\"0 0 24 24\"\n",
              "       width=\"24px\">\n",
              "    <path d=\"M0 0h24v24H0V0z\" fill=\"none\"/>\n",
              "    <path d=\"M18.56 5.44l.94 2.06.94-2.06 2.06-.94-2.06-.94-.94-2.06-.94 2.06-2.06.94zm-11 1L8.5 8.5l.94-2.06 2.06-.94-2.06-.94L8.5 2.5l-.94 2.06-2.06.94zm10 10l.94 2.06.94-2.06 2.06-.94-2.06-.94-.94-2.06-.94 2.06-2.06.94z\"/><path d=\"M17.41 7.96l-1.37-1.37c-.4-.4-.92-.59-1.43-.59-.52 0-1.04.2-1.43.59L10.3 9.45l-7.72 7.72c-.78.78-.78 2.05 0 2.83L4 21.41c.39.39.9.59 1.41.59.51 0 1.02-.2 1.41-.59l7.78-7.78 2.81-2.81c.8-.78.8-2.07 0-2.86zM5.41 20L4 18.59l7.72-7.72 1.47 1.35L5.41 20z\"/>\n",
              "  </svg>\n",
              "      </button>\n",
              "      \n",
              "  <style>\n",
              "    .colab-df-container {\n",
              "      display:flex;\n",
              "      flex-wrap:wrap;\n",
              "      gap: 12px;\n",
              "    }\n",
              "\n",
              "    .colab-df-convert {\n",
              "      background-color: #E8F0FE;\n",
              "      border: none;\n",
              "      border-radius: 50%;\n",
              "      cursor: pointer;\n",
              "      display: none;\n",
              "      fill: #1967D2;\n",
              "      height: 32px;\n",
              "      padding: 0 0 0 0;\n",
              "      width: 32px;\n",
              "    }\n",
              "\n",
              "    .colab-df-convert:hover {\n",
              "      background-color: #E2EBFA;\n",
              "      box-shadow: 0px 1px 2px rgba(60, 64, 67, 0.3), 0px 1px 3px 1px rgba(60, 64, 67, 0.15);\n",
              "      fill: #174EA6;\n",
              "    }\n",
              "\n",
              "    [theme=dark] .colab-df-convert {\n",
              "      background-color: #3B4455;\n",
              "      fill: #D2E3FC;\n",
              "    }\n",
              "\n",
              "    [theme=dark] .colab-df-convert:hover {\n",
              "      background-color: #434B5C;\n",
              "      box-shadow: 0px 1px 3px 1px rgba(0, 0, 0, 0.15);\n",
              "      filter: drop-shadow(0px 1px 2px rgba(0, 0, 0, 0.3));\n",
              "      fill: #FFFFFF;\n",
              "    }\n",
              "  </style>\n",
              "\n",
              "      <script>\n",
              "        const buttonEl =\n",
              "          document.querySelector('#df-2b4439bd-c600-413f-a487-eeb97715dcbb button.colab-df-convert');\n",
              "        buttonEl.style.display =\n",
              "          google.colab.kernel.accessAllowed ? 'block' : 'none';\n",
              "\n",
              "        async function convertToInteractive(key) {\n",
              "          const element = document.querySelector('#df-2b4439bd-c600-413f-a487-eeb97715dcbb');\n",
              "          const dataTable =\n",
              "            await google.colab.kernel.invokeFunction('convertToInteractive',\n",
              "                                                     [key], {});\n",
              "          if (!dataTable) return;\n",
              "\n",
              "          const docLinkHtml = 'Like what you see? Visit the ' +\n",
              "            '<a target=\"_blank\" href=https://colab.research.google.com/notebooks/data_table.ipynb>data table notebook</a>'\n",
              "            + ' to learn more about interactive tables.';\n",
              "          element.innerHTML = '';\n",
              "          dataTable['output_type'] = 'display_data';\n",
              "          await google.colab.output.renderOutput(dataTable, element);\n",
              "          const docLink = document.createElement('div');\n",
              "          docLink.innerHTML = docLinkHtml;\n",
              "          element.appendChild(docLink);\n",
              "        }\n",
              "      </script>\n",
              "    </div>\n",
              "  </div>\n",
              "  "
            ]
          },
          "metadata": {},
          "execution_count": 18
        }
      ]
    },
    {
      "cell_type": "markdown",
      "source": [
        "locate returns a spreadsheet-like object called a DataFrame. It lists each feature's position,\n",
        "various characterizations of its appearance, which we will use to filter out spurious features,\n",
        "the \"signal\" strength and an estimate of uncertainty, both derived from this paper: https://www.cell.com/biophysj/fulltext/S0006-3495(05)73136-2"
      ],
      "metadata": {
        "id": "IiF6rDvYgtbd"
      }
    },
    {
      "cell_type": "markdown",
      "source": [
        "You can use tp.annotate3d to display the objects that we will be tracking."
      ],
      "metadata": {
        "id": "Bu3Cyd5EhZee"
      }
    },
    {
      "cell_type": "code",
      "source": [
        "#tp.annotate3d(features, frames[0])\n"
      ],
      "metadata": {
        "id": "6d2yNk0WcZCo"
      },
      "execution_count": null,
      "outputs": []
    },
    {
      "cell_type": "markdown",
      "source": [
        "Remember that we can filter objects based on a few criteria. We can also force minimum separation between objects."
      ],
      "metadata": {
        "id": "b5KHS_Lmh3Fw"
      }
    },
    {
      "cell_type": "markdown",
      "source": [
        "**Locating (segmenting) features in all 3D frames**\n",
        "\n",
        "We use tp.batch"
      ],
      "metadata": {
        "id": "msGTzV8PigPF"
      }
    },
    {
      "cell_type": "code",
      "source": [
        "f = tp.batch(frames, diameter=(7, 11, 11), separation=(3, 11, 11))"
      ],
      "metadata": {
        "id": "c1yQVFapc2OA",
        "colab": {
          "base_uri": "https://localhost:8080/"
        },
        "outputId": "159ca38c-3ff4-4e83-b2ab-ed293e7d0cba"
      },
      "execution_count": null,
      "outputs": [
        {
          "output_type": "stream",
          "name": "stdout",
          "text": [
            "Frame 32: 165 features\n"
          ]
        }
      ]
    },
    {
      "cell_type": "markdown",
      "source": [
        "**Link features into particle trajectories**\n",
        "\n",
        "We have the locations of the particles in each frame. Next we'll track particles from frame to frame, giving each one a number for identification.\n",
        "\n",
        "The linking features of trackpy support an arbitrary number of dimensions. The argument pos_columns will determine which and how many dimensions will be used. The standard set of columns is ['x', 'y']. For 3d we have to set this to ['x', 'y', 'z']. \n",
        "\n",
        "Linking treats all dimensions equally. \n",
        "\n",
        "For this example we are using a file with unequal pixel sizes: 0.21 microns in XY and 0.75 microns in Z, so we first define new columns in units of microns."
      ],
      "metadata": {
        "id": "DojeS8Bfi73-"
      }
    },
    {
      "cell_type": "code",
      "source": [
        "f['xum'] = f['x'] * 0.21\n",
        "f['yum'] = f['y'] * 0.21\n",
        "f['zum'] = f['z'] * 0.75"
      ],
      "metadata": {
        "id": "KJ7NBoJcc6X9"
      },
      "execution_count": null,
      "outputs": []
    },
    {
      "cell_type": "markdown",
      "source": [
        "Experimentally, there is a tradeoff between framerate and z pixel size. If you want to have higher z resolution, you scan slower and your framerate goes down. In this specific experiment the z resolution is low, so that we are able to link particles between subsequent frames. We try several linking distances here."
      ],
      "metadata": {
        "id": "QSR77lhpFaI6"
      }
    },
    {
      "cell_type": "code",
      "source": [
        "for search_range in [1.0, 1.5, 2.0, 2.5]:\n",
        "    linked = tp.link_df(f, search_range, pos_columns=['xum', 'yum', 'zum'])\n",
        "    hist, bins = np.histogram(np.bincount(linked.particle.astype(int)),\n",
        "                              bins=np.arange(30), normed=True)\n",
        "    plt.step(bins[1:], hist, label='range = {} microns'.format(search_range))\n",
        "plt.ylabel('relative frequency')\n",
        "plt.xlabel('track length (frames)')\n",
        "plt.legend()"
      ],
      "metadata": {
        "id": "ZzP0DlNqc698",
        "colab": {
          "base_uri": "https://localhost:8080/",
          "height": 477
        },
        "outputId": "9c7d91ab-b648-4f7b-8299-d26b20c972e3"
      },
      "execution_count": null,
      "outputs": [
        {
          "output_type": "stream",
          "name": "stdout",
          "text": [
            "Frame 32: 165 trajectories present.\n"
          ]
        },
        {
          "output_type": "stream",
          "name": "stderr",
          "text": [
            "/usr/local/lib/python3.7/dist-packages/ipykernel_launcher.py:4: VisibleDeprecationWarning: Passing `normed=True` on non-uniform bins has always been broken, and computes neither the probability density function nor the probability mass function. The result is only correct if the bins are uniform, when density=True will produce the same result anyway. The argument will be removed in a future version of numpy.\n",
            "  after removing the cwd from sys.path.\n"
          ]
        },
        {
          "output_type": "execute_result",
          "data": {
            "text/plain": [
              "<matplotlib.legend.Legend at 0x7f737343c8d0>"
            ]
          },
          "metadata": {},
          "execution_count": 23
        },
        {
          "output_type": "display_data",
          "data": {
            "text/plain": [
              "<Figure size 720x432 with 1 Axes>"
            ],
            "image/png": "[encoded data removed]"
          },
          "metadata": {
            "needs_background": "light"
          }
        }
      ]
    },
    {
      "cell_type": "markdown",
      "source": [
        "We use a search range of 2.0 microns, because there is no significant improvement between 2.0 and 2.5 microns."
      ],
      "metadata": {
        "id": "LibHo9lRF129"
      }
    },
    {
      "cell_type": "code",
      "source": [
        "linked = tp.link_df(f, 2.0, pos_columns=['xum', 'yum', 'zum'])"
      ],
      "metadata": {
        "id": "tk9C6t-SFzwi",
        "colab": {
          "base_uri": "https://localhost:8080/"
        },
        "outputId": "a2a80e56-fe20-45e9-8055-8163b991b376"
      },
      "execution_count": null,
      "outputs": [
        {
          "output_type": "stream",
          "name": "stdout",
          "text": [
            "Frame 32: 165 trajectories present.\n"
          ]
        }
      ]
    },
    {
      "cell_type": "markdown",
      "source": [
        "# Mean squared displacement\n",
        "\n",
        "With the trajectories we can calculate the mean squared displacement. To calculate the mean squared displacement from all three dimensions, we need to tell trackpy which position columns to use. It defaults to ['x', 'y'].\n",
        "\n",
        "We specify mpp=1 because we have already transformed our data to microns."
      ],
      "metadata": {
        "id": "EVJ3Rr68GAIa"
      }
    },
    {
      "cell_type": "code",
      "source": [
        "msd3D = tp.emsd(linked, mpp=1, fps=1/0.8582, max_lagtime=20,\n",
        "                pos_columns=['xum', 'yum', 'zum'])\n",
        "ax = msd3D.plot(style='o', label='MSD in 3D')\n",
        "ax.set_ylabel(r'$\\langle \\Delta r^2 \\rangle$ [$\\mu$m$^2$]')\n",
        "ax.set_xlabel('lag time $t$')\n",
        "ax.set_xlim(0, 16)\n",
        "ax.set_ylim(0, 20)\n",
        "ax.legend(loc='upper left')"
      ],
      "metadata": {
        "id": "H6o_jZDiGHgE",
        "colab": {
          "base_uri": "https://localhost:8080/",
          "height": 503
        },
        "outputId": "fad48968-2c6f-4c6f-a42a-063fe4d5741c"
      },
      "execution_count": null,
      "outputs": [
        {
          "output_type": "stream",
          "name": "stderr",
          "text": [
            "/usr/local/lib/python3.7/site-packages/trackpy/motion.py:235: FutureWarning: Using the level keyword in DataFrame and Series aggregations is deprecated and will be removed in a future version. Use groupby instead. df.median(level=1) should use df.groupby(level=1).median().\n",
            "  results = msds.mul(msds['N'], axis=0).mean(level=1)  # weighted average\n",
            "/usr/local/lib/python3.7/site-packages/trackpy/motion.py:236: FutureWarning: Using the level keyword in DataFrame and Series aggregations is deprecated and will be removed in a future version. Use groupby instead. df.median(level=1) should use df.groupby(level=1).median().\n",
            "  results = results.div(msds['N'].mean(level=1), axis=0)  # weights normalized\n"
          ]
        },
        {
          "output_type": "execute_result",
          "data": {
            "text/plain": [
              "<matplotlib.legend.Legend at 0x7f7373439e50>"
            ]
          },
          "metadata": {},
          "execution_count": 25
        },
        {
          "output_type": "display_data",
          "data": {
            "text/plain": [
              "<Figure size 720x432 with 1 Axes>"
            ],
            "image/png": "[encoded data removed]"
          },
          "metadata": {
            "needs_background": "light"
          }
        }
      ]
    },
    {
      "cell_type": "markdown",
      "source": [
        "The mean squared displacement in three dimensional Brownian motion is described by the following relation: ⟨$x^{2}$⟩=6Dt\n",
        "\n",
        "Let's do a fit and calculate the diffusion constant!"
      ],
      "metadata": {
        "id": "CPxNgQJyGP-S"
      }
    },
    {
      "cell_type": "code",
      "source": [
        "slope = np.linalg.lstsq(msd3D.index[:, np.newaxis], msd3D)[0][0]\n",
        "\n",
        "ax = msd3D.plot(style='o', label='MSD in 3D')\n",
        "ax.plot(np.arange(20), slope * np.arange(20), label='linear fit')\n",
        "ax.set(ylabel=r'$\\langle \\Delta r^2 \\rangle$ [$\\mu$m$^2$]', xlabel='lag time $t$')\n",
        "ax.set(xlim=(0, 16), ylim=(0, 20))\n",
        "ax.legend(loc='upper left')\n",
        "print(r'The diffusion constant is {0:.2f} μm²/s'.format(slope / 6))"
      ],
      "metadata": {
        "id": "v5Y-WLVnG0ii",
        "colab": {
          "base_uri": "https://localhost:8080/",
          "height": 520
        },
        "outputId": "7d65d868-6262-43e0-b4bd-3113a3852387"
      },
      "execution_count": null,
      "outputs": [
        {
          "output_type": "stream",
          "name": "stderr",
          "text": [
            "/usr/local/lib/python3.7/dist-packages/ipykernel_launcher.py:1: FutureWarning: Support for multi-dimensional indexing (e.g. `obj[:, None]`) is deprecated and will be removed in a future version.  Convert to a numpy array before indexing instead.\n",
            "  \"\"\"Entry point for launching an IPython kernel.\n",
            "/usr/local/lib/python3.7/dist-packages/ipykernel_launcher.py:1: FutureWarning: `rcond` parameter will change to the default of machine precision times ``max(M, N)`` where M and N are the input matrix dimensions.\n",
            "To use the future default and silence this warning we advise to pass `rcond=None`, to keep using the old, explicitly pass `rcond=-1`.\n",
            "  \"\"\"Entry point for launching an IPython kernel.\n"
          ]
        },
        {
          "output_type": "stream",
          "name": "stdout",
          "text": [
            "The diffusion constant is 0.18 μm²/s\n"
          ]
        },
        {
          "output_type": "display_data",
          "data": {
            "text/plain": [
              "<Figure size 720x432 with 1 Axes>"
            ],
            "image/png": "[encoded data removed]"
          },
          "metadata": {
            "needs_background": "light"
          }
        }
      ]
    }
  ]
}