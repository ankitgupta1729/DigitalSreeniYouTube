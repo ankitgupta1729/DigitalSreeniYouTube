{
  "nbformat": 4,
  "nbformat_minor": 0,
  "metadata": {
    "colab": {
      "provenance": []
    },
    "kernelspec": {
      "name": "python3",
      "display_name": "Python 3"
    },
    "language_info": {
      "name": "python"
    }
  },
  "cells": [
    {
      "cell_type": "markdown",
      "source": [
        "https://github.com/sartorius-research/LIVECell/tree/main"
      ],
      "metadata": {
        "id": "B1bZCXr32Ypz"
      }
    },
    {
      "cell_type": "markdown",
      "source": [
        "You can directly download from the source github page.Links below.\n",
        "\n",
        "<p>\n",
        "\n",
        "**Training json:** http://livecell-dataset.s3.eu-central-1.amazonaws.com/LIVECell_dataset_2021/annotations/LIVECell/livecell_coco_train.json\n",
        "\n",
        "<p>\n",
        "\n",
        "**Validation json:** http://livecell-dataset.s3.eu-central-1.amazonaws.com/LIVECell_dataset_2021/annotations/LIVECell/livecell_coco_val.json\n",
        "\n",
        "<p>\n",
        "\n",
        "**Test json:** http://livecell-dataset.s3.eu-central-1.amazonaws.com/LIVECell_dataset_2021/annotations/LIVECell/livecell_coco_test.json\n",
        "\n",
        "<p>\n",
        "\n",
        "**Images:** Download images.zip by following the link: http://livecell-dataset.s3.eu-central-1.amazonaws.com/LIVECell_dataset_2021/images.zip\n",
        "\n",
        "<p>\n",
        "\n",
        "If that doesn't work, use the URL from the urls.txt file. This file can be downloaded by following the code below. <p>\n",
        "\n",
        "The urls.txt contains the URLs for respective files. You can download it to colab or locally in Windows using the command prompt. Just type the following to download the train json (similarly others). <p>\n",
        "\n",
        "curl -o livecell_coco_train.json http://livecell-dataset.s3.eu-central-1.amazonaws.com/LIVECell_dataset_2021/annotations/LIVECell/livecell_coco_train.json\n",
        "\n",
        "<p>\n",
        "\n",
        "## **NOTE:** <br>\n",
        "Once you unzip the images directory you will notice that the train and val images are in the same directory and test images in a different directory. Place the test json file in the test folder and both train and val json files in the train_val directory. <p>\n",
        "\n",
        "You can write simple code to convert json labels to labeled mask images. Follow my tutorial to learn more."
      ],
      "metadata": {
        "id": "63b2Tkgf2sMy"
      }
    },
    {
      "cell_type": "code",
      "source": [
        "!curl -H \"GET /?list-type=2 HTTP/1.1\" \\\n",
        "     -H \"Host: livecell-dataset.s3.eu-central-1.amazonaws.com\" \\\n",
        "     -H \"Date: 20161025T124500Z\" \\\n",
        "     -H \"Content-Type: text/plain\" http://livecell-dataset.s3.eu-central-1.amazonaws.com/ > files.xml\n"
      ],
      "metadata": {
        "colab": {
          "base_uri": "https://localhost:8080/"
        },
        "id": "e-T01La9k64m",
        "outputId": "c531072d-abe7-4da5-be3e-8b9cbf7c1192"
      },
      "execution_count": 1,
      "outputs": [
        {
          "output_type": "stream",
          "name": "stdout",
          "text": [
            "  % Total    % Received % Xferd  Average Speed   Time    Time     Time  Current\n",
            "                                 Dload  Upload   Total   Spent    Left  Speed\n",
            "100 25149    0 25149    0     0  58348      0 --:--:-- --:--:-- --:--:-- 58486\n"
          ]
        }
      ]
    },
    {
      "cell_type": "code",
      "source": [
        "!grep -oPm1 \"(?<=<Key>)[^<]+\" files.xml | sed -e 's/^/http:\\/\\/livecell-dataset.s3.eu-central-1.amazonaws.com\\//' > urls.txt\n"
      ],
      "metadata": {
        "id": "dwQElcbclE5k"
      },
      "execution_count": 2,
      "outputs": []
    },
    {
      "cell_type": "code",
      "source": [
        "!head -n 5 urls.txt | wget -i -\n"
      ],
      "metadata": {
        "id": "LODdDdIBlIeM"
      },
      "execution_count": null,
      "outputs": []
    },
    {
      "cell_type": "code",
      "source": [
        "!sed -i '/\\/$/d' urls.txt\n"
      ],
      "metadata": {
        "id": "oQw4EM_KmFTk"
      },
      "execution_count": null,
      "outputs": []
    }
  ]
}