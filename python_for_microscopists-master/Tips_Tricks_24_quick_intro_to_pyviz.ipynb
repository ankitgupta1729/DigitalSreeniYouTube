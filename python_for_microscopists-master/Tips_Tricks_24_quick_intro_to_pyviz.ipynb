{
  "nbformat": 4,
  "nbformat_minor": 0,
  "metadata": {
    "colab": {
      "name": "Tips_Tricks_24_quick_intro_to_pyviz.ipynb",
      "provenance": [],
      "collapsed_sections": [],
      "mount_file_id": "11k8Psr9bx1xu2DGO93Snc5kp5BvKS5DX",
      "authorship_tag": "ABX9TyPTgxELizD15hXdwgYtvBo+",
      "include_colab_link": true
    },
    "kernelspec": {
      "name": "python3",
      "display_name": "Python 3"
    },
    "language_info": {
      "name": "python"
    }
  },
  "cells": [
    {
      "cell_type": "markdown",
      "metadata": {
        "id": "view-in-github",
        "colab_type": "text"
      },
      "source": [
        "<a href=\"https://colab.research.google.com/github/bnsreenu/python_for_microscopists/blob/master/Tips_Tricks_24_quick_intro_to_pyviz.ipynb\" target=\"_parent\"><img src=\"https://colab.research.google.com/assets/colab-badge.svg\" alt=\"Open In Colab\"/></a>"
      ]
    },
    {
      "cell_type": "markdown",
      "metadata": {
        "id": "A_T6TUERlIe1"
      },
      "source": [
        "https://youtu.be/PtbnC5qaXpE"
      ]
    },
    {
      "cell_type": "markdown",
      "metadata": {
        "id": "2LokW9qIcJDw"
      },
      "source": [
        "**Interactive network visualization using pyviz**\n",
        "\n"
      ]
    },
    {
      "cell_type": "code",
      "metadata": {
        "id": "jo4OOLUUcVYX"
      },
      "source": [
        "!pip install pyvis"
      ],
      "execution_count": null,
      "outputs": []
    },
    {
      "cell_type": "code",
      "metadata": {
        "id": "Xo9Pr2Hc2R0q"
      },
      "source": [
        "from pyvis.network import Network"
      ],
      "execution_count": 2,
      "outputs": []
    },
    {
      "cell_type": "code",
      "metadata": {
        "id": "wlLtWxoHfL6t"
      },
      "source": [
        "# All networks must be instantiated as a Network class instance\n",
        "net = Network()"
      ],
      "execution_count": 3,
      "outputs": []
    },
    {
      "cell_type": "code",
      "metadata": {
        "id": "glIa1WIHfTl6"
      },
      "source": [
        "#Next, add nodes to the network\n",
        "net.add_node(1, label=\"Sreeni\") # node id = 1 and label = Sreeni\n",
        "net.add_node(2) # node id and label = 2. No specific label assigned.\n",
        "\n",
        "#The ID parameter must be unique"
      ],
      "execution_count": 4,
      "outputs": []
    },
    {
      "cell_type": "code",
      "metadata": {
        "id": "1e6LGdp7gbpm"
      },
      "source": [
        "#To show the network, use net.show. This saves a html file at the specified path with the specified name. \n",
        "net.show('nodes.html')"
      ],
      "execution_count": 5,
      "outputs": []
    },
    {
      "cell_type": "code",
      "metadata": {
        "id": "i155yf8igvpg"
      },
      "source": [
        "# To display this html file in order to interact with the network\n",
        "from IPython.core.display import display, HTML\n",
        "display(HTML(\"nodes.html\"))\n",
        "#You will see two unconnected nodes. "
      ],
      "execution_count": null,
      "outputs": []
    },
    {
      "cell_type": "code",
      "metadata": {
        "id": "xraoLTHsfj3R",
        "colab": {
          "base_uri": "https://localhost:8080/",
          "height": 538
        },
        "outputId": "17b1ef9f-95a1-4208-e1ed-bb2ddc5384f2"
      },
      "source": [
        "#Instead of single nodes at a time, we can add list of nodes.\n",
        "from IPython.core.display import display, HTML\n",
        "net1 = Network()\n",
        "nodes = [\"a\", \"b\", \"c\", \"d\"]\n",
        "labels = [\"Sreeni\", \"Mike\", \"Imran\", \"Syed\"]\n",
        "net1.add_nodes(nodes, label=labels) \n",
        "net1.show('nodes1.html')\n",
        "display(HTML(\"nodes1.html\"))\n"
      ],
      "execution_count": 7,
      "outputs": [
        {
          "output_type": "display_data",
          "data": {
            "text/html": [
              "<html>\n",
              "<head>\n",
              "<link rel=\"stylesheet\" href=\"https://cdnjs.cloudflare.com/ajax/libs/vis/4.16.1/vis.css\" type=\"text/css\" />\n",
              "<script type=\"text/javascript\" src=\"https://cdnjs.cloudflare.com/ajax/libs/vis/4.16.1/vis-network.min.js\"> </script>\n",
              "<center>\n",
              "<h1></h1>\n",
              "</center>\n",
              "\n",
              "<!-- <link rel=\"stylesheet\" href=\"../node_modules/vis/dist/vis.min.css\" type=\"text/css\" />\n",
              "<script type=\"text/javascript\" src=\"../node_modules/vis/dist/vis.js\"> </script>-->\n",
              "\n",
              "<style type=\"text/css\">\n",
              "\n",
              "        #mynetwork {\n",
              "            width: 500px;\n",
              "            height: 500px;\n",
              "            background-color: #ffffff;\n",
              "            border: 1px solid lightgray;\n",
              "            position: relative;\n",
              "            float: left;\n",
              "        }\n",
              "\n",
              "        \n",
              "\n",
              "        \n",
              "\n",
              "        \n",
              "</style>\n",
              "\n",
              "</head>\n",
              "\n",
              "<body>\n",
              "<div id = \"mynetwork\"></div>\n",
              "\n",
              "\n",
              "<script type=\"text/javascript\">\n",
              "\n",
              "    // initialize global variables.\n",
              "    var edges;\n",
              "    var nodes;\n",
              "    var network; \n",
              "    var container;\n",
              "    var options, data;\n",
              "\n",
              "    \n",
              "    // This method is responsible for drawing the graph, returns the drawn network\n",
              "    function drawGraph() {\n",
              "        var container = document.getElementById('mynetwork');\n",
              "        \n",
              "        \n",
              "\n",
              "        // parsing and collecting nodes and edges from the python\n",
              "        nodes = new vis.DataSet([{\"id\": \"a\", \"label\": \"Sreeni\", \"shape\": \"dot\"}, {\"id\": \"b\", \"label\": \"Mike\", \"shape\": \"dot\"}, {\"id\": \"c\", \"label\": \"Imran\", \"shape\": \"dot\"}, {\"id\": \"d\", \"label\": \"Syed\", \"shape\": \"dot\"}]);\n",
              "        edges = new vis.DataSet([]);\n",
              "\n",
              "        // adding nodes and edges to the graph\n",
              "        data = {nodes: nodes, edges: edges};\n",
              "\n",
              "        var options = {\n",
              "    \"configure\": {\n",
              "        \"enabled\": false\n",
              "    },\n",
              "    \"edges\": {\n",
              "        \"color\": {\n",
              "            \"inherit\": true\n",
              "        },\n",
              "        \"smooth\": {\n",
              "            \"enabled\": false,\n",
              "            \"type\": \"continuous\"\n",
              "        }\n",
              "    },\n",
              "    \"interaction\": {\n",
              "        \"dragNodes\": true,\n",
              "        \"hideEdgesOnDrag\": false,\n",
              "        \"hideNodesOnDrag\": false\n",
              "    },\n",
              "    \"physics\": {\n",
              "        \"enabled\": true,\n",
              "        \"stabilization\": {\n",
              "            \"enabled\": true,\n",
              "            \"fit\": true,\n",
              "            \"iterations\": 1000,\n",
              "            \"onlyDynamicEdges\": false,\n",
              "            \"updateInterval\": 50\n",
              "        }\n",
              "    }\n",
              "};\n",
              "        \n",
              "        \n",
              "\n",
              "        \n",
              "\n",
              "        network = new vis.Network(container, data, options);\n",
              "\t \n",
              "        \n",
              "\n",
              "\n",
              "        \n",
              "\n",
              "        return network;\n",
              "\n",
              "    }\n",
              "\n",
              "    drawGraph();\n",
              "\n",
              "</script>\n",
              "</body>\n",
              "</html>"
            ],
            "text/plain": [
              "<IPython.core.display.HTML object>"
            ]
          },
          "metadata": {}
        }
      ]
    },
    {
      "cell_type": "code",
      "metadata": {
        "id": "uZ5k19fl3fky",
        "colab": {
          "base_uri": "https://localhost:8080/",
          "height": 538
        },
        "outputId": "82ccc0e1-c5ce-43ba-d7a0-eb19416658db"
      },
      "source": [
        "#We can add color to our nodes to make them look pretty\n",
        "from IPython.core.display import display, HTML\n",
        "net2 = Network()\n",
        "nodes = [\"a\", \"b\", \"c\", \"d\"]\n",
        "labels = [\"Sreeni\", \"Mike\", \"Imran\", \"Syed\"]\n",
        "colors=['#FF0000', '#00CC00', '#0000CC', '#FFCC00']\n",
        "net2.add_nodes(nodes, label=labels, color=colors) \n",
        "net2.show('nodes2.html')\n",
        "display(HTML(\"nodes2.html\"))"
      ],
      "execution_count": 8,
      "outputs": [
        {
          "output_type": "display_data",
          "data": {
            "text/html": [
              "<html>\n",
              "<head>\n",
              "<link rel=\"stylesheet\" href=\"https://cdnjs.cloudflare.com/ajax/libs/vis/4.16.1/vis.css\" type=\"text/css\" />\n",
              "<script type=\"text/javascript\" src=\"https://cdnjs.cloudflare.com/ajax/libs/vis/4.16.1/vis-network.min.js\"> </script>\n",
              "<center>\n",
              "<h1></h1>\n",
              "</center>\n",
              "\n",
              "<!-- <link rel=\"stylesheet\" href=\"../node_modules/vis/dist/vis.min.css\" type=\"text/css\" />\n",
              "<script type=\"text/javascript\" src=\"../node_modules/vis/dist/vis.js\"> </script>-->\n",
              "\n",
              "<style type=\"text/css\">\n",
              "\n",
              "        #mynetwork {\n",
              "            width: 500px;\n",
              "            height: 500px;\n",
              "            background-color: #ffffff;\n",
              "            border: 1px solid lightgray;\n",
              "            position: relative;\n",
              "            float: left;\n",
              "        }\n",
              "\n",
              "        \n",
              "\n",
              "        \n",
              "\n",
              "        \n",
              "</style>\n",
              "\n",
              "</head>\n",
              "\n",
              "<body>\n",
              "<div id = \"mynetwork\"></div>\n",
              "\n",
              "\n",
              "<script type=\"text/javascript\">\n",
              "\n",
              "    // initialize global variables.\n",
              "    var edges;\n",
              "    var nodes;\n",
              "    var network; \n",
              "    var container;\n",
              "    var options, data;\n",
              "\n",
              "    \n",
              "    // This method is responsible for drawing the graph, returns the drawn network\n",
              "    function drawGraph() {\n",
              "        var container = document.getElementById('mynetwork');\n",
              "        \n",
              "        \n",
              "\n",
              "        // parsing and collecting nodes and edges from the python\n",
              "        nodes = new vis.DataSet([{\"color\": \"#FF0000\", \"id\": \"a\", \"label\": \"Sreeni\", \"shape\": \"dot\"}, {\"color\": \"#00CC00\", \"id\": \"b\", \"label\": \"Mike\", \"shape\": \"dot\"}, {\"color\": \"#0000CC\", \"id\": \"c\", \"label\": \"Imran\", \"shape\": \"dot\"}, {\"color\": \"#FFCC00\", \"id\": \"d\", \"label\": \"Syed\", \"shape\": \"dot\"}]);\n",
              "        edges = new vis.DataSet([]);\n",
              "\n",
              "        // adding nodes and edges to the graph\n",
              "        data = {nodes: nodes, edges: edges};\n",
              "\n",
              "        var options = {\n",
              "    \"configure\": {\n",
              "        \"enabled\": false\n",
              "    },\n",
              "    \"edges\": {\n",
              "        \"color\": {\n",
              "            \"inherit\": true\n",
              "        },\n",
              "        \"smooth\": {\n",
              "            \"enabled\": false,\n",
              "            \"type\": \"continuous\"\n",
              "        }\n",
              "    },\n",
              "    \"interaction\": {\n",
              "        \"dragNodes\": true,\n",
              "        \"hideEdgesOnDrag\": false,\n",
              "        \"hideNodesOnDrag\": false\n",
              "    },\n",
              "    \"physics\": {\n",
              "        \"enabled\": true,\n",
              "        \"stabilization\": {\n",
              "            \"enabled\": true,\n",
              "            \"fit\": true,\n",
              "            \"iterations\": 1000,\n",
              "            \"onlyDynamicEdges\": false,\n",
              "            \"updateInterval\": 50\n",
              "        }\n",
              "    }\n",
              "};\n",
              "        \n",
              "        \n",
              "\n",
              "        \n",
              "\n",
              "        network = new vis.Network(container, data, options);\n",
              "\t \n",
              "        \n",
              "\n",
              "\n",
              "        \n",
              "\n",
              "        return network;\n",
              "\n",
              "    }\n",
              "\n",
              "    drawGraph();\n",
              "\n",
              "</script>\n",
              "</body>\n",
              "</html>"
            ],
            "text/plain": [
              "<IPython.core.display.HTML object>"
            ]
          },
          "metadata": {}
        }
      ]
    },
    {
      "cell_type": "code",
      "metadata": {
        "id": "xmE6ZexP4G_r",
        "colab": {
          "base_uri": "https://localhost:8080/",
          "height": 538
        },
        "outputId": "607f4987-4ad1-4de8-cbd7-380fc26789d2"
      },
      "source": [
        "#Now, let us connect these nodes using edges. \n",
        "net2.add_edges([(\"a\",\"b\"), (\"a\", \"d\")])\n",
        "net2.show('edges.html')\n",
        "display(HTML(\"edges.html\"))"
      ],
      "execution_count": 9,
      "outputs": [
        {
          "output_type": "display_data",
          "data": {
            "text/html": [
              "<html>\n",
              "<head>\n",
              "<link rel=\"stylesheet\" href=\"https://cdnjs.cloudflare.com/ajax/libs/vis/4.16.1/vis.css\" type=\"text/css\" />\n",
              "<script type=\"text/javascript\" src=\"https://cdnjs.cloudflare.com/ajax/libs/vis/4.16.1/vis-network.min.js\"> </script>\n",
              "<center>\n",
              "<h1></h1>\n",
              "</center>\n",
              "\n",
              "<!-- <link rel=\"stylesheet\" href=\"../node_modules/vis/dist/vis.min.css\" type=\"text/css\" />\n",
              "<script type=\"text/javascript\" src=\"../node_modules/vis/dist/vis.js\"> </script>-->\n",
              "\n",
              "<style type=\"text/css\">\n",
              "\n",
              "        #mynetwork {\n",
              "            width: 500px;\n",
              "            height: 500px;\n",
              "            background-color: #ffffff;\n",
              "            border: 1px solid lightgray;\n",
              "            position: relative;\n",
              "            float: left;\n",
              "        }\n",
              "\n",
              "        \n",
              "\n",
              "        \n",
              "\n",
              "        \n",
              "</style>\n",
              "\n",
              "</head>\n",
              "\n",
              "<body>\n",
              "<div id = \"mynetwork\"></div>\n",
              "\n",
              "\n",
              "<script type=\"text/javascript\">\n",
              "\n",
              "    // initialize global variables.\n",
              "    var edges;\n",
              "    var nodes;\n",
              "    var network; \n",
              "    var container;\n",
              "    var options, data;\n",
              "\n",
              "    \n",
              "    // This method is responsible for drawing the graph, returns the drawn network\n",
              "    function drawGraph() {\n",
              "        var container = document.getElementById('mynetwork');\n",
              "        \n",
              "        \n",
              "\n",
              "        // parsing and collecting nodes and edges from the python\n",
              "        nodes = new vis.DataSet([{\"color\": \"#FF0000\", \"id\": \"a\", \"label\": \"Sreeni\", \"shape\": \"dot\"}, {\"color\": \"#00CC00\", \"id\": \"b\", \"label\": \"Mike\", \"shape\": \"dot\"}, {\"color\": \"#0000CC\", \"id\": \"c\", \"label\": \"Imran\", \"shape\": \"dot\"}, {\"color\": \"#FFCC00\", \"id\": \"d\", \"label\": \"Syed\", \"shape\": \"dot\"}]);\n",
              "        edges = new vis.DataSet([{\"from\": \"a\", \"to\": \"b\"}, {\"from\": \"a\", \"to\": \"d\"}]);\n",
              "\n",
              "        // adding nodes and edges to the graph\n",
              "        data = {nodes: nodes, edges: edges};\n",
              "\n",
              "        var options = {\n",
              "    \"configure\": {\n",
              "        \"enabled\": false\n",
              "    },\n",
              "    \"edges\": {\n",
              "        \"color\": {\n",
              "            \"inherit\": true\n",
              "        },\n",
              "        \"smooth\": {\n",
              "            \"enabled\": false,\n",
              "            \"type\": \"continuous\"\n",
              "        }\n",
              "    },\n",
              "    \"interaction\": {\n",
              "        \"dragNodes\": true,\n",
              "        \"hideEdgesOnDrag\": false,\n",
              "        \"hideNodesOnDrag\": false\n",
              "    },\n",
              "    \"physics\": {\n",
              "        \"enabled\": true,\n",
              "        \"stabilization\": {\n",
              "            \"enabled\": true,\n",
              "            \"fit\": true,\n",
              "            \"iterations\": 1000,\n",
              "            \"onlyDynamicEdges\": false,\n",
              "            \"updateInterval\": 50\n",
              "        }\n",
              "    }\n",
              "};\n",
              "        \n",
              "        \n",
              "\n",
              "        \n",
              "\n",
              "        network = new vis.Network(container, data, options);\n",
              "\t \n",
              "        \n",
              "\n",
              "\n",
              "        \n",
              "\n",
              "        return network;\n",
              "\n",
              "    }\n",
              "\n",
              "    drawGraph();\n",
              "\n",
              "</script>\n",
              "</body>\n",
              "</html>"
            ],
            "text/plain": [
              "<IPython.core.display.HTML object>"
            ]
          },
          "metadata": {}
        }
      ]
    },
    {
      "cell_type": "code",
      "metadata": {
        "id": "PMQqqimB5QEK",
        "colab": {
          "base_uri": "https://localhost:8080/",
          "height": 538
        },
        "outputId": "1ab099a3-7850-407b-da1c-2f72fa491f72"
      },
      "source": [
        "#What if my friendship with Syed is stronger than with Mike? We can add weight to reflect that.\n",
        "net3 = Network()\n",
        "nodes = [\"a\", \"b\", \"c\", \"d\"]\n",
        "labels = [\"Sreeni\", \"Mike\", \"Imran\", \"Syed\"]\n",
        "colors=['#FF0000', '#00CC00', '#0000CC', '#FFCC00']\n",
        "net3.add_nodes(nodes, label=labels, color=colors) \n",
        "\n",
        "net3.add_edges([(\"a\",\"b\", 1), (\"a\", \"d\", 5)]) #Friendship with Syed is 5 times compared to Mike. \n",
        "net3.show('edges2.html')\n",
        "display(HTML(\"edges2.html\"))"
      ],
      "execution_count": 10,
      "outputs": [
        {
          "output_type": "display_data",
          "data": {
            "text/html": [
              "<html>\n",
              "<head>\n",
              "<link rel=\"stylesheet\" href=\"https://cdnjs.cloudflare.com/ajax/libs/vis/4.16.1/vis.css\" type=\"text/css\" />\n",
              "<script type=\"text/javascript\" src=\"https://cdnjs.cloudflare.com/ajax/libs/vis/4.16.1/vis-network.min.js\"> </script>\n",
              "<center>\n",
              "<h1></h1>\n",
              "</center>\n",
              "\n",
              "<!-- <link rel=\"stylesheet\" href=\"../node_modules/vis/dist/vis.min.css\" type=\"text/css\" />\n",
              "<script type=\"text/javascript\" src=\"../node_modules/vis/dist/vis.js\"> </script>-->\n",
              "\n",
              "<style type=\"text/css\">\n",
              "\n",
              "        #mynetwork {\n",
              "            width: 500px;\n",
              "            height: 500px;\n",
              "            background-color: #ffffff;\n",
              "            border: 1px solid lightgray;\n",
              "            position: relative;\n",
              "            float: left;\n",
              "        }\n",
              "\n",
              "        \n",
              "\n",
              "        \n",
              "\n",
              "        \n",
              "</style>\n",
              "\n",
              "</head>\n",
              "\n",
              "<body>\n",
              "<div id = \"mynetwork\"></div>\n",
              "\n",
              "\n",
              "<script type=\"text/javascript\">\n",
              "\n",
              "    // initialize global variables.\n",
              "    var edges;\n",
              "    var nodes;\n",
              "    var network; \n",
              "    var container;\n",
              "    var options, data;\n",
              "\n",
              "    \n",
              "    // This method is responsible for drawing the graph, returns the drawn network\n",
              "    function drawGraph() {\n",
              "        var container = document.getElementById('mynetwork');\n",
              "        \n",
              "        \n",
              "\n",
              "        // parsing and collecting nodes and edges from the python\n",
              "        nodes = new vis.DataSet([{\"color\": \"#FF0000\", \"id\": \"a\", \"label\": \"Sreeni\", \"shape\": \"dot\"}, {\"color\": \"#00CC00\", \"id\": \"b\", \"label\": \"Mike\", \"shape\": \"dot\"}, {\"color\": \"#0000CC\", \"id\": \"c\", \"label\": \"Imran\", \"shape\": \"dot\"}, {\"color\": \"#FFCC00\", \"id\": \"d\", \"label\": \"Syed\", \"shape\": \"dot\"}]);\n",
              "        edges = new vis.DataSet([{\"from\": \"a\", \"to\": \"b\", \"width\": 1}, {\"from\": \"a\", \"to\": \"d\", \"width\": 5}]);\n",
              "\n",
              "        // adding nodes and edges to the graph\n",
              "        data = {nodes: nodes, edges: edges};\n",
              "\n",
              "        var options = {\n",
              "    \"configure\": {\n",
              "        \"enabled\": false\n",
              "    },\n",
              "    \"edges\": {\n",
              "        \"color\": {\n",
              "            \"inherit\": true\n",
              "        },\n",
              "        \"smooth\": {\n",
              "            \"enabled\": false,\n",
              "            \"type\": \"continuous\"\n",
              "        }\n",
              "    },\n",
              "    \"interaction\": {\n",
              "        \"dragNodes\": true,\n",
              "        \"hideEdgesOnDrag\": false,\n",
              "        \"hideNodesOnDrag\": false\n",
              "    },\n",
              "    \"physics\": {\n",
              "        \"enabled\": true,\n",
              "        \"stabilization\": {\n",
              "            \"enabled\": true,\n",
              "            \"fit\": true,\n",
              "            \"iterations\": 1000,\n",
              "            \"onlyDynamicEdges\": false,\n",
              "            \"updateInterval\": 50\n",
              "        }\n",
              "    }\n",
              "};\n",
              "        \n",
              "        \n",
              "\n",
              "        \n",
              "\n",
              "        network = new vis.Network(container, data, options);\n",
              "\t \n",
              "        \n",
              "\n",
              "\n",
              "        \n",
              "\n",
              "        return network;\n",
              "\n",
              "    }\n",
              "\n",
              "    drawGraph();\n",
              "\n",
              "</script>\n",
              "</body>\n",
              "</html>"
            ],
            "text/plain": [
              "<IPython.core.display.HTML object>"
            ]
          },
          "metadata": {}
        }
      ]
    },
    {
      "cell_type": "code",
      "metadata": {
        "id": "eGzc2p40CWAN",
        "colab": {
          "base_uri": "https://localhost:8080/",
          "height": 538
        },
        "outputId": "e282e3ae-8558-4cb6-c95b-97989a29d207"
      },
      "source": [
        "#The node distance and spring length can be changed using the repulsion method. \n",
        "net3.repulsion(node_distance=90, spring_length=200)\n",
        "net3.show('edges3.html')\n",
        "display(HTML(\"edges3.html\"))"
      ],
      "execution_count": 11,
      "outputs": [
        {
          "output_type": "display_data",
          "data": {
            "text/html": [
              "<html>\n",
              "<head>\n",
              "<link rel=\"stylesheet\" href=\"https://cdnjs.cloudflare.com/ajax/libs/vis/4.16.1/vis.css\" type=\"text/css\" />\n",
              "<script type=\"text/javascript\" src=\"https://cdnjs.cloudflare.com/ajax/libs/vis/4.16.1/vis-network.min.js\"> </script>\n",
              "<center>\n",
              "<h1></h1>\n",
              "</center>\n",
              "\n",
              "<!-- <link rel=\"stylesheet\" href=\"../node_modules/vis/dist/vis.min.css\" type=\"text/css\" />\n",
              "<script type=\"text/javascript\" src=\"../node_modules/vis/dist/vis.js\"> </script>-->\n",
              "\n",
              "<style type=\"text/css\">\n",
              "\n",
              "        #mynetwork {\n",
              "            width: 500px;\n",
              "            height: 500px;\n",
              "            background-color: #ffffff;\n",
              "            border: 1px solid lightgray;\n",
              "            position: relative;\n",
              "            float: left;\n",
              "        }\n",
              "\n",
              "        \n",
              "\n",
              "        \n",
              "\n",
              "        \n",
              "</style>\n",
              "\n",
              "</head>\n",
              "\n",
              "<body>\n",
              "<div id = \"mynetwork\"></div>\n",
              "\n",
              "\n",
              "<script type=\"text/javascript\">\n",
              "\n",
              "    // initialize global variables.\n",
              "    var edges;\n",
              "    var nodes;\n",
              "    var network; \n",
              "    var container;\n",
              "    var options, data;\n",
              "\n",
              "    \n",
              "    // This method is responsible for drawing the graph, returns the drawn network\n",
              "    function drawGraph() {\n",
              "        var container = document.getElementById('mynetwork');\n",
              "        \n",
              "        \n",
              "\n",
              "        // parsing and collecting nodes and edges from the python\n",
              "        nodes = new vis.DataSet([{\"color\": \"#FF0000\", \"id\": \"a\", \"label\": \"Sreeni\", \"shape\": \"dot\"}, {\"color\": \"#00CC00\", \"id\": \"b\", \"label\": \"Mike\", \"shape\": \"dot\"}, {\"color\": \"#0000CC\", \"id\": \"c\", \"label\": \"Imran\", \"shape\": \"dot\"}, {\"color\": \"#FFCC00\", \"id\": \"d\", \"label\": \"Syed\", \"shape\": \"dot\"}]);\n",
              "        edges = new vis.DataSet([{\"from\": \"a\", \"to\": \"b\", \"width\": 1}, {\"from\": \"a\", \"to\": \"d\", \"width\": 5}]);\n",
              "\n",
              "        // adding nodes and edges to the graph\n",
              "        data = {nodes: nodes, edges: edges};\n",
              "\n",
              "        var options = {\n",
              "    \"configure\": {\n",
              "        \"enabled\": false\n",
              "    },\n",
              "    \"edges\": {\n",
              "        \"color\": {\n",
              "            \"inherit\": true\n",
              "        },\n",
              "        \"smooth\": {\n",
              "            \"enabled\": false,\n",
              "            \"type\": \"continuous\"\n",
              "        }\n",
              "    },\n",
              "    \"interaction\": {\n",
              "        \"dragNodes\": true,\n",
              "        \"hideEdgesOnDrag\": false,\n",
              "        \"hideNodesOnDrag\": false\n",
              "    },\n",
              "    \"physics\": {\n",
              "        \"enabled\": true,\n",
              "        \"repulsion\": {\n",
              "            \"centralGravity\": 0.2,\n",
              "            \"damping\": 0.09,\n",
              "            \"nodeDistance\": 90,\n",
              "            \"springConstant\": 0.05,\n",
              "            \"springLength\": 200\n",
              "        },\n",
              "        \"solver\": \"repulsion\",\n",
              "        \"stabilization\": {\n",
              "            \"enabled\": true,\n",
              "            \"fit\": true,\n",
              "            \"iterations\": 1000,\n",
              "            \"onlyDynamicEdges\": false,\n",
              "            \"updateInterval\": 50\n",
              "        }\n",
              "    }\n",
              "};\n",
              "        \n",
              "        \n",
              "\n",
              "        \n",
              "\n",
              "        network = new vis.Network(container, data, options);\n",
              "\t \n",
              "        \n",
              "\n",
              "\n",
              "        \n",
              "\n",
              "        return network;\n",
              "\n",
              "    }\n",
              "\n",
              "    drawGraph();\n",
              "\n",
              "</script>\n",
              "</body>\n",
              "</html>"
            ],
            "text/plain": [
              "<IPython.core.display.HTML object>"
            ]
          },
          "metadata": {}
        }
      ]
    },
    {
      "cell_type": "markdown",
      "metadata": {
        "id": "LdV48l_HfwsC"
      },
      "source": [
        "----------------------------------\n",
        "Let us create a network map of some friends. "
      ]
    },
    {
      "cell_type": "code",
      "metadata": {
        "id": "cjW2aHR8b-AH"
      },
      "source": [
        "import pandas as pd\n",
        "import numpy as np"
      ],
      "execution_count": 12,
      "outputs": []
    },
    {
      "cell_type": "code",
      "metadata": {
        "id": "gMyMuNZrON35"
      },
      "source": [
        "my_friends = [\n",
        "    (\"Sreeni\", \"Mike\"),\n",
        "    (\"Sreeni\", \"Imran\"),\n",
        "    (\"Sreeni\", \"Mustafa\"),\n",
        "    (\"Sreeni\", \"Syed\"),\n",
        "    (\"Sreeni\", \"Satya\"),\n",
        "    (\"Sreeni\", \"Vamsi\"),\n",
        "    (\"Imran\", \"Mustafa\"),\n",
        "    (\"Imran\", \"Mike\"),\n",
        "    (\"Mustafa\", \"Satya\"),\n",
        "    (\"Mustafa\", \"Vamsi\"),\n",
        "    (\"Syed\", \"Mike\"),\n",
        "    (\"Syed\", \"Satya\")\n",
        "]"
      ],
      "execution_count": 13,
      "outputs": []
    },
    {
      "cell_type": "code",
      "metadata": {
        "id": "td8s1P61cSEH",
        "colab": {
          "base_uri": "https://localhost:8080/",
          "height": 418
        },
        "outputId": "f1299eb8-5fe5-410b-9c30-8851fbb7a982"
      },
      "source": [
        "friends = pd.DataFrame(my_friends, columns=[\"friend1\", \"friend2\"])\n",
        "friends"
      ],
      "execution_count": 14,
      "outputs": [
        {
          "output_type": "execute_result",
          "data": {
            "text/html": [
              "<div>\n",
              "<style scoped>\n",
              "    .dataframe tbody tr th:only-of-type {\n",
              "        vertical-align: middle;\n",
              "    }\n",
              "\n",
              "    .dataframe tbody tr th {\n",
              "        vertical-align: top;\n",
              "    }\n",
              "\n",
              "    .dataframe thead th {\n",
              "        text-align: right;\n",
              "    }\n",
              "</style>\n",
              "<table border=\"1\" class=\"dataframe\">\n",
              "  <thead>\n",
              "    <tr style=\"text-align: right;\">\n",
              "      <th></th>\n",
              "      <th>friend1</th>\n",
              "      <th>friend2</th>\n",
              "    </tr>\n",
              "  </thead>\n",
              "  <tbody>\n",
              "    <tr>\n",
              "      <th>0</th>\n",
              "      <td>Sreeni</td>\n",
              "      <td>Mike</td>\n",
              "    </tr>\n",
              "    <tr>\n",
              "      <th>1</th>\n",
              "      <td>Sreeni</td>\n",
              "      <td>Imran</td>\n",
              "    </tr>\n",
              "    <tr>\n",
              "      <th>2</th>\n",
              "      <td>Sreeni</td>\n",
              "      <td>Mustafa</td>\n",
              "    </tr>\n",
              "    <tr>\n",
              "      <th>3</th>\n",
              "      <td>Sreeni</td>\n",
              "      <td>Syed</td>\n",
              "    </tr>\n",
              "    <tr>\n",
              "      <th>4</th>\n",
              "      <td>Sreeni</td>\n",
              "      <td>Satya</td>\n",
              "    </tr>\n",
              "    <tr>\n",
              "      <th>5</th>\n",
              "      <td>Sreeni</td>\n",
              "      <td>Vamsi</td>\n",
              "    </tr>\n",
              "    <tr>\n",
              "      <th>6</th>\n",
              "      <td>Imran</td>\n",
              "      <td>Mustafa</td>\n",
              "    </tr>\n",
              "    <tr>\n",
              "      <th>7</th>\n",
              "      <td>Imran</td>\n",
              "      <td>Mike</td>\n",
              "    </tr>\n",
              "    <tr>\n",
              "      <th>8</th>\n",
              "      <td>Mustafa</td>\n",
              "      <td>Satya</td>\n",
              "    </tr>\n",
              "    <tr>\n",
              "      <th>9</th>\n",
              "      <td>Mustafa</td>\n",
              "      <td>Vamsi</td>\n",
              "    </tr>\n",
              "    <tr>\n",
              "      <th>10</th>\n",
              "      <td>Syed</td>\n",
              "      <td>Mike</td>\n",
              "    </tr>\n",
              "    <tr>\n",
              "      <th>11</th>\n",
              "      <td>Syed</td>\n",
              "      <td>Satya</td>\n",
              "    </tr>\n",
              "  </tbody>\n",
              "</table>\n",
              "</div>"
            ],
            "text/plain": [
              "    friend1  friend2\n",
              "0    Sreeni     Mike\n",
              "1    Sreeni    Imran\n",
              "2    Sreeni  Mustafa\n",
              "3    Sreeni     Syed\n",
              "4    Sreeni    Satya\n",
              "5    Sreeni    Vamsi\n",
              "6     Imran  Mustafa\n",
              "7     Imran     Mike\n",
              "8   Mustafa    Satya\n",
              "9   Mustafa    Vamsi\n",
              "10     Syed     Mike\n",
              "11     Syed    Satya"
            ]
          },
          "metadata": {},
          "execution_count": 14
        }
      ]
    },
    {
      "cell_type": "code",
      "metadata": {
        "id": "CszjqcX78L4J",
        "colab": {
          "base_uri": "https://localhost:8080/"
        },
        "outputId": "3018ff02-cb1f-443b-ceff-c3e2128659bf"
      },
      "source": [
        "#Let us get all the names as a list. \n",
        "#The easiest way to achieve this is by getting all unique names from each column \n",
        "#and finding the union of both. This means we need to capture the data as 'set' and not a list or array or tuple. \n",
        "\n",
        "#Crash course on sets in python\n",
        "a = set([1,1,1,2,3,4,4,5,5,5])\n",
        "b = set([4,4, 5, 6, 7, 7, 8])\n",
        "print(a)\n",
        "print(b)\n",
        "print(\"Now capturing the union of both sets\")\n",
        "u = a.union(b)\n",
        "print(u)"
      ],
      "execution_count": 15,
      "outputs": [
        {
          "output_type": "stream",
          "name": "stdout",
          "text": [
            "{1, 2, 3, 4, 5}\n",
            "{4, 5, 6, 7, 8}\n",
            "Now capturing the union of both sets\n",
            "{1, 2, 3, 4, 5, 6, 7, 8}\n"
          ]
        }
      ]
    },
    {
      "cell_type": "code",
      "metadata": {
        "id": "KQuP6G0Mcc_X",
        "colab": {
          "base_uri": "https://localhost:8080/"
        },
        "outputId": "eb8b960b-656f-4138-83a9-ab60685d0535"
      },
      "source": [
        "#Now, let us get the unique list of our friends from our dataframe\n",
        "people = list(set(friends.friend1).union(set(friends.friend2))) \n",
        "print(people)\n"
      ],
      "execution_count": 16,
      "outputs": [
        {
          "output_type": "stream",
          "name": "stdout",
          "text": [
            "['Syed', 'Mike', 'Imran', 'Vamsi', 'Satya', 'Sreeni', 'Mustafa']\n"
          ]
        }
      ]
    },
    {
      "cell_type": "code",
      "metadata": {
        "id": "5NWWxmIp79ox"
      },
      "source": [
        "#Define the network and add friends to the nodes. \n",
        "from pyvis.network import Network\n",
        "\n",
        "friends_net = Network(notebook=True)\n",
        "friends_net.add_nodes(people)"
      ],
      "execution_count": 17,
      "outputs": []
    },
    {
      "cell_type": "code",
      "metadata": {
        "id": "iMVfOxFi-t1V",
        "colab": {
          "base_uri": "https://localhost:8080/"
        },
        "outputId": "676162fa-1e25-4881-aece-f77db3dee430"
      },
      "source": [
        "my_friends_list = friends.values.tolist()\n",
        "my_friends_list"
      ],
      "execution_count": 18,
      "outputs": [
        {
          "output_type": "execute_result",
          "data": {
            "text/plain": [
              "[['Sreeni', 'Mike'],\n",
              " ['Sreeni', 'Imran'],\n",
              " ['Sreeni', 'Mustafa'],\n",
              " ['Sreeni', 'Syed'],\n",
              " ['Sreeni', 'Satya'],\n",
              " ['Sreeni', 'Vamsi'],\n",
              " ['Imran', 'Mustafa'],\n",
              " ['Imran', 'Mike'],\n",
              " ['Mustafa', 'Satya'],\n",
              " ['Mustafa', 'Vamsi'],\n",
              " ['Syed', 'Mike'],\n",
              " ['Syed', 'Satya']]"
            ]
          },
          "metadata": {},
          "execution_count": 18
        }
      ]
    },
    {
      "cell_type": "code",
      "metadata": {
        "id": "l1ALYqtqciye",
        "colab": {
          "base_uri": "https://localhost:8080/",
          "height": 538
        },
        "outputId": "c1981ddb-1b91-433d-af1c-c29f7b637019"
      },
      "source": [
        "#Now, let us add edges and viusualize our network \n",
        "friends_net.add_edges(my_friends_list)\n",
        "friends_net.show(\"my_friends_map.html\")\n",
        "\n",
        "from IPython.core.display import display, HTML\n",
        "display(HTML(\"my_friends_map.html\"))"
      ],
      "execution_count": 19,
      "outputs": [
        {
          "output_type": "display_data",
          "data": {
            "text/html": [
              "<html>\n",
              "<head>\n",
              "<link rel=\"stylesheet\" href=\"https://cdnjs.cloudflare.com/ajax/libs/vis/4.16.1/vis.css\" type=\"text/css\" />\n",
              "<script type=\"text/javascript\" src=\"https://cdnjs.cloudflare.com/ajax/libs/vis/4.16.1/vis-network.min.js\"> </script>\n",
              "<center>\n",
              "<h1></h1>\n",
              "</center>\n",
              "\n",
              "<!-- <link rel=\"stylesheet\" href=\"../node_modules/vis/dist/vis.min.css\" type=\"text/css\" />\n",
              "<script type=\"text/javascript\" src=\"../node_modules/vis/dist/vis.js\"> </script>-->\n",
              "\n",
              "<style type=\"text/css\">\n",
              "\n",
              "        #mynetwork {\n",
              "            width: 500px;\n",
              "            height: 500px;\n",
              "            background-color: #ffffff;\n",
              "            border: 1px solid lightgray;\n",
              "            position: relative;\n",
              "            float: left;\n",
              "        }\n",
              "\n",
              "        \n",
              "\n",
              "        \n",
              "\n",
              "        \n",
              "</style>\n",
              "\n",
              "</head>\n",
              "\n",
              "<body>\n",
              "<div id = \"mynetwork\"></div>\n",
              "\n",
              "\n",
              "<script type=\"text/javascript\">\n",
              "\n",
              "    // initialize global variables.\n",
              "    var edges;\n",
              "    var nodes;\n",
              "    var network; \n",
              "    var container;\n",
              "    var options, data;\n",
              "\n",
              "    \n",
              "    // This method is responsible for drawing the graph, returns the drawn network\n",
              "    function drawGraph() {\n",
              "        var container = document.getElementById('mynetwork');\n",
              "        \n",
              "        \n",
              "\n",
              "        // parsing and collecting nodes and edges from the python\n",
              "        nodes = new vis.DataSet([{\"id\": \"Syed\", \"label\": \"Syed\", \"shape\": \"dot\"}, {\"id\": \"Mike\", \"label\": \"Mike\", \"shape\": \"dot\"}, {\"id\": \"Imran\", \"label\": \"Imran\", \"shape\": \"dot\"}, {\"id\": \"Vamsi\", \"label\": \"Vamsi\", \"shape\": \"dot\"}, {\"id\": \"Satya\", \"label\": \"Satya\", \"shape\": \"dot\"}, {\"id\": \"Sreeni\", \"label\": \"Sreeni\", \"shape\": \"dot\"}, {\"id\": \"Mustafa\", \"label\": \"Mustafa\", \"shape\": \"dot\"}]);\n",
              "        edges = new vis.DataSet([{\"from\": \"Sreeni\", \"to\": \"Mike\"}, {\"from\": \"Sreeni\", \"to\": \"Imran\"}, {\"from\": \"Sreeni\", \"to\": \"Mustafa\"}, {\"from\": \"Sreeni\", \"to\": \"Syed\"}, {\"from\": \"Sreeni\", \"to\": \"Satya\"}, {\"from\": \"Sreeni\", \"to\": \"Vamsi\"}, {\"from\": \"Imran\", \"to\": \"Mustafa\"}, {\"from\": \"Imran\", \"to\": \"Mike\"}, {\"from\": \"Mustafa\", \"to\": \"Satya\"}, {\"from\": \"Mustafa\", \"to\": \"Vamsi\"}, {\"from\": \"Syed\", \"to\": \"Mike\"}, {\"from\": \"Syed\", \"to\": \"Satya\"}]);\n",
              "\n",
              "        // adding nodes and edges to the graph\n",
              "        data = {nodes: nodes, edges: edges};\n",
              "\n",
              "        var options = {\n",
              "    \"configure\": {\n",
              "        \"enabled\": false\n",
              "    },\n",
              "    \"edges\": {\n",
              "        \"color\": {\n",
              "            \"inherit\": true\n",
              "        },\n",
              "        \"smooth\": {\n",
              "            \"enabled\": false,\n",
              "            \"type\": \"continuous\"\n",
              "        }\n",
              "    },\n",
              "    \"interaction\": {\n",
              "        \"dragNodes\": true,\n",
              "        \"hideEdgesOnDrag\": false,\n",
              "        \"hideNodesOnDrag\": false\n",
              "    },\n",
              "    \"physics\": {\n",
              "        \"enabled\": true,\n",
              "        \"stabilization\": {\n",
              "            \"enabled\": true,\n",
              "            \"fit\": true,\n",
              "            \"iterations\": 1000,\n",
              "            \"onlyDynamicEdges\": false,\n",
              "            \"updateInterval\": 50\n",
              "        }\n",
              "    }\n",
              "};\n",
              "        \n",
              "        \n",
              "\n",
              "        \n",
              "\n",
              "        network = new vis.Network(container, data, options);\n",
              "\t \n",
              "        \n",
              "\n",
              "\n",
              "        \n",
              "\n",
              "        return network;\n",
              "\n",
              "    }\n",
              "\n",
              "    drawGraph();\n",
              "\n",
              "</script>\n",
              "</body>\n",
              "</html>"
            ],
            "text/plain": [
              "<IPython.core.display.HTML object>"
            ]
          },
          "metadata": {}
        }
      ]
    },
    {
      "cell_type": "markdown",
      "metadata": {
        "id": "zd1svLWP_Y5-"
      },
      "source": [
        "Example from the documentation\n",
        "\n",
        "**Visualizing a Game of Thrones character network**"
      ]
    },
    {
      "cell_type": "code",
      "metadata": {
        "id": "0U0OxMno_a4M"
      },
      "source": [
        "from pyvis.network import Network\n",
        "import pandas as pd\n",
        "\n",
        "got_net = Network(height='750px', width='100%', bgcolor='#222222', font_color='white')\n",
        "\n"
      ],
      "execution_count": 20,
      "outputs": []
    },
    {
      "cell_type": "code",
      "metadata": {
        "id": "6zMePLZC_jVm",
        "colab": {
          "base_uri": "https://localhost:8080/",
          "height": 203
        },
        "outputId": "871b004b-52d9-4164-dc64-a70f4aecc90e"
      },
      "source": [
        "# set the physics layout of the network.\n",
        "#Here, we use barnes_hut (The barnesHut physics model is based on an inverted gravity model. By increasing the mass of a node, you increase it’s repulsion.)\n",
        "got_net.barnes_hut()\n",
        "\n",
        "#Get the data into a pandas dataframe\n",
        "got_data = pd.read_csv('https://www.macalester.edu/~abeverid/data/stormofswords.csv')\n",
        "\n",
        "got_data.head()"
      ],
      "execution_count": 21,
      "outputs": [
        {
          "output_type": "execute_result",
          "data": {
            "text/html": [
              "<div>\n",
              "<style scoped>\n",
              "    .dataframe tbody tr th:only-of-type {\n",
              "        vertical-align: middle;\n",
              "    }\n",
              "\n",
              "    .dataframe tbody tr th {\n",
              "        vertical-align: top;\n",
              "    }\n",
              "\n",
              "    .dataframe thead th {\n",
              "        text-align: right;\n",
              "    }\n",
              "</style>\n",
              "<table border=\"1\" class=\"dataframe\">\n",
              "  <thead>\n",
              "    <tr style=\"text-align: right;\">\n",
              "      <th></th>\n",
              "      <th>Source</th>\n",
              "      <th>Target</th>\n",
              "      <th>Weight</th>\n",
              "    </tr>\n",
              "  </thead>\n",
              "  <tbody>\n",
              "    <tr>\n",
              "      <th>0</th>\n",
              "      <td>Aemon</td>\n",
              "      <td>Grenn</td>\n",
              "      <td>5</td>\n",
              "    </tr>\n",
              "    <tr>\n",
              "      <th>1</th>\n",
              "      <td>Aemon</td>\n",
              "      <td>Samwell</td>\n",
              "      <td>31</td>\n",
              "    </tr>\n",
              "    <tr>\n",
              "      <th>2</th>\n",
              "      <td>Aerys</td>\n",
              "      <td>Jaime</td>\n",
              "      <td>18</td>\n",
              "    </tr>\n",
              "    <tr>\n",
              "      <th>3</th>\n",
              "      <td>Aerys</td>\n",
              "      <td>Robert</td>\n",
              "      <td>6</td>\n",
              "    </tr>\n",
              "    <tr>\n",
              "      <th>4</th>\n",
              "      <td>Aerys</td>\n",
              "      <td>Tyrion</td>\n",
              "      <td>5</td>\n",
              "    </tr>\n",
              "  </tbody>\n",
              "</table>\n",
              "</div>"
            ],
            "text/plain": [
              "  Source   Target  Weight\n",
              "0  Aemon    Grenn       5\n",
              "1  Aemon  Samwell      31\n",
              "2  Aerys    Jaime      18\n",
              "3  Aerys   Robert       6\n",
              "4  Aerys   Tyrion       5"
            ]
          },
          "metadata": {},
          "execution_count": 21
        }
      ]
    },
    {
      "cell_type": "code",
      "metadata": {
        "id": "LfPrDsBj_v3t"
      },
      "source": [
        "sources = got_data['Source']\n",
        "targets = got_data['Target']\n",
        "weights = got_data['Weight']\n",
        "\n"
      ],
      "execution_count": 22,
      "outputs": []
    },
    {
      "cell_type": "code",
      "metadata": {
        "id": "fEictD6rAhLN"
      },
      "source": [
        "edge_data = zip(sources, targets, weights)"
      ],
      "execution_count": 23,
      "outputs": []
    },
    {
      "cell_type": "code",
      "metadata": {
        "id": "MEsFND5CAmCc"
      },
      "source": [
        "for e in edge_data:\n",
        "    src = e[0]\n",
        "    dst = e[1]\n",
        "    w = e[2]\n",
        "\n",
        "    got_net.add_node(src, src, title=src)\n",
        "    got_net.add_node(dst, dst, title=dst)\n",
        "    got_net.add_edge(src, dst, value=w)\n",
        "\n"
      ],
      "execution_count": 24,
      "outputs": []
    },
    {
      "cell_type": "code",
      "metadata": {
        "id": "GIDmRZ1qAqY1"
      },
      "source": [
        "neighbor_map = got_net.get_adj_list()  #dictionary mapping of Node ID to list of Node IDs \n",
        "\n",
        "# add neighbor data to node hover data (Just provides list of all connected nodes to a given node\n",
        "for node in got_net.nodes:\n",
        "    node['title'] += ' Neighbors:<br>' + '<br>'.join(neighbor_map[node['id']])\n",
        "    node['value'] = len(neighbor_map[node['id']])\n",
        "\n",
        "got_net.show('gameofthrones.html')"
      ],
      "execution_count": 25,
      "outputs": []
    },
    {
      "cell_type": "code",
      "metadata": {
        "id": "CAWEt9CMA_m5"
      },
      "source": [
        "#Display to visualize the central characters and how they are all connected. \n",
        "\n",
        "from IPython.core.display import display, HTML\n",
        "display(HTML(\"gameofthrones.html\"))"
      ],
      "execution_count": null,
      "outputs": []
    }
  ]
}