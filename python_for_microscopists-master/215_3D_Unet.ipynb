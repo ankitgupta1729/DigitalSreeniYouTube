{
  "nbformat": 4,
  "nbformat_minor": 0,
  "metadata": {
    "accelerator": "GPU",
    "colab": {
      "name": "3D_Unet.ipynb",
      "provenance": [],
      "collapsed_sections": []
    },
    "kernelspec": {
      "display_name": "Python 3",
      "name": "python3"
    }
  },
  "cells": [
    {
      "cell_type": "code",
      "metadata": {
        "id": "ZNd4nlENQdMv"
      },
      "source": [
        "#This code uses 3D Unet to train a network on 3D subvolumes (64x64x64).\r\n",
        "#It also segments a large volume and outputs a multidimensional OMETIFF file\r\n",
        "#Custom dataset is used for this code but it should work on any dataset, including BRATS."
      ],
      "execution_count": null,
      "outputs": []
    },
    {
      "cell_type": "code",
      "metadata": {
        "id": "0svPshCfmK46"
      },
      "source": [
        "#Latest Tensorflow (2.4) is giving error for some of the libraries we will be using, \r\n",
        "# especially segmentation models 3D. \r\n",
        "#Therefore, I am defining TF version 1.x. \r\n",
        "#If you have your own 3D unet model, you can try the latest TF version.\r\n",
        "%tensorflow_version 1.x"
      ],
      "execution_count": null,
      "outputs": []
    },
    {
      "cell_type": "code",
      "metadata": {
        "id": "_NO5zXt_Lv6Y"
      },
      "source": [
        "#Install all dependencies for sgementation-models-3D library.\r\n",
        "#We will use this library to call 3D unet.\r\n",
        "#Alternative, you can define your own Unet, if you have skills!\r\n",
        "!pip install classification-models-3D\r\n",
        "!pip install efficientnet-3D\r\n",
        "!pip install segmentation-models-3D"
      ],
      "execution_count": null,
      "outputs": []
    },
    {
      "cell_type": "code",
      "metadata": {
        "id": "DFJYJc1p_LRy"
      },
      "source": [
        "#Use patchify to break large volumes into smaller for training \r\n",
        "#and also to put patches back together after prediction.\r\n",
        "!pip install patchify"
      ],
      "execution_count": null,
      "outputs": []
    },
    {
      "cell_type": "code",
      "metadata": {
        "id": "foXdS4Uil4WP"
      },
      "source": [
        "import tensorflow as tf\r\n",
        "import keras\r\n",
        "print(tf.__version__)\r\n",
        "print(keras.__version__)"
      ],
      "execution_count": null,
      "outputs": []
    },
    {
      "cell_type": "code",
      "metadata": {
        "id": "45aZsgManbdG"
      },
      "source": [
        "#Make sure the GPU is available. \r\n",
        "import tensorflow as tf\r\n",
        "device_name = tf.test.gpu_device_name()\r\n",
        "if device_name != '/device:GPU:0':\r\n",
        "  raise SystemError('GPU device not found')\r\n",
        "print('Found GPU at: {}'.format(device_name))"
      ],
      "execution_count": null,
      "outputs": []
    },
    {
      "cell_type": "code",
      "metadata": {
        "id": "Dr4Is2DRMMer"
      },
      "source": [
        "import segmentation_models_3D as sm\r\n"
      ],
      "execution_count": null,
      "outputs": []
    },
    {
      "cell_type": "code",
      "metadata": {
        "id": "d7hKivzw-0V9"
      },
      "source": [
        "from skimage import io\r\n",
        "from patchify import patchify, unpatchify\r\n",
        "import numpy as np\r\n",
        "from matplotlib import pyplot as plt\r\n",
        "from keras import backend as K\r\n",
        "from keras.utils import to_categorical\r\n",
        "from sklearn.model_selection import train_test_split"
      ],
      "execution_count": 8,
      "outputs": []
    },
    {
      "cell_type": "code",
      "metadata": {
        "id": "HWZiqrMK-kVb"
      },
      "source": [
        "#Load input images and masks. \r\n",
        "#Here we load 256x256x256 pixel volume. We will break it into patches of 64x64x64 for training. \r\n",
        "image = io.imread('/content/drive/MyDrive/Colab Notebooks/data/sandstone_3d/training_data/train_images_256_256_256.tif')\r\n",
        "img_patches = patchify(image, (64, 64, 64), step=64)  #Step=64 for 64 patches means no overlap\r\n",
        "\r\n",
        "mask = io.imread('/content/drive/MyDrive/Colab Notebooks/data/sandstone_3d/training_data/train_masks_256_256_256.tif')\r\n",
        "mask_patches = patchify(mask, (64, 64, 64), step=64)  \r\n"
      ],
      "execution_count": 9,
      "outputs": []
    },
    {
      "cell_type": "code",
      "metadata": {
        "id": "A8a8BumA_qpa"
      },
      "source": [
        "plt.imshow(img_patches[1,2,3,:,:,32])\r\n",
        "#plt.imshow(mask_patches[1,2,3,:,:,32])"
      ],
      "execution_count": null,
      "outputs": []
    },
    {
      "cell_type": "code",
      "metadata": {
        "id": "K08wiQ0y-ogu"
      },
      "source": [
        "\r\n",
        "input_img = np.reshape(img_patches, (-1, img_patches.shape[3], img_patches.shape[4], img_patches.shape[5]))\r\n",
        "input_mask = np.reshape(mask_patches, (-1, mask_patches.shape[3], mask_patches.shape[4], mask_patches.shape[5]))\r\n",
        "\r\n",
        "print(input_img.shape)  # n_patches, x, y, z\r\n",
        "\r\n"
      ],
      "execution_count": null,
      "outputs": []
    },
    {
      "cell_type": "code",
      "metadata": {
        "id": "3FqzxzsX_4YQ"
      },
      "source": [
        "n_classes=4"
      ],
      "execution_count": 12,
      "outputs": []
    },
    {
      "cell_type": "code",
      "metadata": {
        "id": "av8BBXU0-rdw"
      },
      "source": [
        "#Convert grey image to 3 channels by copying channel 3 times.\r\n",
        "#We do this as our unet model expects 3 channel input. \r\n",
        "\r\n",
        "train_img = np.stack((input_img,)*3, axis=-1)\r\n",
        "train_mask = np.expand_dims(input_mask, axis=4)\r\n",
        "\r\n",
        "\r\n",
        "train_mask_cat = to_categorical(train_mask, num_classes=n_classes)\r\n",
        "\r\n",
        "\r\n",
        "X_train, X_test, y_train, y_test = train_test_split(train_img, train_mask_cat, test_size = 0.10, random_state = 0)\r\n",
        "\r\n"
      ],
      "execution_count": 13,
      "outputs": []
    },
    {
      "cell_type": "code",
      "metadata": {
        "id": "Higavd5lmj6A"
      },
      "source": [
        "\r\n",
        "# Loss Function and coefficients to be used during training:\r\n",
        "def dice_coefficient(y_true, y_pred):\r\n",
        "    smoothing_factor = 1\r\n",
        "    flat_y_true = K.flatten(y_true)\r\n",
        "    flat_y_pred = K.flatten(y_pred)\r\n",
        "    return (2. * K.sum(flat_y_true * flat_y_pred) + smoothing_factor) / (K.sum(flat_y_true) + K.sum(flat_y_pred) + smoothing_factor)\r\n",
        "\r\n",
        "def dice_coefficient_loss(y_true, y_pred):\r\n",
        "    return 1 - dice_coefficient(y_true, y_pred)\r\n"
      ],
      "execution_count": 14,
      "outputs": []
    },
    {
      "cell_type": "markdown",
      "metadata": {
        "id": "wh0P2o-kQwSK"
      },
      "source": [
        "Backbones: ['resnet18', 'resnet34', 'resnet50', 'resnet101', 'resnet152', 'seresnet18', 'seresnet34', 'seresnet50', 'seresnet101', 'seresnet152', 'seresnext50', 'seresnext101', 'senet154', 'resnext50', 'resnext101', 'vgg16', 'vgg19', 'densenet121', 'densenet169', 'densenet201', 'inceptionresnetv2', 'inceptionv3', 'mobilenet', 'mobilenetv2', 'efficientnetb0', 'efficientnetb1', 'efficientnetb2', 'efficientnetb3', 'efficientnetb4', 'efficientnetb5', 'efficientnetb6', 'efficientnetb7']"
      ]
    },
    {
      "cell_type": "code",
      "metadata": {
        "id": "mWiQsv6IqGGF"
      },
      "source": [
        "#Define parameters for our model.\r\n",
        "\r\n",
        "encoder_weights = 'imagenet'\r\n",
        "BACKBONE = 'vgg16'  #Try vgg16, efficientnetb7, inceptionv3, resnet50\r\n",
        "activation = 'softmax'\r\n",
        "patch_size = 64\r\n",
        "n_classes = 4\r\n",
        "channels=3\r\n",
        "\r\n",
        "LR = 0.0001\r\n",
        "optim = keras.optimizers.Adam(LR)\r\n",
        "\r\n",
        "# Segmentation models losses can be combined together by '+' and scaled by integer or float factor\r\n",
        "# set class weights for dice_loss (car: 1.; pedestrian: 2.; background: 0.5;)\r\n",
        "dice_loss = sm.losses.DiceLoss(class_weights=np.array([0.25, 0.25, 0.25, 0.25])) \r\n",
        "focal_loss = sm.losses.CategoricalFocalLoss()\r\n",
        "total_loss = dice_loss + (1 * focal_loss)\r\n",
        "\r\n",
        "# actulally total_loss can be imported directly from library, above example just show you how to manipulate with losses\r\n",
        "# total_loss = sm.losses.binary_focal_dice_loss # or sm.losses.categorical_focal_dice_loss \r\n",
        "\r\n",
        "metrics = [sm.metrics.IOUScore(threshold=0.5), sm.metrics.FScore(threshold=0.5)]"
      ],
      "execution_count": null,
      "outputs": []
    },
    {
      "cell_type": "code",
      "metadata": {
        "id": "lePX43TyD1Lp"
      },
      "source": [
        "preprocess_input = sm.get_preprocessing(BACKBONE)"
      ],
      "execution_count": 16,
      "outputs": []
    },
    {
      "cell_type": "code",
      "metadata": {
        "id": "3jTN_tsXD7qK"
      },
      "source": [
        "#Preprocess input data - otherwise you end up with garbage resutls \r\n",
        "# and potentially model that does not converge.\r\n",
        "X_train_prep = preprocess_input(X_train)\r\n",
        "X_test_prep = preprocess_input(X_test)"
      ],
      "execution_count": 17,
      "outputs": []
    },
    {
      "cell_type": "code",
      "metadata": {
        "id": "jdoK1wudAJQ7"
      },
      "source": [
        "#Define the model. Here we use Unet but we can also use other model architectures from the library.\r\n",
        "model = sm.Unet(BACKBONE, classes=n_classes, \r\n",
        "                input_shape=(patch_size, patch_size, patch_size, channels), \r\n",
        "                encoder_weights=encoder_weights,\r\n",
        "                activation=activation)\r\n",
        "\r\n",
        "model.compile(optimizer = optim, loss=total_loss, metrics=metrics)\r\n",
        "print(model.summary())"
      ],
      "execution_count": null,
      "outputs": []
    },
    {
      "cell_type": "code",
      "metadata": {
        "id": "f69gK8DoAQ1C",
        "colab": {
          "base_uri": "https://localhost:8080/"
        },
        "outputId": "daa0be19-0866-4379-c2d1-5c59e878b12a"
      },
      "source": [
        "#Fit the model\r\n",
        "history=model.fit(X_train_prep, \r\n",
        "          y_train,\r\n",
        "          batch_size=8, \r\n",
        "          epochs=100,\r\n",
        "          verbose=1,\r\n",
        "          validation_data=(X_test_prep, y_test))"
      ],
      "execution_count": null,
      "outputs": [
        {
          "output_type": "stream",
          "text": [
            "WARNING:tensorflow:From /tensorflow-1.15.2/python3.6/tensorflow_core/python/ops/math_grad.py:1375: where (from tensorflow.python.ops.array_ops) is deprecated and will be removed in a future version.\n",
            "Instructions for updating:\n",
            "Use tf.where in 2.0, which has the same broadcast rule as np.where\n",
            "WARNING:tensorflow:From /tensorflow-1.15.2/python3.6/keras/backend/tensorflow_backend.py:422: The name tf.global_variables is deprecated. Please use tf.compat.v1.global_variables instead.\n",
            "\n",
            "Train on 57 samples, validate on 7 samples\n",
            "Epoch 1/100\n",
            "57/57 [==============================] - 42s 735ms/step - loss: 1.0129 - iou_score: 0.0845 - f1-score: 0.1436 - val_loss: 1.4637 - val_iou_score: 0.0412 - val_f1-score: 0.0750\n",
            "Epoch 2/100\n",
            "57/57 [==============================] - 14s 244ms/step - loss: 0.9787 - iou_score: 0.1936 - f1-score: 0.2965 - val_loss: 1.2845 - val_iou_score: 0.0531 - val_f1-score: 0.0951\n",
            "Epoch 3/100\n",
            "57/57 [==============================] - 14s 246ms/step - loss: 0.9565 - iou_score: 0.3277 - f1-score: 0.4564 - val_loss: 1.0878 - val_iou_score: 0.0956 - val_f1-score: 0.1649\n",
            "Epoch 4/100\n",
            "57/57 [==============================] - 14s 249ms/step - loss: 0.9421 - iou_score: 0.3731 - f1-score: 0.4933 - val_loss: 1.0750 - val_iou_score: 0.1062 - val_f1-score: 0.1784\n",
            "Epoch 5/100\n",
            "57/57 [==============================] - 14s 253ms/step - loss: 0.9300 - iou_score: 0.4231 - f1-score: 0.5383 - val_loss: 1.0357 - val_iou_score: 0.1298 - val_f1-score: 0.2102\n",
            "Epoch 6/100\n",
            "57/57 [==============================] - 15s 255ms/step - loss: 0.9225 - iou_score: 0.4479 - f1-score: 0.5656 - val_loss: 0.9947 - val_iou_score: 0.1797 - val_f1-score: 0.2811\n",
            "Epoch 7/100\n",
            "57/57 [==============================] - 14s 252ms/step - loss: 0.9127 - iou_score: 0.5027 - f1-score: 0.6285 - val_loss: 0.9757 - val_iou_score: 0.2411 - val_f1-score: 0.3627\n",
            "Epoch 8/100\n",
            "57/57 [==============================] - 14s 251ms/step - loss: 0.9026 - iou_score: 0.5462 - f1-score: 0.6758 - val_loss: 0.9375 - val_iou_score: 0.3642 - val_f1-score: 0.4842\n",
            "Epoch 9/100\n",
            "57/57 [==============================] - 14s 251ms/step - loss: 0.8952 - iou_score: 0.5602 - f1-score: 0.6837 - val_loss: 0.9222 - val_iou_score: 0.4072 - val_f1-score: 0.5261\n",
            "Epoch 10/100\n",
            "57/57 [==============================] - 14s 252ms/step - loss: 0.8905 - iou_score: 0.5679 - f1-score: 0.6912 - val_loss: 0.9093 - val_iou_score: 0.4784 - val_f1-score: 0.6114\n",
            "Epoch 11/100\n",
            "57/57 [==============================] - 14s 253ms/step - loss: 0.8823 - iou_score: 0.6151 - f1-score: 0.7410 - val_loss: 0.9068 - val_iou_score: 0.4836 - val_f1-score: 0.6109\n",
            "Epoch 12/100\n",
            "57/57 [==============================] - 14s 252ms/step - loss: 0.8784 - iou_score: 0.6089 - f1-score: 0.7275 - val_loss: 0.9016 - val_iou_score: 0.5360 - val_f1-score: 0.6704\n",
            "Epoch 13/100\n",
            "57/57 [==============================] - 14s 252ms/step - loss: 0.8724 - iou_score: 0.6237 - f1-score: 0.7459 - val_loss: 0.8898 - val_iou_score: 0.5834 - val_f1-score: 0.7076\n",
            "Epoch 14/100\n",
            "57/57 [==============================] - 14s 252ms/step - loss: 0.8669 - iou_score: 0.6338 - f1-score: 0.7512 - val_loss: 0.8829 - val_iou_score: 0.6364 - val_f1-score: 0.7582\n",
            "Epoch 15/100\n",
            "57/57 [==============================] - 14s 251ms/step - loss: 0.8584 - iou_score: 0.6567 - f1-score: 0.7764 - val_loss: 0.8749 - val_iou_score: 0.6722 - val_f1-score: 0.7855\n",
            "Epoch 16/100\n",
            "57/57 [==============================] - 14s 251ms/step - loss: 0.8531 - iou_score: 0.6725 - f1-score: 0.7848 - val_loss: 0.8851 - val_iou_score: 0.6099 - val_f1-score: 0.7381\n",
            "Epoch 17/100\n",
            "57/57 [==============================] - 14s 251ms/step - loss: 0.8503 - iou_score: 0.6573 - f1-score: 0.7675 - val_loss: 0.8854 - val_iou_score: 0.6234 - val_f1-score: 0.7460\n",
            "Epoch 18/100\n",
            "57/57 [==============================] - 14s 251ms/step - loss: 0.8484 - iou_score: 0.6758 - f1-score: 0.7887 - val_loss: 0.8772 - val_iou_score: 0.6269 - val_f1-score: 0.7423\n",
            "Epoch 19/100\n",
            "57/57 [==============================] - 14s 251ms/step - loss: 0.8417 - iou_score: 0.6925 - f1-score: 0.8035 - val_loss: 0.8726 - val_iou_score: 0.6433 - val_f1-score: 0.7544\n",
            "Epoch 20/100\n",
            "57/57 [==============================] - 14s 252ms/step - loss: 0.8423 - iou_score: 0.6723 - f1-score: 0.7834 - val_loss: 0.8624 - val_iou_score: 0.6998 - val_f1-score: 0.8105\n",
            "Epoch 21/100\n",
            "57/57 [==============================] - 14s 252ms/step - loss: 0.8349 - iou_score: 0.6938 - f1-score: 0.8002 - val_loss: 0.8650 - val_iou_score: 0.6872 - val_f1-score: 0.7994\n",
            "Epoch 22/100\n",
            "57/57 [==============================] - 14s 252ms/step - loss: 0.8354 - iou_score: 0.6813 - f1-score: 0.7910 - val_loss: 0.8537 - val_iou_score: 0.7167 - val_f1-score: 0.8186\n",
            "Epoch 23/100\n",
            "57/57 [==============================] - 14s 251ms/step - loss: 0.8374 - iou_score: 0.6754 - f1-score: 0.7854 - val_loss: 0.8526 - val_iou_score: 0.7208 - val_f1-score: 0.8215\n",
            "Epoch 24/100\n",
            "57/57 [==============================] - 14s 252ms/step - loss: 0.8290 - iou_score: 0.7036 - f1-score: 0.8078 - val_loss: 0.8583 - val_iou_score: 0.6792 - val_f1-score: 0.7916\n",
            "Epoch 25/100\n",
            "57/57 [==============================] - 14s 252ms/step - loss: 0.8291 - iou_score: 0.6946 - f1-score: 0.8002 - val_loss: 0.8468 - val_iou_score: 0.7225 - val_f1-score: 0.8227\n",
            "Epoch 26/100\n",
            "57/57 [==============================] - 14s 252ms/step - loss: 0.8248 - iou_score: 0.6955 - f1-score: 0.7990 - val_loss: 0.8441 - val_iou_score: 0.7159 - val_f1-score: 0.8197\n",
            "Epoch 27/100\n",
            "57/57 [==============================] - 14s 252ms/step - loss: 0.8281 - iou_score: 0.6790 - f1-score: 0.7797 - val_loss: 0.8490 - val_iou_score: 0.6801 - val_f1-score: 0.7934\n",
            "Epoch 28/100\n",
            "57/57 [==============================] - 14s 251ms/step - loss: 0.8210 - iou_score: 0.6976 - f1-score: 0.8003 - val_loss: 0.8438 - val_iou_score: 0.6886 - val_f1-score: 0.8004\n",
            "Epoch 29/100\n",
            "57/57 [==============================] - 14s 251ms/step - loss: 0.8179 - iou_score: 0.7160 - f1-score: 0.8188 - val_loss: 0.8373 - val_iou_score: 0.7165 - val_f1-score: 0.8146\n",
            "Epoch 30/100\n",
            "57/57 [==============================] - 14s 251ms/step - loss: 0.8231 - iou_score: 0.6876 - f1-score: 0.7856 - val_loss: 0.8401 - val_iou_score: 0.6955 - val_f1-score: 0.7969\n",
            "Epoch 31/100\n",
            "57/57 [==============================] - 14s 251ms/step - loss: 0.8217 - iou_score: 0.6875 - f1-score: 0.7856 - val_loss: 0.8287 - val_iou_score: 0.7400 - val_f1-score: 0.8393\n",
            "Epoch 32/100\n",
            "57/57 [==============================] - 14s 251ms/step - loss: 0.8199 - iou_score: 0.7129 - f1-score: 0.8173 - val_loss: 0.8250 - val_iou_score: 0.7405 - val_f1-score: 0.8362\n",
            "Epoch 33/100\n",
            "57/57 [==============================] - 14s 251ms/step - loss: 0.8135 - iou_score: 0.7362 - f1-score: 0.8362 - val_loss: 0.8311 - val_iou_score: 0.6984 - val_f1-score: 0.7921\n",
            "Epoch 34/100\n",
            "57/57 [==============================] - 14s 251ms/step - loss: 0.8170 - iou_score: 0.7110 - f1-score: 0.8103 - val_loss: 0.8173 - val_iou_score: 0.7457 - val_f1-score: 0.8408\n",
            "Epoch 35/100\n",
            "57/57 [==============================] - 14s 250ms/step - loss: 0.8109 - iou_score: 0.7256 - f1-score: 0.8268 - val_loss: 0.8179 - val_iou_score: 0.7338 - val_f1-score: 0.8294\n",
            "Epoch 36/100\n",
            "57/57 [==============================] - 14s 250ms/step - loss: 0.8160 - iou_score: 0.7029 - f1-score: 0.8001 - val_loss: 0.8237 - val_iou_score: 0.7087 - val_f1-score: 0.8050\n",
            "Epoch 37/100\n",
            "57/57 [==============================] - 14s 250ms/step - loss: 0.8148 - iou_score: 0.7225 - f1-score: 0.8248 - val_loss: 0.8331 - val_iou_score: 0.6704 - val_f1-score: 0.7799\n",
            "Epoch 38/100\n",
            "57/57 [==============================] - 14s 251ms/step - loss: 0.8155 - iou_score: 0.6966 - f1-score: 0.7961 - val_loss: 0.8176 - val_iou_score: 0.7267 - val_f1-score: 0.8227\n",
            "Epoch 39/100\n",
            "57/57 [==============================] - 14s 251ms/step - loss: 0.8100 - iou_score: 0.7267 - f1-score: 0.8262 - val_loss: 0.8165 - val_iou_score: 0.7342 - val_f1-score: 0.8318\n",
            "Epoch 40/100\n",
            "57/57 [==============================] - 14s 250ms/step - loss: 0.8148 - iou_score: 0.7250 - f1-score: 0.8270 - val_loss: 0.8142 - val_iou_score: 0.7291 - val_f1-score: 0.8289\n",
            "Epoch 41/100\n",
            "57/57 [==============================] - 14s 250ms/step - loss: 0.8105 - iou_score: 0.7135 - f1-score: 0.8082 - val_loss: 0.8208 - val_iou_score: 0.7004 - val_f1-score: 0.8024\n",
            "Epoch 42/100\n",
            "57/57 [==============================] - 14s 250ms/step - loss: 0.8082 - iou_score: 0.7349 - f1-score: 0.8341 - val_loss: 0.8171 - val_iou_score: 0.7150 - val_f1-score: 0.8165\n",
            "Epoch 43/100\n",
            "57/57 [==============================] - 14s 250ms/step - loss: 0.8078 - iou_score: 0.7242 - f1-score: 0.8205 - val_loss: 0.8373 - val_iou_score: 0.6381 - val_f1-score: 0.7563\n",
            "Epoch 44/100\n",
            "57/57 [==============================] - 14s 250ms/step - loss: 0.8079 - iou_score: 0.7375 - f1-score: 0.8352 - val_loss: 0.8236 - val_iou_score: 0.6914 - val_f1-score: 0.7864\n",
            "Epoch 45/100\n",
            "57/57 [==============================] - 14s 250ms/step - loss: 0.8088 - iou_score: 0.7459 - f1-score: 0.8403 - val_loss: 0.8492 - val_iou_score: 0.6055 - val_f1-score: 0.7205\n",
            "Epoch 46/100\n",
            "57/57 [==============================] - 14s 250ms/step - loss: 0.8083 - iou_score: 0.7174 - f1-score: 0.8102 - val_loss: 0.8138 - val_iou_score: 0.7239 - val_f1-score: 0.8200\n",
            "Epoch 47/100\n",
            "57/57 [==============================] - 14s 250ms/step - loss: 0.8069 - iou_score: 0.7401 - f1-score: 0.8376 - val_loss: 0.8351 - val_iou_score: 0.6452 - val_f1-score: 0.7594\n",
            "Epoch 48/100\n",
            "57/57 [==============================] - 14s 251ms/step - loss: 0.8060 - iou_score: 0.7265 - f1-score: 0.8192 - val_loss: 0.8148 - val_iou_score: 0.7156 - val_f1-score: 0.8160\n",
            "Epoch 49/100\n",
            "57/57 [==============================] - 14s 250ms/step - loss: 0.8027 - iou_score: 0.7558 - f1-score: 0.8497 - val_loss: 0.8464 - val_iou_score: 0.6131 - val_f1-score: 0.7237\n",
            "Epoch 50/100\n",
            "57/57 [==============================] - 14s 250ms/step - loss: 0.8063 - iou_score: 0.7379 - f1-score: 0.8376 - val_loss: 0.8103 - val_iou_score: 0.7272 - val_f1-score: 0.8320\n",
            "Epoch 51/100\n",
            "57/57 [==============================] - 14s 250ms/step - loss: 0.8040 - iou_score: 0.7408 - f1-score: 0.8362 - val_loss: 0.8506 - val_iou_score: 0.6155 - val_f1-score: 0.7122\n",
            "Epoch 52/100\n",
            "57/57 [==============================] - 14s 250ms/step - loss: 0.8040 - iou_score: 0.7488 - f1-score: 0.8453 - val_loss: 0.8293 - val_iou_score: 0.6468 - val_f1-score: 0.7697\n",
            "Epoch 53/100\n",
            "57/57 [==============================] - 14s 250ms/step - loss: 0.8061 - iou_score: 0.7346 - f1-score: 0.8284 - val_loss: 0.8186 - val_iou_score: 0.7028 - val_f1-score: 0.8042\n",
            "Epoch 54/100\n",
            "57/57 [==============================] - 14s 250ms/step - loss: 0.8059 - iou_score: 0.7302 - f1-score: 0.8279 - val_loss: 0.8164 - val_iou_score: 0.7074 - val_f1-score: 0.8109\n",
            "Epoch 55/100\n",
            "57/57 [==============================] - 14s 250ms/step - loss: 0.8046 - iou_score: 0.7546 - f1-score: 0.8445 - val_loss: 0.8274 - val_iou_score: 0.6757 - val_f1-score: 0.7807\n",
            "Epoch 56/100\n",
            "57/57 [==============================] - 14s 250ms/step - loss: 0.8044 - iou_score: 0.7506 - f1-score: 0.8409 - val_loss: 0.8071 - val_iou_score: 0.7447 - val_f1-score: 0.8401\n",
            "Epoch 57/100\n",
            "57/57 [==============================] - 14s 250ms/step - loss: 0.7988 - iou_score: 0.7694 - f1-score: 0.8602 - val_loss: 0.8277 - val_iou_score: 0.6749 - val_f1-score: 0.7731\n",
            "Epoch 58/100\n",
            "57/57 [==============================] - 14s 250ms/step - loss: 0.8012 - iou_score: 0.7537 - f1-score: 0.8480 - val_loss: 0.8173 - val_iou_score: 0.7052 - val_f1-score: 0.8101\n",
            "Epoch 59/100\n",
            "57/57 [==============================] - 14s 250ms/step - loss: 0.7992 - iou_score: 0.7591 - f1-score: 0.8526 - val_loss: 0.8315 - val_iou_score: 0.6467 - val_f1-score: 0.7635\n",
            "Epoch 60/100\n",
            "57/57 [==============================] - 14s 250ms/step - loss: 0.7999 - iou_score: 0.7571 - f1-score: 0.8512 - val_loss: 0.8159 - val_iou_score: 0.7116 - val_f1-score: 0.8136\n",
            "Epoch 61/100\n",
            "57/57 [==============================] - 14s 250ms/step - loss: 0.8047 - iou_score: 0.7433 - f1-score: 0.8389 - val_loss: 0.8159 - val_iou_score: 0.7052 - val_f1-score: 0.8112\n",
            "Epoch 62/100\n",
            "57/57 [==============================] - 14s 250ms/step - loss: 0.7977 - iou_score: 0.7636 - f1-score: 0.8555 - val_loss: 0.8251 - val_iou_score: 0.6753 - val_f1-score: 0.7853\n",
            "Epoch 63/100\n",
            "57/57 [==============================] - 14s 250ms/step - loss: 0.8007 - iou_score: 0.7409 - f1-score: 0.8299 - val_loss: 0.8023 - val_iou_score: 0.7571 - val_f1-score: 0.8496\n",
            "Epoch 64/100\n",
            "57/57 [==============================] - 14s 250ms/step - loss: 0.8064 - iou_score: 0.7123 - f1-score: 0.8078 - val_loss: 0.8272 - val_iou_score: 0.6704 - val_f1-score: 0.7808\n",
            "Epoch 65/100\n",
            "57/57 [==============================] - 14s 250ms/step - loss: 0.8005 - iou_score: 0.7585 - f1-score: 0.8525 - val_loss: 0.8161 - val_iou_score: 0.7051 - val_f1-score: 0.8079\n",
            "Epoch 66/100\n",
            "57/57 [==============================] - 14s 250ms/step - loss: 0.8001 - iou_score: 0.7619 - f1-score: 0.8550 - val_loss: 0.8185 - val_iou_score: 0.7022 - val_f1-score: 0.8020\n",
            "Epoch 67/100\n",
            "57/57 [==============================] - 14s 250ms/step - loss: 0.7982 - iou_score: 0.7637 - f1-score: 0.8512 - val_loss: 0.8242 - val_iou_score: 0.6847 - val_f1-score: 0.7865\n",
            "Epoch 68/100\n",
            "57/57 [==============================] - 14s 250ms/step - loss: 0.7962 - iou_score: 0.7596 - f1-score: 0.8488 - val_loss: 0.8086 - val_iou_score: 0.7322 - val_f1-score: 0.8298\n",
            "Epoch 69/100\n",
            "57/57 [==============================] - 14s 250ms/step - loss: 0.7996 - iou_score: 0.7521 - f1-score: 0.8452 - val_loss: 0.8297 - val_iou_score: 0.6664 - val_f1-score: 0.7734\n",
            "Epoch 70/100\n",
            "57/57 [==============================] - 14s 250ms/step - loss: 0.8006 - iou_score: 0.7352 - f1-score: 0.8294 - val_loss: 0.8089 - val_iou_score: 0.7377 - val_f1-score: 0.8297\n",
            "Epoch 71/100\n",
            "57/57 [==============================] - 14s 250ms/step - loss: 0.7965 - iou_score: 0.7720 - f1-score: 0.8614 - val_loss: 0.8152 - val_iou_score: 0.7058 - val_f1-score: 0.8140\n",
            "Epoch 72/100\n",
            "57/57 [==============================] - 14s 250ms/step - loss: 0.7964 - iou_score: 0.7732 - f1-score: 0.8609 - val_loss: 0.8189 - val_iou_score: 0.7047 - val_f1-score: 0.7975\n",
            "Epoch 73/100\n",
            "57/57 [==============================] - 14s 250ms/step - loss: 0.8001 - iou_score: 0.7694 - f1-score: 0.8560 - val_loss: 0.8186 - val_iou_score: 0.6972 - val_f1-score: 0.8051\n",
            "Epoch 74/100\n",
            "57/57 [==============================] - 14s 250ms/step - loss: 0.7948 - iou_score: 0.7793 - f1-score: 0.8677 - val_loss: 0.8124 - val_iou_score: 0.7227 - val_f1-score: 0.8196\n",
            "Epoch 75/100\n",
            "57/57 [==============================] - 14s 250ms/step - loss: 0.7930 - iou_score: 0.7937 - f1-score: 0.8783 - val_loss: 0.8095 - val_iou_score: 0.7341 - val_f1-score: 0.8306\n",
            "Epoch 76/100\n",
            "57/57 [==============================] - 14s 250ms/step - loss: 0.7942 - iou_score: 0.7870 - f1-score: 0.8733 - val_loss: 0.8200 - val_iou_score: 0.7044 - val_f1-score: 0.7964\n",
            "Epoch 77/100\n",
            "57/57 [==============================] - 14s 250ms/step - loss: 0.7954 - iou_score: 0.7662 - f1-score: 0.8554 - val_loss: 0.8197 - val_iou_score: 0.6864 - val_f1-score: 0.7990\n",
            "Epoch 78/100\n",
            "57/57 [==============================] - 14s 250ms/step - loss: 0.7955 - iou_score: 0.7591 - f1-score: 0.8480 - val_loss: 0.8119 - val_iou_score: 0.7293 - val_f1-score: 0.8219\n",
            "Epoch 79/100\n",
            "57/57 [==============================] - 14s 250ms/step - loss: 0.8001 - iou_score: 0.7680 - f1-score: 0.8556 - val_loss: 0.8091 - val_iou_score: 0.7341 - val_f1-score: 0.8328\n",
            "Epoch 80/100\n",
            "57/57 [==============================] - 14s 250ms/step - loss: 0.7963 - iou_score: 0.7723 - f1-score: 0.8593 - val_loss: 0.8079 - val_iou_score: 0.7375 - val_f1-score: 0.8324\n",
            "Epoch 81/100\n",
            "57/57 [==============================] - 14s 249ms/step - loss: 0.7974 - iou_score: 0.7705 - f1-score: 0.8588 - val_loss: 0.8290 - val_iou_score: 0.6806 - val_f1-score: 0.7795\n",
            "Epoch 82/100\n",
            "57/57 [==============================] - 14s 249ms/step - loss: 0.7981 - iou_score: 0.7595 - f1-score: 0.8488 - val_loss: 0.8231 - val_iou_score: 0.6980 - val_f1-score: 0.7913\n",
            "Epoch 83/100\n",
            "57/57 [==============================] - 14s 249ms/step - loss: 0.7941 - iou_score: 0.7837 - f1-score: 0.8712 - val_loss: 0.8068 - val_iou_score: 0.7361 - val_f1-score: 0.8373\n",
            "Epoch 84/100\n",
            "57/57 [==============================] - 14s 249ms/step - loss: 0.7951 - iou_score: 0.7778 - f1-score: 0.8661 - val_loss: 0.8224 - val_iou_score: 0.6978 - val_f1-score: 0.7979\n",
            "Epoch 85/100\n",
            "57/57 [==============================] - 14s 249ms/step - loss: 0.7925 - iou_score: 0.7886 - f1-score: 0.8746 - val_loss: 0.8079 - val_iou_score: 0.7387 - val_f1-score: 0.8317\n",
            "Epoch 86/100\n",
            "57/57 [==============================] - 14s 249ms/step - loss: 0.7929 - iou_score: 0.7662 - f1-score: 0.8471 - val_loss: 0.8235 - val_iou_score: 0.6832 - val_f1-score: 0.7911\n",
            "Epoch 87/100\n",
            "57/57 [==============================] - 14s 249ms/step - loss: 0.7963 - iou_score: 0.7686 - f1-score: 0.8536 - val_loss: 0.8021 - val_iou_score: 0.7618 - val_f1-score: 0.8524\n",
            "Epoch 88/100\n",
            "57/57 [==============================] - 14s 250ms/step - loss: 0.7923 - iou_score: 0.7836 - f1-score: 0.8690 - val_loss: 0.8087 - val_iou_score: 0.7355 - val_f1-score: 0.8331\n",
            "Epoch 89/100\n",
            "57/57 [==============================] - 14s 249ms/step - loss: 0.7909 - iou_score: 0.8026 - f1-score: 0.8843 - val_loss: 0.8095 - val_iou_score: 0.7371 - val_f1-score: 0.8325\n",
            "Epoch 90/100\n",
            "57/57 [==============================] - 14s 250ms/step - loss: 0.7906 - iou_score: 0.7992 - f1-score: 0.8809 - val_loss: 0.8085 - val_iou_score: 0.7382 - val_f1-score: 0.8317\n",
            "Epoch 91/100\n",
            "57/57 [==============================] - 14s 249ms/step - loss: 0.7928 - iou_score: 0.7702 - f1-score: 0.8480 - val_loss: 0.8120 - val_iou_score: 0.7266 - val_f1-score: 0.8254\n",
            "Epoch 92/100\n",
            "57/57 [==============================] - 14s 249ms/step - loss: 0.7912 - iou_score: 0.7716 - f1-score: 0.8496 - val_loss: 0.8127 - val_iou_score: 0.7205 - val_f1-score: 0.8210\n",
            "Epoch 93/100\n",
            "57/57 [==============================] - 14s 250ms/step - loss: 0.7915 - iou_score: 0.7968 - f1-score: 0.8777 - val_loss: 0.8028 - val_iou_score: 0.7567 - val_f1-score: 0.8511\n",
            "Epoch 94/100\n",
            "57/57 [==============================] - 14s 250ms/step - loss: 0.7912 - iou_score: 0.7948 - f1-score: 0.8784 - val_loss: 0.8086 - val_iou_score: 0.7349 - val_f1-score: 0.8304\n",
            "Epoch 95/100\n",
            "57/57 [==============================] - 14s 250ms/step - loss: 0.7921 - iou_score: 0.7821 - f1-score: 0.8649 - val_loss: 0.8049 - val_iou_score: 0.7518 - val_f1-score: 0.8430\n",
            "Epoch 96/100\n",
            "57/57 [==============================] - 14s 249ms/step - loss: 0.7918 - iou_score: 0.7930 - f1-score: 0.8754 - val_loss: 0.8148 - val_iou_score: 0.7097 - val_f1-score: 0.8144\n",
            "Epoch 97/100\n",
            "57/57 [==============================] - 14s 249ms/step - loss: 0.7914 - iou_score: 0.8002 - f1-score: 0.8824 - val_loss: 0.7994 - val_iou_score: 0.7717 - val_f1-score: 0.8604\n",
            "Epoch 98/100\n",
            "57/57 [==============================] - 14s 249ms/step - loss: 0.7909 - iou_score: 0.7725 - f1-score: 0.8512 - val_loss: 0.8146 - val_iou_score: 0.7227 - val_f1-score: 0.8157\n",
            "Epoch 99/100\n",
            "57/57 [==============================] - 14s 249ms/step - loss: 0.7895 - iou_score: 0.7979 - f1-score: 0.8794 - val_loss: 0.8015 - val_iou_score: 0.7608 - val_f1-score: 0.8539\n",
            "Epoch 100/100\n",
            "57/57 [==============================] - 14s 250ms/step - loss: 0.7908 - iou_score: 0.7766 - f1-score: 0.8551 - val_loss: 0.8095 - val_iou_score: 0.7327 - val_f1-score: 0.8284\n"
          ],
          "name": "stdout"
        }
      ]
    },
    {
      "cell_type": "markdown",
      "metadata": {
        "id": "whtF9V1npJ8s"
      },
      "source": [
        ""
      ]
    },
    {
      "cell_type": "code",
      "metadata": {
        "id": "LVTe3TrrE6DS"
      },
      "source": [
        "#Save model for future use\r\n",
        "model.save('/content/drive/MyDrive/Colab Notebooks/data/sandstone_3d/3D_model_vgg16_100epochs.h5')"
      ],
      "execution_count": null,
      "outputs": []
    },
    {
      "cell_type": "code",
      "metadata": {
        "id": "5Nk4OFMzAoLk",
        "colab": {
          "base_uri": "https://localhost:8080/",
          "height": 573
        },
        "outputId": "8a6a4c7e-f6a4-41b1-ddb0-8723f229014a"
      },
      "source": [
        "###\r\n",
        "#plot the training and validation IoU and loss at each epoch\r\n",
        "loss = history.history['loss']\r\n",
        "val_loss = history.history['val_loss']\r\n",
        "epochs = range(1, len(loss) + 1)\r\n",
        "plt.plot(epochs, loss, 'y', label='Training loss')\r\n",
        "plt.plot(epochs, val_loss, 'r', label='Validation loss')\r\n",
        "plt.title('Training and validation loss')\r\n",
        "plt.xlabel('Epochs')\r\n",
        "plt.ylabel('Loss')\r\n",
        "plt.legend()\r\n",
        "plt.show()\r\n",
        "\r\n",
        "acc = history.history['iou_score']\r\n",
        "val_acc = history.history['val_iou_score']\r\n",
        "\r\n",
        "plt.plot(epochs, acc, 'y', label='Training IOU')\r\n",
        "plt.plot(epochs, val_acc, 'r', label='Validation IOU')\r\n",
        "plt.title('Training and validation IOU')\r\n",
        "plt.xlabel('Epochs')\r\n",
        "plt.ylabel('IOU')\r\n",
        "plt.legend()\r\n",
        "plt.show()"
      ],
      "execution_count": null,
      "outputs": [
        {
          "output_type": "display_data",
          "data": {
            "image/png": "[encoded data removed]",
            "text/plain": [
              "<Figure size 432x288 with 1 Axes>"
            ]
          },
          "metadata": {
            "tags": [],
            "needs_background": "light"
          }
        },
        {
          "output_type": "display_data",
          "data": {
            "image/png": "[encoded data removed]",
            "text/plain": [
              "<Figure size 432x288 with 1 Axes>"
            ]
          },
          "metadata": {
            "tags": [],
            "needs_background": "light"
          }
        }
      ]
    },
    {
      "cell_type": "code",
      "metadata": {
        "id": "lwjlR25nF54w"
      },
      "source": [
        "#Load the pretrained model for testing and predictions. \r\n",
        "from keras.models import load_model\r\n",
        "my_model = load_model('/content/drive/MyDrive/Colab Notebooks/data/sandstone_3d/3D_model_vgg16_100epochs.h5', compile=False)\r\n",
        "#If you load a different model do not forget to preprocess accordingly. "
      ],
      "execution_count": 19,
      "outputs": []
    },
    {
      "cell_type": "code",
      "metadata": {
        "id": "kTAQpcUQA7SN"
      },
      "source": [
        "#Predict on the test data\r\n",
        "y_pred=my_model.predict(X_test)\r\n",
        "y_pred_argmax=np.argmax(y_pred, axis=4)\r\n",
        "y_test_argmax = np.argmax(y_test, axis=4)\r\n"
      ],
      "execution_count": 21,
      "outputs": []
    },
    {
      "cell_type": "code",
      "metadata": {
        "id": "FjHYiOqYBifK"
      },
      "source": [
        "print(y_pred_argmax.shape)\r\n",
        "print(y_test_argmax.shape)\r\n",
        "print(np.unique(y_pred_argmax))"
      ],
      "execution_count": null,
      "outputs": []
    },
    {
      "cell_type": "code",
      "metadata": {
        "id": "3lv4EhPCHsrz"
      },
      "source": [
        "#Using built in keras function for IoU\r\n",
        "#Only works on TF > 2.0\r\n",
        "#from keras.metrics import MeanIoU\r\n",
        "#from keras.metrics import MeanIoU\r\n",
        "#n_classes = 4\r\n",
        "#IOU_keras = MeanIoU(num_classes=n_classes)  \r\n",
        "#IOU_keras.update_state(y_test_argmax, y_pred_argmax)\r\n",
        "#print(\"Mean IoU =\", IOU_keras.result().numpy())"
      ],
      "execution_count": null,
      "outputs": []
    },
    {
      "cell_type": "code",
      "metadata": {
        "id": "BPcRSfobCBrE"
      },
      "source": [
        "#Test some random images\r\n",
        "import random\r\n",
        "test_img_number = random.randint(0, len(X_test))\r\n",
        "test_img = X_test[test_img_number]\r\n",
        "ground_truth=y_test[test_img_number]\r\n",
        "\r\n",
        "test_img_input=np.expand_dims(test_img, 0)\r\n",
        "test_img_input1 = preprocess_input(test_img_input)\r\n",
        "\r\n",
        "test_pred1 = my_model.predict(test_img_input1)\r\n",
        "test_prediction1 = np.argmax(test_pred1, axis=4)[0,:,:,:]\r\n",
        "print(test_prediction1.shape)\r\n",
        "\r\n",
        "\r\n"
      ],
      "execution_count": null,
      "outputs": []
    },
    {
      "cell_type": "code",
      "metadata": {
        "id": "KGQr-RxdFYuF"
      },
      "source": [
        "ground_truth_argmax = np.argmax(ground_truth, axis=3)\r\n",
        "print(test_img.shape)"
      ],
      "execution_count": null,
      "outputs": []
    },
    {
      "cell_type": "code",
      "metadata": {
        "id": "7W9XsGK7FMuN",
        "colab": {
          "base_uri": "https://localhost:8080/",
          "height": 261
        },
        "outputId": "549c1b79-1130-4100-db4b-54821b56a8e4"
      },
      "source": [
        "#Plot individual slices from test predictions for verification\r\n",
        "slice = 14\r\n",
        "plt.figure(figsize=(12, 8))\r\n",
        "plt.subplot(231)\r\n",
        "plt.title('Testing Image')\r\n",
        "plt.imshow(test_img[slice,:,:,0], cmap='gray')\r\n",
        "plt.subplot(232)\r\n",
        "plt.title('Testing Label')\r\n",
        "plt.imshow(ground_truth_argmax[slice,:,:])\r\n",
        "plt.subplot(233)\r\n",
        "plt.title('Prediction on test image')\r\n",
        "plt.imshow(test_prediction1[slice,:,:])\r\n",
        "plt.show()"
      ],
      "execution_count": 25,
      "outputs": [
        {
          "output_type": "display_data",
          "data": {
            "image/png": "[encoded data removed]",
            "text/plain": [
              "<Figure size 864x576 with 3 Axes>"
            ]
          },
          "metadata": {
            "tags": [],
            "needs_background": "light"
          }
        }
      ]
    },
    {
      "cell_type": "markdown",
      "metadata": {
        "id": "CNi7_zeC7SmG"
      },
      "source": [
        "Now segment the full volume using the trained model."
      ]
    },
    {
      "cell_type": "code",
      "metadata": {
        "id": "C1eYttiN7tH4"
      },
      "source": [
        "#Break the large image (volume) into patches of same size as the training images (patches)\r\n",
        "large_image = io.imread('/content/drive/MyDrive/Colab Notebooks/data/sandstone_3d/all_images/448_images_512x512.tif')\r\n",
        "patches = patchify(large_image, (64, 64, 64), step=64)  #Step=256 for 256 patches means no overlap\r\n",
        "print(large_image.shape)\r\n",
        "print(patches.shape)"
      ],
      "execution_count": null,
      "outputs": []
    },
    {
      "cell_type": "code",
      "metadata": {
        "id": "G6KXGtea89wi"
      },
      "source": [
        "# Predict each 3D patch   \r\n",
        "predicted_patches = []\r\n",
        "for i in range(patches.shape[0]):\r\n",
        "  for j in range(patches.shape[1]):\r\n",
        "    for k in range(patches.shape[2]):\r\n",
        "      #print(i,j,k)\r\n",
        "      single_patch = patches[i,j,k, :,:,:]\r\n",
        "      single_patch_3ch = np.stack((single_patch,)*3, axis=-1)\r\n",
        "      single_patch_3ch_input = preprocess_input(np.expand_dims(single_patch_3ch, axis=0))\r\n",
        "      single_patch_prediction = my_model.predict(single_patch_3ch_input)\r\n",
        "      single_patch_prediction_argmax = np.argmax(single_patch_prediction, axis=4)[0,:,:,:]\r\n",
        "      predicted_patches.append(single_patch_prediction_argmax)\r\n",
        "      \r\n"
      ],
      "execution_count": 27,
      "outputs": []
    },
    {
      "cell_type": "code",
      "metadata": {
        "id": "yxX9vrPMAvK2"
      },
      "source": [
        "#Convert list to numpy array\r\n",
        "predicted_patches = np.array(predicted_patches)\r\n",
        "print(predicted_patches.shape)"
      ],
      "execution_count": null,
      "outputs": []
    },
    {
      "cell_type": "code",
      "metadata": {
        "id": "qYQi_STcA6gw"
      },
      "source": [
        "#Reshape to the shape we had after patchifying\r\n",
        "predicted_patches_reshaped = np.reshape(predicted_patches, \r\n",
        "                                        (patches.shape[0], patches.shape[1], patches.shape[2],\r\n",
        "                                         patches.shape[3], patches.shape[4], patches.shape[5]) )\r\n",
        "print(predicted_patches_reshaped.shape)"
      ],
      "execution_count": null,
      "outputs": []
    },
    {
      "cell_type": "code",
      "metadata": {
        "id": "SQcYSuaeBP2i"
      },
      "source": [
        "#Repach individual patches into the orginal volume shape\r\n",
        "reconstructed_image = unpatchify(predicted_patches_reshaped, large_image.shape)\r\n",
        "print(reconstructed_image.shape)"
      ],
      "execution_count": null,
      "outputs": []
    },
    {
      "cell_type": "code",
      "metadata": {
        "id": "rFF2FwCGDR1A"
      },
      "source": [
        "print(reconstructed_image.dtype)"
      ],
      "execution_count": null,
      "outputs": []
    },
    {
      "cell_type": "code",
      "metadata": {
        "id": "6VF_g8oLDjKp"
      },
      "source": [
        "#Convert to uint8 so we can open image in most image viewing software packages\r\n",
        "reconstructed_image=reconstructed_image.astype(np.uint8)\r\n",
        "print(reconstructed_image.dtype)"
      ],
      "execution_count": null,
      "outputs": []
    },
    {
      "cell_type": "code",
      "metadata": {
        "id": "OdjWCDYoKLgM"
      },
      "source": [
        "#Now save it as segmented volume.\r\n",
        "from tifffile import imsave\r\n",
        "imsave('/content/drive/MyDrive/Colab Notebooks/data/sandstone_3d/all_images/segmented.tif', reconstructed_image)\r\n",
        "    "
      ],
      "execution_count": null,
      "outputs": []
    },
    {
      "cell_type": "code",
      "metadata": {
        "id": "SsBu290SNNSD"
      },
      "source": [
        "#If you would like to save the volume as multichannel dataset...."
      ],
      "execution_count": null,
      "outputs": []
    },
    {
      "cell_type": "code",
      "metadata": {
        "id": "EMFGGwT8FpEl"
      },
      "source": [
        "print(np.unique(reconstructed_image))"
      ],
      "execution_count": null,
      "outputs": []
    },
    {
      "cell_type": "code",
      "metadata": {
        "id": "USCSJT4rGBDt"
      },
      "source": [
        "#Seperate each channel/segment to be combined as multiple channels.\r\n",
        "num_segments=4\r\n",
        "segm0 = (reconstructed_image == 0)\r\n",
        "segm1 = (reconstructed_image == 1)\r\n",
        "segm2 = (reconstructed_image == 2)\r\n",
        "segm3 = (reconstructed_image == 3)\r\n",
        "\r\n",
        "final = np.empty((reconstructed_image.shape[0], reconstructed_image.shape[1], reconstructed_image.shape[2], num_segments))\r\n",
        "final[:,:,:,0] = segm0\r\n",
        "final[:,:,:,1] = segm1\r\n",
        "final[:,:,:,2] = segm2\r\n",
        "final[:,:,:,3] = segm3"
      ],
      "execution_count": 34,
      "outputs": []
    },
    {
      "cell_type": "code",
      "metadata": {
        "id": "F4ZfPm41J4yk"
      },
      "source": [
        "#Use APEER OMETIFF library to read and write multidimensional images\r\n",
        "!pip install apeer-ometiff-library"
      ],
      "execution_count": null,
      "outputs": []
    },
    {
      "cell_type": "code",
      "metadata": {
        "id": "enE_X9SCJoYA"
      },
      "source": [
        "from apeer_ometiff_library import io"
      ],
      "execution_count": 36,
      "outputs": []
    },
    {
      "cell_type": "code",
      "metadata": {
        "id": "bj0QC8OWINAD"
      },
      "source": [
        "# Expand image array to 5D of order (T, Z, C, X, Y)\r\n",
        "# This is the convention for OMETIFF format as written by APEER library\r\n",
        "final = np.expand_dims(final, axis=0)\r\n",
        "final=np.swapaxes(final, 2, 4)\r\n",
        "\r\n",
        "final = final.astype(np.int8)\r\n",
        "\r\n"
      ],
      "execution_count": 37,
      "outputs": []
    },
    {
      "cell_type": "code",
      "metadata": {
        "id": "StgpqkJbIa2F"
      },
      "source": [
        "print(\"Shape of the segmented volume is: T, Z, C, X, Y \", final.shape)\r\n",
        "print(final.dtype)\r\n"
      ],
      "execution_count": null,
      "outputs": []
    },
    {
      "cell_type": "code",
      "metadata": {
        "id": "oT2L6880WY1k"
      },
      "source": [
        "# Write dataset as multi-dimensional OMETIFF *image*\r\n",
        "io.write_ometiff(\"/content/drive/MyDrive/Colab Notebooks/data/sandstone_3d/all_images/segmented_multi_channel.ome.tiff\", final)"
      ],
      "execution_count": null,
      "outputs": []
    }
  ]
}