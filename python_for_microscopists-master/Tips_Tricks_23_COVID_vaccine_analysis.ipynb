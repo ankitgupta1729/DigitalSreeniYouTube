{
  "nbformat": 4,
  "nbformat_minor": 0,
  "metadata": {
    "colab": {
      "name": "Tips_Tricks_23_COVID_vaccine_analysis.ipynb",
      "provenance": [],
      "collapsed_sections": [],
      "mount_file_id": "1EOWf1bv3_LN07ux_9FLD60w2RECidWrW",
      "authorship_tag": "ABX9TyNLQPh+FowD+k2A4TDpctiX",
      "include_colab_link": true
    },
    "kernelspec": {
      "name": "python3",
      "display_name": "Python 3"
    },
    "language_info": {
      "name": "python"
    }
  },
  "cells": [
    {
      "cell_type": "markdown",
      "metadata": {
        "id": "view-in-github",
        "colab_type": "text"
      },
      "source": [
        "<a href=\"https://colab.research.google.com/github/bnsreenu/python_for_microscopists/blob/master/Tips_Tricks_23_COVID_vaccine_analysis.ipynb\" target=\"_parent\"><img src=\"https://colab.research.google.com/assets/colab-badge.svg\" alt=\"Open In Colab\"/></a>"
      ]
    },
    {
      "cell_type": "markdown",
      "metadata": {
        "id": "xdgfevvUK-hi"
      },
      "source": [
        "https://youtu.be/n0ehFY8jWvs"
      ]
    },
    {
      "cell_type": "markdown",
      "metadata": {
        "id": "2NeAF3cTyFVI"
      },
      "source": [
        "Download data from https://www.kaggle.com/gpreda/covid-world-vaccination-progress"
      ]
    },
    {
      "cell_type": "code",
      "metadata": {
        "id": "h7_l4Oegs68S"
      },
      "source": [
        "import numpy as np\n",
        "import pandas as pd "
      ],
      "execution_count": 36,
      "outputs": []
    },
    {
      "cell_type": "code",
      "metadata": {
        "id": "mSwpGyEQuYzL"
      },
      "source": [
        "#!pip install plotly  #No need for colab as it may already come with this pre-installed."
      ],
      "execution_count": null,
      "outputs": []
    },
    {
      "cell_type": "code",
      "metadata": {
        "id": "eaEIQDGouUwf"
      },
      "source": [
        "#Import plotting libraries. \n",
        "# Plotly can be useful for Choropleth, display of data on maps. \n",
        "import seaborn as sns\n",
        "import matplotlib.pyplot as plt\n",
        "import plotly.express as px\n",
        "%matplotlib inline\n"
      ],
      "execution_count": 37,
      "outputs": []
    },
    {
      "cell_type": "code",
      "metadata": {
        "id": "ZWYFvzeKtbtP"
      },
      "source": [
        "#Load the data into a pandas dataframe. \n",
        "df=pd.read_csv(\"/content/drive/MyDrive/Colab Notebooks/data/COVID_data/country_vaccinations_26Oct2021.csv\")"
      ],
      "execution_count": 38,
      "outputs": []
    },
    {
      "cell_type": "code",
      "metadata": {
        "id": "1N4MEcSitgMQ",
        "colab": {
          "base_uri": "https://localhost:8080/",
          "height": 394
        },
        "outputId": "aa50f983-3b59-4023-9a9c-11a4158ffed6"
      },
      "source": [
        "df.head()"
      ],
      "execution_count": 39,
      "outputs": [
        {
          "output_type": "execute_result",
          "data": {
            "text/html": [
              "<div>\n",
              "<style scoped>\n",
              "    .dataframe tbody tr th:only-of-type {\n",
              "        vertical-align: middle;\n",
              "    }\n",
              "\n",
              "    .dataframe tbody tr th {\n",
              "        vertical-align: top;\n",
              "    }\n",
              "\n",
              "    .dataframe thead th {\n",
              "        text-align: right;\n",
              "    }\n",
              "</style>\n",
              "<table border=\"1\" class=\"dataframe\">\n",
              "  <thead>\n",
              "    <tr style=\"text-align: right;\">\n",
              "      <th></th>\n",
              "      <th>country</th>\n",
              "      <th>iso_code</th>\n",
              "      <th>date</th>\n",
              "      <th>total_vaccinations</th>\n",
              "      <th>people_vaccinated</th>\n",
              "      <th>people_fully_vaccinated</th>\n",
              "      <th>daily_vaccinations_raw</th>\n",
              "      <th>daily_vaccinations</th>\n",
              "      <th>total_vaccinations_per_hundred</th>\n",
              "      <th>people_vaccinated_per_hundred</th>\n",
              "      <th>people_fully_vaccinated_per_hundred</th>\n",
              "      <th>daily_vaccinations_per_million</th>\n",
              "      <th>vaccines</th>\n",
              "      <th>source_name</th>\n",
              "      <th>source_website</th>\n",
              "    </tr>\n",
              "  </thead>\n",
              "  <tbody>\n",
              "    <tr>\n",
              "      <th>0</th>\n",
              "      <td>Afghanistan</td>\n",
              "      <td>AFG</td>\n",
              "      <td>2021-02-22</td>\n",
              "      <td>0.0</td>\n",
              "      <td>0.0</td>\n",
              "      <td>NaN</td>\n",
              "      <td>NaN</td>\n",
              "      <td>NaN</td>\n",
              "      <td>0.0</td>\n",
              "      <td>0.0</td>\n",
              "      <td>NaN</td>\n",
              "      <td>NaN</td>\n",
              "      <td>Johnson&amp;Johnson, Oxford/AstraZeneca, Pfizer/Bi...</td>\n",
              "      <td>World Health Organization</td>\n",
              "      <td>https://covid19.who.int/</td>\n",
              "    </tr>\n",
              "    <tr>\n",
              "      <th>1</th>\n",
              "      <td>Afghanistan</td>\n",
              "      <td>AFG</td>\n",
              "      <td>2021-02-23</td>\n",
              "      <td>NaN</td>\n",
              "      <td>NaN</td>\n",
              "      <td>NaN</td>\n",
              "      <td>NaN</td>\n",
              "      <td>1367.0</td>\n",
              "      <td>NaN</td>\n",
              "      <td>NaN</td>\n",
              "      <td>NaN</td>\n",
              "      <td>34.0</td>\n",
              "      <td>Johnson&amp;Johnson, Oxford/AstraZeneca, Pfizer/Bi...</td>\n",
              "      <td>World Health Organization</td>\n",
              "      <td>https://covid19.who.int/</td>\n",
              "    </tr>\n",
              "    <tr>\n",
              "      <th>2</th>\n",
              "      <td>Afghanistan</td>\n",
              "      <td>AFG</td>\n",
              "      <td>2021-02-24</td>\n",
              "      <td>NaN</td>\n",
              "      <td>NaN</td>\n",
              "      <td>NaN</td>\n",
              "      <td>NaN</td>\n",
              "      <td>1367.0</td>\n",
              "      <td>NaN</td>\n",
              "      <td>NaN</td>\n",
              "      <td>NaN</td>\n",
              "      <td>34.0</td>\n",
              "      <td>Johnson&amp;Johnson, Oxford/AstraZeneca, Pfizer/Bi...</td>\n",
              "      <td>World Health Organization</td>\n",
              "      <td>https://covid19.who.int/</td>\n",
              "    </tr>\n",
              "    <tr>\n",
              "      <th>3</th>\n",
              "      <td>Afghanistan</td>\n",
              "      <td>AFG</td>\n",
              "      <td>2021-02-25</td>\n",
              "      <td>NaN</td>\n",
              "      <td>NaN</td>\n",
              "      <td>NaN</td>\n",
              "      <td>NaN</td>\n",
              "      <td>1367.0</td>\n",
              "      <td>NaN</td>\n",
              "      <td>NaN</td>\n",
              "      <td>NaN</td>\n",
              "      <td>34.0</td>\n",
              "      <td>Johnson&amp;Johnson, Oxford/AstraZeneca, Pfizer/Bi...</td>\n",
              "      <td>World Health Organization</td>\n",
              "      <td>https://covid19.who.int/</td>\n",
              "    </tr>\n",
              "    <tr>\n",
              "      <th>4</th>\n",
              "      <td>Afghanistan</td>\n",
              "      <td>AFG</td>\n",
              "      <td>2021-02-26</td>\n",
              "      <td>NaN</td>\n",
              "      <td>NaN</td>\n",
              "      <td>NaN</td>\n",
              "      <td>NaN</td>\n",
              "      <td>1367.0</td>\n",
              "      <td>NaN</td>\n",
              "      <td>NaN</td>\n",
              "      <td>NaN</td>\n",
              "      <td>34.0</td>\n",
              "      <td>Johnson&amp;Johnson, Oxford/AstraZeneca, Pfizer/Bi...</td>\n",
              "      <td>World Health Organization</td>\n",
              "      <td>https://covid19.who.int/</td>\n",
              "    </tr>\n",
              "  </tbody>\n",
              "</table>\n",
              "</div>"
            ],
            "text/plain": [
              "       country iso_code  ...                source_name            source_website\n",
              "0  Afghanistan      AFG  ...  World Health Organization  https://covid19.who.int/\n",
              "1  Afghanistan      AFG  ...  World Health Organization  https://covid19.who.int/\n",
              "2  Afghanistan      AFG  ...  World Health Organization  https://covid19.who.int/\n",
              "3  Afghanistan      AFG  ...  World Health Organization  https://covid19.who.int/\n",
              "4  Afghanistan      AFG  ...  World Health Organization  https://covid19.who.int/\n",
              "\n",
              "[5 rows x 15 columns]"
            ]
          },
          "metadata": {},
          "execution_count": 39
        }
      ]
    },
    {
      "cell_type": "markdown",
      "metadata": {
        "id": "UsVNoK35whSt"
      },
      "source": [
        "Above, we see a lot of NaNs that we need to fill with some values, zeros make the most sense here. \n",
        "\n",
        "Let us check how many NaNs for each column. "
      ]
    },
    {
      "cell_type": "code",
      "metadata": {
        "id": "ehxNSSmpzDym",
        "colab": {
          "base_uri": "https://localhost:8080/"
        },
        "outputId": "c4cb461e-f660-4925-86a2-da6a4c8f98a3"
      },
      "source": [
        "df.isnull().sum()"
      ],
      "execution_count": 43,
      "outputs": [
        {
          "output_type": "execute_result",
          "data": {
            "text/plain": [
              "country                                0\n",
              "iso_code                               0\n",
              "date                                   0\n",
              "total_vaccinations                     0\n",
              "people_vaccinated                      0\n",
              "people_fully_vaccinated                0\n",
              "daily_vaccinations_raw                 0\n",
              "daily_vaccinations                     0\n",
              "total_vaccinations_per_hundred         0\n",
              "people_vaccinated_per_hundred          0\n",
              "people_fully_vaccinated_per_hundred    0\n",
              "daily_vaccinations_per_million         0\n",
              "vaccines                               0\n",
              "source_name                            0\n",
              "source_website                         0\n",
              "dtype: int64"
            ]
          },
          "metadata": {},
          "execution_count": 43
        }
      ]
    },
    {
      "cell_type": "code",
      "metadata": {
        "id": "1uOvvk-4tvkv"
      },
      "source": [
        "#Fill NaNs with 0 and then drop all countries with iso_code = 0. This is key information that we need so dropping unknowns is the best way to handle. \n",
        "df.fillna(0, inplace = True)\n",
        "df.drop(df.index[df['iso_code'] == 0], inplace = True)"
      ],
      "execution_count": 42,
      "outputs": []
    },
    {
      "cell_type": "code",
      "metadata": {
        "id": "63ElW_nRzey9"
      },
      "source": [
        "#Check how many nulls we have. SHould be none. \n",
        "df.isnull().sum()"
      ],
      "execution_count": null,
      "outputs": []
    },
    {
      "cell_type": "code",
      "metadata": {
        "id": "g4HRTvSPtlEP",
        "colab": {
          "base_uri": "https://localhost:8080/"
        },
        "outputId": "e38d3f28-fd1c-4ddd-effb-7f86403661dd"
      },
      "source": [
        "df.info()"
      ],
      "execution_count": 47,
      "outputs": [
        {
          "output_type": "stream",
          "name": "stdout",
          "text": [
            "<class 'pandas.core.frame.DataFrame'>\n",
            "Int64Index: 53595 entries, 0 to 53594\n",
            "Data columns (total 15 columns):\n",
            " #   Column                               Non-Null Count  Dtype         \n",
            "---  ------                               --------------  -----         \n",
            " 0   country                              53595 non-null  object        \n",
            " 1   iso_code                             53595 non-null  object        \n",
            " 2   date                                 53595 non-null  datetime64[ns]\n",
            " 3   total_vaccinations                   53595 non-null  float64       \n",
            " 4   people_vaccinated                    53595 non-null  float64       \n",
            " 5   people_fully_vaccinated              53595 non-null  float64       \n",
            " 6   daily_vaccinations_raw               53595 non-null  float64       \n",
            " 7   daily_vaccinations                   53595 non-null  float64       \n",
            " 8   total_vaccinations_per_hundred       53595 non-null  float64       \n",
            " 9   people_vaccinated_per_hundred        53595 non-null  float64       \n",
            " 10  people_fully_vaccinated_per_hundred  53595 non-null  float64       \n",
            " 11  daily_vaccinations_per_million       53595 non-null  float64       \n",
            " 12  vaccines                             53595 non-null  object        \n",
            " 13  source_name                          53595 non-null  object        \n",
            " 14  source_website                       53595 non-null  object        \n",
            "dtypes: datetime64[ns](1), float64(9), object(5)\n",
            "memory usage: 6.5+ MB\n"
          ]
        }
      ]
    },
    {
      "cell_type": "markdown",
      "metadata": {
        "id": "qUTyOBmjz2t6"
      },
      "source": [
        "The date is in the 'object' format. Let us change it to Datetime format for easy handling and plotting. "
      ]
    },
    {
      "cell_type": "code",
      "metadata": {
        "id": "ywbTncAyn5HB"
      },
      "source": [
        "df['date'] =  pd.to_datetime(df['date'], format='%Y-%m-%d')"
      ],
      "execution_count": 46,
      "outputs": []
    },
    {
      "cell_type": "code",
      "metadata": {
        "colab": {
          "base_uri": "https://localhost:8080/"
        },
        "id": "hwSjhMaXtrYL",
        "outputId": "465ec759-475a-4313-d70f-757d40e1cc80"
      },
      "source": [
        "#Print column names and drop the ones we don't intend to use. \n",
        "df.columns"
      ],
      "execution_count": 48,
      "outputs": [
        {
          "output_type": "execute_result",
          "data": {
            "text/plain": [
              "Index(['country', 'iso_code', 'date', 'total_vaccinations',\n",
              "       'people_vaccinated', 'people_fully_vaccinated',\n",
              "       'daily_vaccinations_raw', 'daily_vaccinations',\n",
              "       'total_vaccinations_per_hundred', 'people_vaccinated_per_hundred',\n",
              "       'people_fully_vaccinated_per_hundred', 'daily_vaccinations_per_million',\n",
              "       'vaccines', 'source_name', 'source_website'],\n",
              "      dtype='object')"
            ]
          },
          "metadata": {},
          "execution_count": 48
        }
      ]
    },
    {
      "cell_type": "code",
      "metadata": {
        "id": "T82-CYxBt1Xi"
      },
      "source": [
        "df.drop([\"people_fully_vaccinated\",\"daily_vaccinations_raw\",\"people_fully_vaccinated_per_hundred\",\n",
        "         \"daily_vaccinations_per_million\",\"people_vaccinated_per_hundred\", \"source_name\",\"source_website\"],axis=1, inplace=True)"
      ],
      "execution_count": 49,
      "outputs": []
    },
    {
      "cell_type": "markdown",
      "metadata": {
        "id": "C_E_qHMHuBIR"
      },
      "source": [
        "Now, let us try to undersatnad the data. I am picking US and India for my study. "
      ]
    },
    {
      "cell_type": "markdown",
      "metadata": {
        "id": "WKa398eK1Wge"
      },
      "source": [
        "**USA**"
      ]
    },
    {
      "cell_type": "code",
      "metadata": {
        "id": "GT78rGZduEZH",
        "colab": {
          "base_uri": "https://localhost:8080/",
          "height": 419
        },
        "outputId": "ddacd210-d07e-49f5-93f9-6b783df8a106"
      },
      "source": [
        "#Save USA data into a separate dataframe\n",
        "df_USA = df[df[\"iso_code\"] == 'USA'].copy()\n",
        "df_USA\n"
      ],
      "execution_count": 50,
      "outputs": [
        {
          "output_type": "execute_result",
          "data": {
            "text/html": [
              "<div>\n",
              "<style scoped>\n",
              "    .dataframe tbody tr th:only-of-type {\n",
              "        vertical-align: middle;\n",
              "    }\n",
              "\n",
              "    .dataframe tbody tr th {\n",
              "        vertical-align: top;\n",
              "    }\n",
              "\n",
              "    .dataframe thead th {\n",
              "        text-align: right;\n",
              "    }\n",
              "</style>\n",
              "<table border=\"1\" class=\"dataframe\">\n",
              "  <thead>\n",
              "    <tr style=\"text-align: right;\">\n",
              "      <th></th>\n",
              "      <th>country</th>\n",
              "      <th>iso_code</th>\n",
              "      <th>date</th>\n",
              "      <th>total_vaccinations</th>\n",
              "      <th>people_vaccinated</th>\n",
              "      <th>daily_vaccinations</th>\n",
              "      <th>total_vaccinations_per_hundred</th>\n",
              "      <th>vaccines</th>\n",
              "    </tr>\n",
              "  </thead>\n",
              "  <tbody>\n",
              "    <tr>\n",
              "      <th>51127</th>\n",
              "      <td>United States</td>\n",
              "      <td>USA</td>\n",
              "      <td>2020-12-20</td>\n",
              "      <td>556208.0</td>\n",
              "      <td>556208.0</td>\n",
              "      <td>0.0</td>\n",
              "      <td>0.17</td>\n",
              "      <td>Johnson&amp;Johnson, Moderna, Pfizer/BioNTech</td>\n",
              "    </tr>\n",
              "    <tr>\n",
              "      <th>51128</th>\n",
              "      <td>United States</td>\n",
              "      <td>USA</td>\n",
              "      <td>2020-12-21</td>\n",
              "      <td>614117.0</td>\n",
              "      <td>614117.0</td>\n",
              "      <td>57909.0</td>\n",
              "      <td>0.18</td>\n",
              "      <td>Johnson&amp;Johnson, Moderna, Pfizer/BioNTech</td>\n",
              "    </tr>\n",
              "    <tr>\n",
              "      <th>51129</th>\n",
              "      <td>United States</td>\n",
              "      <td>USA</td>\n",
              "      <td>2020-12-22</td>\n",
              "      <td>0.0</td>\n",
              "      <td>0.0</td>\n",
              "      <td>127432.0</td>\n",
              "      <td>0.00</td>\n",
              "      <td>Johnson&amp;Johnson, Moderna, Pfizer/BioNTech</td>\n",
              "    </tr>\n",
              "    <tr>\n",
              "      <th>51130</th>\n",
              "      <td>United States</td>\n",
              "      <td>USA</td>\n",
              "      <td>2020-12-23</td>\n",
              "      <td>1008025.0</td>\n",
              "      <td>1008025.0</td>\n",
              "      <td>150606.0</td>\n",
              "      <td>0.30</td>\n",
              "      <td>Johnson&amp;Johnson, Moderna, Pfizer/BioNTech</td>\n",
              "    </tr>\n",
              "    <tr>\n",
              "      <th>51131</th>\n",
              "      <td>United States</td>\n",
              "      <td>USA</td>\n",
              "      <td>2020-12-24</td>\n",
              "      <td>0.0</td>\n",
              "      <td>0.0</td>\n",
              "      <td>191001.0</td>\n",
              "      <td>0.00</td>\n",
              "      <td>Johnson&amp;Johnson, Moderna, Pfizer/BioNTech</td>\n",
              "    </tr>\n",
              "    <tr>\n",
              "      <th>...</th>\n",
              "      <td>...</td>\n",
              "      <td>...</td>\n",
              "      <td>...</td>\n",
              "      <td>...</td>\n",
              "      <td>...</td>\n",
              "      <td>...</td>\n",
              "      <td>...</td>\n",
              "      <td>...</td>\n",
              "    </tr>\n",
              "    <tr>\n",
              "      <th>51433</th>\n",
              "      <td>United States</td>\n",
              "      <td>USA</td>\n",
              "      <td>2021-10-22</td>\n",
              "      <td>411963025.0</td>\n",
              "      <td>219900525.0</td>\n",
              "      <td>770307.0</td>\n",
              "      <td>122.49</td>\n",
              "      <td>Johnson&amp;Johnson, Moderna, Pfizer/BioNTech</td>\n",
              "    </tr>\n",
              "    <tr>\n",
              "      <th>51434</th>\n",
              "      <td>United States</td>\n",
              "      <td>USA</td>\n",
              "      <td>2021-10-23</td>\n",
              "      <td>412856169.0</td>\n",
              "      <td>220145796.0</td>\n",
              "      <td>772744.0</td>\n",
              "      <td>122.76</td>\n",
              "      <td>Johnson&amp;Johnson, Moderna, Pfizer/BioNTech</td>\n",
              "    </tr>\n",
              "    <tr>\n",
              "      <th>51435</th>\n",
              "      <td>United States</td>\n",
              "      <td>USA</td>\n",
              "      <td>2021-10-24</td>\n",
              "      <td>413645478.0</td>\n",
              "      <td>220351217.0</td>\n",
              "      <td>768503.0</td>\n",
              "      <td>122.99</td>\n",
              "      <td>Johnson&amp;Johnson, Moderna, Pfizer/BioNTech</td>\n",
              "    </tr>\n",
              "    <tr>\n",
              "      <th>51436</th>\n",
              "      <td>United States</td>\n",
              "      <td>USA</td>\n",
              "      <td>2021-10-25</td>\n",
              "      <td>414302192.0</td>\n",
              "      <td>220519217.0</td>\n",
              "      <td>786321.0</td>\n",
              "      <td>123.19</td>\n",
              "      <td>Johnson&amp;Johnson, Moderna, Pfizer/BioNTech</td>\n",
              "    </tr>\n",
              "    <tr>\n",
              "      <th>51437</th>\n",
              "      <td>United States</td>\n",
              "      <td>USA</td>\n",
              "      <td>2021-10-26</td>\n",
              "      <td>415012026.0</td>\n",
              "      <td>220648845.0</td>\n",
              "      <td>796148.0</td>\n",
              "      <td>123.40</td>\n",
              "      <td>Johnson&amp;Johnson, Moderna, Pfizer/BioNTech</td>\n",
              "    </tr>\n",
              "  </tbody>\n",
              "</table>\n",
              "<p>311 rows × 8 columns</p>\n",
              "</div>"
            ],
            "text/plain": [
              "             country  ...                                   vaccines\n",
              "51127  United States  ...  Johnson&Johnson, Moderna, Pfizer/BioNTech\n",
              "51128  United States  ...  Johnson&Johnson, Moderna, Pfizer/BioNTech\n",
              "51129  United States  ...  Johnson&Johnson, Moderna, Pfizer/BioNTech\n",
              "51130  United States  ...  Johnson&Johnson, Moderna, Pfizer/BioNTech\n",
              "51131  United States  ...  Johnson&Johnson, Moderna, Pfizer/BioNTech\n",
              "...              ...  ...                                        ...\n",
              "51433  United States  ...  Johnson&Johnson, Moderna, Pfizer/BioNTech\n",
              "51434  United States  ...  Johnson&Johnson, Moderna, Pfizer/BioNTech\n",
              "51435  United States  ...  Johnson&Johnson, Moderna, Pfizer/BioNTech\n",
              "51436  United States  ...  Johnson&Johnson, Moderna, Pfizer/BioNTech\n",
              "51437  United States  ...  Johnson&Johnson, Moderna, Pfizer/BioNTech\n",
              "\n",
              "[311 rows x 8 columns]"
            ]
          },
          "metadata": {},
          "execution_count": 50
        }
      ]
    },
    {
      "cell_type": "code",
      "metadata": {
        "id": "_cRs1fWKkBDG"
      },
      "source": [
        "# Use white grid plot background from seaborn\n",
        "#sns.set(font_scale=1.5, style=\"whitegrid\")"
      ],
      "execution_count": null,
      "outputs": []
    },
    {
      "cell_type": "code",
      "metadata": {
        "id": "T7ARL5o50qe5"
      },
      "source": [
        "#Drop the dates with missing values, previously NaN that we filled with 0. \n",
        "df_USA.drop(df_USA.index[df_USA['total_vaccinations'] == 0], inplace = True)"
      ],
      "execution_count": 51,
      "outputs": []
    },
    {
      "cell_type": "code",
      "metadata": {
        "id": "3Bh5aZxQwVKi",
        "colab": {
          "base_uri": "https://localhost:8080/",
          "height": 431
        },
        "outputId": "83da7ac3-e800-4a69-910d-d1108a345ebb"
      },
      "source": [
        "#Plot total vaccinations as a function of date\n",
        "plt.figure(figsize=(18,6))\n",
        "sns.lineplot(data=df_USA, x=\"date\", y=\"total_vaccinations\")\n",
        "plt.title(\"Total vaccinations in the USA\")\n",
        "plt.xticks(rotation=45)\n",
        "plt.show()"
      ],
      "execution_count": 52,
      "outputs": [
        {
          "output_type": "display_data",
          "data": {
            "image/png": "[encoded data removed]",
            "text/plain": [
              "<Figure size 1296x432 with 1 Axes>"
            ]
          },
          "metadata": {
            "needs_background": "light"
          }
        }
      ]
    },
    {
      "cell_type": "code",
      "metadata": {
        "id": "8q-m5I17wgfq",
        "colab": {
          "base_uri": "https://localhost:8080/",
          "height": 453
        },
        "outputId": "89350bbb-4ea9-4d1b-9e70-a85666ad3fb3"
      },
      "source": [
        "#Plot daily vaccinations as a function of date\n",
        "plt.figure(figsize=(18,6))\n",
        "sns.lineplot(data=df_USA, x=\"date\", y=\"daily_vaccinations\")\n",
        "\n",
        "plt.xticks(rotation=90)\n",
        "plt.title(\"Daily vaccinations in the USA\")"
      ],
      "execution_count": 53,
      "outputs": [
        {
          "output_type": "execute_result",
          "data": {
            "text/plain": [
              "Text(0.5, 1.0, 'Daily vaccinations in the USA')"
            ]
          },
          "metadata": {},
          "execution_count": 53
        },
        {
          "output_type": "display_data",
          "data": {
            "image/png": "[encoded data removed]",
            "text/plain": [
              "<Figure size 1296x432 with 1 Axes>"
            ]
          },
          "metadata": {
            "needs_background": "light"
          }
        }
      ]
    },
    {
      "cell_type": "markdown",
      "metadata": {
        "id": "_WmVvif71bPo"
      },
      "source": [
        "**India**"
      ]
    },
    {
      "cell_type": "code",
      "metadata": {
        "id": "XiSNAEuD1hJo",
        "colab": {
          "base_uri": "https://localhost:8080/",
          "height": 419
        },
        "outputId": "da8a2e22-8973-4e50-94aa-526f32948142"
      },
      "source": [
        "#Save USA data into a separate dataframe\n",
        "df_India = df[df[\"iso_code\"] == 'IND'].copy()\n",
        "df_India"
      ],
      "execution_count": 54,
      "outputs": [
        {
          "output_type": "execute_result",
          "data": {
            "text/html": [
              "<div>\n",
              "<style scoped>\n",
              "    .dataframe tbody tr th:only-of-type {\n",
              "        vertical-align: middle;\n",
              "    }\n",
              "\n",
              "    .dataframe tbody tr th {\n",
              "        vertical-align: top;\n",
              "    }\n",
              "\n",
              "    .dataframe thead th {\n",
              "        text-align: right;\n",
              "    }\n",
              "</style>\n",
              "<table border=\"1\" class=\"dataframe\">\n",
              "  <thead>\n",
              "    <tr style=\"text-align: right;\">\n",
              "      <th></th>\n",
              "      <th>country</th>\n",
              "      <th>iso_code</th>\n",
              "      <th>date</th>\n",
              "      <th>total_vaccinations</th>\n",
              "      <th>people_vaccinated</th>\n",
              "      <th>daily_vaccinations</th>\n",
              "      <th>total_vaccinations_per_hundred</th>\n",
              "      <th>vaccines</th>\n",
              "    </tr>\n",
              "  </thead>\n",
              "  <tbody>\n",
              "    <tr>\n",
              "      <th>21866</th>\n",
              "      <td>India</td>\n",
              "      <td>IND</td>\n",
              "      <td>2021-01-15</td>\n",
              "      <td>0.000000e+00</td>\n",
              "      <td>0.0</td>\n",
              "      <td>0.0</td>\n",
              "      <td>0.00</td>\n",
              "      <td>Covaxin, Oxford/AstraZeneca, Sputnik V</td>\n",
              "    </tr>\n",
              "    <tr>\n",
              "      <th>21867</th>\n",
              "      <td>India</td>\n",
              "      <td>IND</td>\n",
              "      <td>2021-01-16</td>\n",
              "      <td>1.911810e+05</td>\n",
              "      <td>191181.0</td>\n",
              "      <td>191181.0</td>\n",
              "      <td>0.01</td>\n",
              "      <td>Covaxin, Oxford/AstraZeneca, Sputnik V</td>\n",
              "    </tr>\n",
              "    <tr>\n",
              "      <th>21868</th>\n",
              "      <td>India</td>\n",
              "      <td>IND</td>\n",
              "      <td>2021-01-17</td>\n",
              "      <td>2.243010e+05</td>\n",
              "      <td>224301.0</td>\n",
              "      <td>112150.0</td>\n",
              "      <td>0.02</td>\n",
              "      <td>Covaxin, Oxford/AstraZeneca, Sputnik V</td>\n",
              "    </tr>\n",
              "    <tr>\n",
              "      <th>21869</th>\n",
              "      <td>India</td>\n",
              "      <td>IND</td>\n",
              "      <td>2021-01-18</td>\n",
              "      <td>4.540490e+05</td>\n",
              "      <td>454049.0</td>\n",
              "      <td>151350.0</td>\n",
              "      <td>0.03</td>\n",
              "      <td>Covaxin, Oxford/AstraZeneca, Sputnik V</td>\n",
              "    </tr>\n",
              "    <tr>\n",
              "      <th>21870</th>\n",
              "      <td>India</td>\n",
              "      <td>IND</td>\n",
              "      <td>2021-01-19</td>\n",
              "      <td>6.748350e+05</td>\n",
              "      <td>674835.0</td>\n",
              "      <td>168709.0</td>\n",
              "      <td>0.05</td>\n",
              "      <td>Covaxin, Oxford/AstraZeneca, Sputnik V</td>\n",
              "    </tr>\n",
              "    <tr>\n",
              "      <th>...</th>\n",
              "      <td>...</td>\n",
              "      <td>...</td>\n",
              "      <td>...</td>\n",
              "      <td>...</td>\n",
              "      <td>...</td>\n",
              "      <td>...</td>\n",
              "      <td>...</td>\n",
              "      <td>...</td>\n",
              "    </tr>\n",
              "    <tr>\n",
              "      <th>22146</th>\n",
              "      <td>India</td>\n",
              "      <td>IND</td>\n",
              "      <td>2021-10-22</td>\n",
              "      <td>1.009946e+09</td>\n",
              "      <td>712404590.0</td>\n",
              "      <td>5540317.0</td>\n",
              "      <td>72.48</td>\n",
              "      <td>Covaxin, Oxford/AstraZeneca, Sputnik V</td>\n",
              "    </tr>\n",
              "    <tr>\n",
              "      <th>22147</th>\n",
              "      <td>India</td>\n",
              "      <td>IND</td>\n",
              "      <td>2021-10-23</td>\n",
              "      <td>1.013637e+09</td>\n",
              "      <td>714084133.0</td>\n",
              "      <td>5850184.0</td>\n",
              "      <td>72.75</td>\n",
              "      <td>Covaxin, Oxford/AstraZeneca, Sputnik V</td>\n",
              "    </tr>\n",
              "    <tr>\n",
              "      <th>22148</th>\n",
              "      <td>India</td>\n",
              "      <td>IND</td>\n",
              "      <td>2021-10-24</td>\n",
              "      <td>1.022268e+09</td>\n",
              "      <td>717676310.0</td>\n",
              "      <td>6560451.0</td>\n",
              "      <td>73.36</td>\n",
              "      <td>Covaxin, Oxford/AstraZeneca, Sputnik V</td>\n",
              "    </tr>\n",
              "    <tr>\n",
              "      <th>22149</th>\n",
              "      <td>India</td>\n",
              "      <td>IND</td>\n",
              "      <td>2021-10-25</td>\n",
              "      <td>1.024150e+09</td>\n",
              "      <td>718444141.0</td>\n",
              "      <td>6456459.0</td>\n",
              "      <td>73.50</td>\n",
              "      <td>Covaxin, Oxford/AstraZeneca, Sputnik V</td>\n",
              "    </tr>\n",
              "    <tr>\n",
              "      <th>22150</th>\n",
              "      <td>India</td>\n",
              "      <td>IND</td>\n",
              "      <td>2021-10-26</td>\n",
              "      <td>1.030850e+09</td>\n",
              "      <td>721149084.0</td>\n",
              "      <td>6248147.0</td>\n",
              "      <td>73.98</td>\n",
              "      <td>Covaxin, Oxford/AstraZeneca, Sputnik V</td>\n",
              "    </tr>\n",
              "  </tbody>\n",
              "</table>\n",
              "<p>285 rows × 8 columns</p>\n",
              "</div>"
            ],
            "text/plain": [
              "      country  ...                                vaccines\n",
              "21866   India  ...  Covaxin, Oxford/AstraZeneca, Sputnik V\n",
              "21867   India  ...  Covaxin, Oxford/AstraZeneca, Sputnik V\n",
              "21868   India  ...  Covaxin, Oxford/AstraZeneca, Sputnik V\n",
              "21869   India  ...  Covaxin, Oxford/AstraZeneca, Sputnik V\n",
              "21870   India  ...  Covaxin, Oxford/AstraZeneca, Sputnik V\n",
              "...       ...  ...                                     ...\n",
              "22146   India  ...  Covaxin, Oxford/AstraZeneca, Sputnik V\n",
              "22147   India  ...  Covaxin, Oxford/AstraZeneca, Sputnik V\n",
              "22148   India  ...  Covaxin, Oxford/AstraZeneca, Sputnik V\n",
              "22149   India  ...  Covaxin, Oxford/AstraZeneca, Sputnik V\n",
              "22150   India  ...  Covaxin, Oxford/AstraZeneca, Sputnik V\n",
              "\n",
              "[285 rows x 8 columns]"
            ]
          },
          "metadata": {},
          "execution_count": 54
        }
      ]
    },
    {
      "cell_type": "code",
      "metadata": {
        "id": "579u-YDyuKv_"
      },
      "source": [
        "#Drop the dates with missing values, previously NaN that we filled with 0. \n",
        "df_India.drop(df_India.index[df_India['total_vaccinations'] == 0], inplace = True)"
      ],
      "execution_count": 55,
      "outputs": []
    },
    {
      "cell_type": "code",
      "metadata": {
        "id": "wERcd8sS2AmN",
        "colab": {
          "base_uri": "https://localhost:8080/",
          "height": 431
        },
        "outputId": "f18e93b5-34c3-46d9-9cf1-c0c70fb8b61d"
      },
      "source": [
        "#Plot total vaccinations as a function of date\n",
        "plt.figure(figsize=(18,6))\n",
        "sns.lineplot(data=df_India, x=\"date\", y=\"total_vaccinations\")\n",
        "plt.title(\"Total vaccinations in India\")\n",
        "plt.xticks(rotation=45)\n",
        "plt.show()"
      ],
      "execution_count": 56,
      "outputs": [
        {
          "output_type": "display_data",
          "data": {
            "image/png": "[encoded data removed]",
            "text/plain": [
              "<Figure size 1296x432 with 1 Axes>"
            ]
          },
          "metadata": {
            "needs_background": "light"
          }
        }
      ]
    },
    {
      "cell_type": "code",
      "metadata": {
        "id": "ITtuH2vzukdW",
        "colab": {
          "base_uri": "https://localhost:8080/",
          "height": 453
        },
        "outputId": "43bc8d6a-7a9e-4087-ae7a-e31460592444"
      },
      "source": [
        "#Plot daily vaccinations as a function of date\n",
        "plt.figure(figsize=(18,6))\n",
        "sns.lineplot(data=df_India, x=\"date\", y=\"daily_vaccinations\")\n",
        "\n",
        "plt.xticks(rotation=90)\n",
        "plt.title(\"Daily vaccinations in India\")"
      ],
      "execution_count": 57,
      "outputs": [
        {
          "output_type": "execute_result",
          "data": {
            "text/plain": [
              "Text(0.5, 1.0, 'Daily vaccinations in India')"
            ]
          },
          "metadata": {},
          "execution_count": 57
        },
        {
          "output_type": "display_data",
          "data": {
            "image/png": "[encoded data removed]",
            "text/plain": [
              "<Figure size 1296x432 with 1 Axes>"
            ]
          },
          "metadata": {
            "needs_background": "light"
          }
        }
      ]
    },
    {
      "cell_type": "markdown",
      "metadata": {
        "id": "u4FziWWiwt2P"
      },
      "source": [
        "Top 10 countries with highest amount of vaccinated people per 100 of the population.(First sorted by total vaccinations deployed to make sure the data is not skewed by small countires with low populations)"
      ]
    },
    {
      "cell_type": "code",
      "metadata": {
        "id": "BprBBKS7wtO7",
        "colab": {
          "base_uri": "https://localhost:8080/",
          "height": 390
        },
        "outputId": "7a7b9838-439a-490c-f5a4-74e1cb009186"
      },
      "source": [
        "#Group by total vaccinations given by country and sort descending to identify the top 10 countries. \n",
        "vacc_by_country = df.groupby('country').max().sort_values('total_vaccinations', ascending=False)\n",
        "vacc_by_country = vacc_by_country.iloc[:10]\n",
        "vacc_by_country\n"
      ],
      "execution_count": 58,
      "outputs": [
        {
          "output_type": "execute_result",
          "data": {
            "text/html": [
              "<div>\n",
              "<style scoped>\n",
              "    .dataframe tbody tr th:only-of-type {\n",
              "        vertical-align: middle;\n",
              "    }\n",
              "\n",
              "    .dataframe tbody tr th {\n",
              "        vertical-align: top;\n",
              "    }\n",
              "\n",
              "    .dataframe thead th {\n",
              "        text-align: right;\n",
              "    }\n",
              "</style>\n",
              "<table border=\"1\" class=\"dataframe\">\n",
              "  <thead>\n",
              "    <tr style=\"text-align: right;\">\n",
              "      <th></th>\n",
              "      <th>iso_code</th>\n",
              "      <th>date</th>\n",
              "      <th>total_vaccinations</th>\n",
              "      <th>people_vaccinated</th>\n",
              "      <th>daily_vaccinations</th>\n",
              "      <th>total_vaccinations_per_hundred</th>\n",
              "      <th>vaccines</th>\n",
              "    </tr>\n",
              "    <tr>\n",
              "      <th>country</th>\n",
              "      <th></th>\n",
              "      <th></th>\n",
              "      <th></th>\n",
              "      <th></th>\n",
              "      <th></th>\n",
              "      <th></th>\n",
              "      <th></th>\n",
              "    </tr>\n",
              "  </thead>\n",
              "  <tbody>\n",
              "    <tr>\n",
              "      <th>China</th>\n",
              "      <td>CHN</td>\n",
              "      <td>2021-10-26</td>\n",
              "      <td>2.251339e+09</td>\n",
              "      <td>1.100842e+09</td>\n",
              "      <td>22424286.0</td>\n",
              "      <td>155.89</td>\n",
              "      <td>CanSino, Sinopharm/Beijing, Sinopharm/Wuhan, S...</td>\n",
              "    </tr>\n",
              "    <tr>\n",
              "      <th>India</th>\n",
              "      <td>IND</td>\n",
              "      <td>2021-10-26</td>\n",
              "      <td>1.030850e+09</td>\n",
              "      <td>7.211491e+08</td>\n",
              "      <td>10037995.0</td>\n",
              "      <td>73.98</td>\n",
              "      <td>Covaxin, Oxford/AstraZeneca, Sputnik V</td>\n",
              "    </tr>\n",
              "    <tr>\n",
              "      <th>United States</th>\n",
              "      <td>USA</td>\n",
              "      <td>2021-10-26</td>\n",
              "      <td>4.150120e+08</td>\n",
              "      <td>2.206488e+08</td>\n",
              "      <td>3384387.0</td>\n",
              "      <td>123.40</td>\n",
              "      <td>Johnson&amp;Johnson, Moderna, Pfizer/BioNTech</td>\n",
              "    </tr>\n",
              "    <tr>\n",
              "      <th>Brazil</th>\n",
              "      <td>BRA</td>\n",
              "      <td>2021-10-26</td>\n",
              "      <td>2.701074e+08</td>\n",
              "      <td>1.587227e+08</td>\n",
              "      <td>2045834.0</td>\n",
              "      <td>126.22</td>\n",
              "      <td>Johnson&amp;Johnson, Oxford/AstraZeneca, Pfizer/Bi...</td>\n",
              "    </tr>\n",
              "    <tr>\n",
              "      <th>Japan</th>\n",
              "      <td>JPN</td>\n",
              "      <td>2021-10-25</td>\n",
              "      <td>1.859792e+08</td>\n",
              "      <td>9.718129e+07</td>\n",
              "      <td>1997542.0</td>\n",
              "      <td>147.54</td>\n",
              "      <td>Moderna, Oxford/AstraZeneca, Pfizer/BioNTech</td>\n",
              "    </tr>\n",
              "    <tr>\n",
              "      <th>Indonesia</th>\n",
              "      <td>IDN</td>\n",
              "      <td>2021-10-26</td>\n",
              "      <td>1.834772e+08</td>\n",
              "      <td>1.143471e+08</td>\n",
              "      <td>1897011.0</td>\n",
              "      <td>66.39</td>\n",
              "      <td>Moderna, Oxford/AstraZeneca, Pfizer/BioNTech, ...</td>\n",
              "    </tr>\n",
              "    <tr>\n",
              "      <th>Turkey</th>\n",
              "      <td>TUR</td>\n",
              "      <td>2021-10-26</td>\n",
              "      <td>1.156746e+08</td>\n",
              "      <td>5.525654e+07</td>\n",
              "      <td>1264431.0</td>\n",
              "      <td>136.02</td>\n",
              "      <td>Pfizer/BioNTech, Sinovac</td>\n",
              "    </tr>\n",
              "    <tr>\n",
              "      <th>Mexico</th>\n",
              "      <td>MEX</td>\n",
              "      <td>2021-10-24</td>\n",
              "      <td>1.156246e+08</td>\n",
              "      <td>7.004907e+07</td>\n",
              "      <td>1088095.0</td>\n",
              "      <td>88.76</td>\n",
              "      <td>CanSino, Johnson&amp;Johnson, Moderna, Oxford/Astr...</td>\n",
              "    </tr>\n",
              "    <tr>\n",
              "      <th>Germany</th>\n",
              "      <td>DEU</td>\n",
              "      <td>2021-10-25</td>\n",
              "      <td>1.109504e+08</td>\n",
              "      <td>5.751572e+07</td>\n",
              "      <td>874929.0</td>\n",
              "      <td>132.24</td>\n",
              "      <td>Johnson&amp;Johnson, Moderna, Oxford/AstraZeneca, ...</td>\n",
              "    </tr>\n",
              "    <tr>\n",
              "      <th>Pakistan</th>\n",
              "      <td>PAK</td>\n",
              "      <td>2021-10-26</td>\n",
              "      <td>1.020679e+08</td>\n",
              "      <td>6.934111e+07</td>\n",
              "      <td>1280906.0</td>\n",
              "      <td>45.32</td>\n",
              "      <td>CanSino, Covaxin, Moderna, Oxford/AstraZeneca,...</td>\n",
              "    </tr>\n",
              "  </tbody>\n",
              "</table>\n",
              "</div>"
            ],
            "text/plain": [
              "              iso_code  ...                                           vaccines\n",
              "country                 ...                                                   \n",
              "China              CHN  ...  CanSino, Sinopharm/Beijing, Sinopharm/Wuhan, S...\n",
              "India              IND  ...             Covaxin, Oxford/AstraZeneca, Sputnik V\n",
              "United States      USA  ...          Johnson&Johnson, Moderna, Pfizer/BioNTech\n",
              "Brazil             BRA  ...  Johnson&Johnson, Oxford/AstraZeneca, Pfizer/Bi...\n",
              "Japan              JPN  ...       Moderna, Oxford/AstraZeneca, Pfizer/BioNTech\n",
              "Indonesia          IDN  ...  Moderna, Oxford/AstraZeneca, Pfizer/BioNTech, ...\n",
              "Turkey             TUR  ...                           Pfizer/BioNTech, Sinovac\n",
              "Mexico             MEX  ...  CanSino, Johnson&Johnson, Moderna, Oxford/Astr...\n",
              "Germany            DEU  ...  Johnson&Johnson, Moderna, Oxford/AstraZeneca, ...\n",
              "Pakistan           PAK  ...  CanSino, Covaxin, Moderna, Oxford/AstraZeneca,...\n",
              "\n",
              "[10 rows x 7 columns]"
            ]
          },
          "metadata": {},
          "execution_count": 58
        }
      ]
    },
    {
      "cell_type": "code",
      "metadata": {
        "id": "m74Zdlm43VBz",
        "colab": {
          "base_uri": "https://localhost:8080/",
          "height": 390
        },
        "outputId": "7c475fdb-e50f-401c-9017-dd6b0c7f6170"
      },
      "source": [
        "#Now sort by total vaccinations per 100\n",
        "vacc_by_country = vacc_by_country.sort_values('total_vaccinations_per_hundred', ascending=False)\n",
        "vacc_by_country"
      ],
      "execution_count": 59,
      "outputs": [
        {
          "output_type": "execute_result",
          "data": {
            "text/html": [
              "<div>\n",
              "<style scoped>\n",
              "    .dataframe tbody tr th:only-of-type {\n",
              "        vertical-align: middle;\n",
              "    }\n",
              "\n",
              "    .dataframe tbody tr th {\n",
              "        vertical-align: top;\n",
              "    }\n",
              "\n",
              "    .dataframe thead th {\n",
              "        text-align: right;\n",
              "    }\n",
              "</style>\n",
              "<table border=\"1\" class=\"dataframe\">\n",
              "  <thead>\n",
              "    <tr style=\"text-align: right;\">\n",
              "      <th></th>\n",
              "      <th>iso_code</th>\n",
              "      <th>date</th>\n",
              "      <th>total_vaccinations</th>\n",
              "      <th>people_vaccinated</th>\n",
              "      <th>daily_vaccinations</th>\n",
              "      <th>total_vaccinations_per_hundred</th>\n",
              "      <th>vaccines</th>\n",
              "    </tr>\n",
              "    <tr>\n",
              "      <th>country</th>\n",
              "      <th></th>\n",
              "      <th></th>\n",
              "      <th></th>\n",
              "      <th></th>\n",
              "      <th></th>\n",
              "      <th></th>\n",
              "      <th></th>\n",
              "    </tr>\n",
              "  </thead>\n",
              "  <tbody>\n",
              "    <tr>\n",
              "      <th>China</th>\n",
              "      <td>CHN</td>\n",
              "      <td>2021-10-26</td>\n",
              "      <td>2.251339e+09</td>\n",
              "      <td>1.100842e+09</td>\n",
              "      <td>22424286.0</td>\n",
              "      <td>155.89</td>\n",
              "      <td>CanSino, Sinopharm/Beijing, Sinopharm/Wuhan, S...</td>\n",
              "    </tr>\n",
              "    <tr>\n",
              "      <th>Japan</th>\n",
              "      <td>JPN</td>\n",
              "      <td>2021-10-25</td>\n",
              "      <td>1.859792e+08</td>\n",
              "      <td>9.718129e+07</td>\n",
              "      <td>1997542.0</td>\n",
              "      <td>147.54</td>\n",
              "      <td>Moderna, Oxford/AstraZeneca, Pfizer/BioNTech</td>\n",
              "    </tr>\n",
              "    <tr>\n",
              "      <th>Turkey</th>\n",
              "      <td>TUR</td>\n",
              "      <td>2021-10-26</td>\n",
              "      <td>1.156746e+08</td>\n",
              "      <td>5.525654e+07</td>\n",
              "      <td>1264431.0</td>\n",
              "      <td>136.02</td>\n",
              "      <td>Pfizer/BioNTech, Sinovac</td>\n",
              "    </tr>\n",
              "    <tr>\n",
              "      <th>Germany</th>\n",
              "      <td>DEU</td>\n",
              "      <td>2021-10-25</td>\n",
              "      <td>1.109504e+08</td>\n",
              "      <td>5.751572e+07</td>\n",
              "      <td>874929.0</td>\n",
              "      <td>132.24</td>\n",
              "      <td>Johnson&amp;Johnson, Moderna, Oxford/AstraZeneca, ...</td>\n",
              "    </tr>\n",
              "    <tr>\n",
              "      <th>Brazil</th>\n",
              "      <td>BRA</td>\n",
              "      <td>2021-10-26</td>\n",
              "      <td>2.701074e+08</td>\n",
              "      <td>1.587227e+08</td>\n",
              "      <td>2045834.0</td>\n",
              "      <td>126.22</td>\n",
              "      <td>Johnson&amp;Johnson, Oxford/AstraZeneca, Pfizer/Bi...</td>\n",
              "    </tr>\n",
              "    <tr>\n",
              "      <th>United States</th>\n",
              "      <td>USA</td>\n",
              "      <td>2021-10-26</td>\n",
              "      <td>4.150120e+08</td>\n",
              "      <td>2.206488e+08</td>\n",
              "      <td>3384387.0</td>\n",
              "      <td>123.40</td>\n",
              "      <td>Johnson&amp;Johnson, Moderna, Pfizer/BioNTech</td>\n",
              "    </tr>\n",
              "    <tr>\n",
              "      <th>Mexico</th>\n",
              "      <td>MEX</td>\n",
              "      <td>2021-10-24</td>\n",
              "      <td>1.156246e+08</td>\n",
              "      <td>7.004907e+07</td>\n",
              "      <td>1088095.0</td>\n",
              "      <td>88.76</td>\n",
              "      <td>CanSino, Johnson&amp;Johnson, Moderna, Oxford/Astr...</td>\n",
              "    </tr>\n",
              "    <tr>\n",
              "      <th>India</th>\n",
              "      <td>IND</td>\n",
              "      <td>2021-10-26</td>\n",
              "      <td>1.030850e+09</td>\n",
              "      <td>7.211491e+08</td>\n",
              "      <td>10037995.0</td>\n",
              "      <td>73.98</td>\n",
              "      <td>Covaxin, Oxford/AstraZeneca, Sputnik V</td>\n",
              "    </tr>\n",
              "    <tr>\n",
              "      <th>Indonesia</th>\n",
              "      <td>IDN</td>\n",
              "      <td>2021-10-26</td>\n",
              "      <td>1.834772e+08</td>\n",
              "      <td>1.143471e+08</td>\n",
              "      <td>1897011.0</td>\n",
              "      <td>66.39</td>\n",
              "      <td>Moderna, Oxford/AstraZeneca, Pfizer/BioNTech, ...</td>\n",
              "    </tr>\n",
              "    <tr>\n",
              "      <th>Pakistan</th>\n",
              "      <td>PAK</td>\n",
              "      <td>2021-10-26</td>\n",
              "      <td>1.020679e+08</td>\n",
              "      <td>6.934111e+07</td>\n",
              "      <td>1280906.0</td>\n",
              "      <td>45.32</td>\n",
              "      <td>CanSino, Covaxin, Moderna, Oxford/AstraZeneca,...</td>\n",
              "    </tr>\n",
              "  </tbody>\n",
              "</table>\n",
              "</div>"
            ],
            "text/plain": [
              "              iso_code  ...                                           vaccines\n",
              "country                 ...                                                   \n",
              "China              CHN  ...  CanSino, Sinopharm/Beijing, Sinopharm/Wuhan, S...\n",
              "Japan              JPN  ...       Moderna, Oxford/AstraZeneca, Pfizer/BioNTech\n",
              "Turkey             TUR  ...                           Pfizer/BioNTech, Sinovac\n",
              "Germany            DEU  ...  Johnson&Johnson, Moderna, Oxford/AstraZeneca, ...\n",
              "Brazil             BRA  ...  Johnson&Johnson, Oxford/AstraZeneca, Pfizer/Bi...\n",
              "United States      USA  ...          Johnson&Johnson, Moderna, Pfizer/BioNTech\n",
              "Mexico             MEX  ...  CanSino, Johnson&Johnson, Moderna, Oxford/Astr...\n",
              "India              IND  ...             Covaxin, Oxford/AstraZeneca, Sputnik V\n",
              "Indonesia          IDN  ...  Moderna, Oxford/AstraZeneca, Pfizer/BioNTech, ...\n",
              "Pakistan           PAK  ...  CanSino, Covaxin, Moderna, Oxford/AstraZeneca,...\n",
              "\n",
              "[10 rows x 7 columns]"
            ]
          },
          "metadata": {},
          "execution_count": 59
        }
      ]
    },
    {
      "cell_type": "code",
      "metadata": {
        "id": "qXupbNoCxHhO",
        "colab": {
          "base_uri": "https://localhost:8080/",
          "height": 446
        },
        "outputId": "60baa396-05ea-404f-9912-c7bc2723b722"
      },
      "source": [
        "plt.figure(figsize=(18, 6))\n",
        "plt.bar(vacc_by_country.index, vacc_by_country.total_vaccinations_per_hundred)\n",
        "\n",
        "plt.xticks(rotation = 90)\n",
        "plt.ylabel('Vaccinations per 100')\n",
        "plt.xlabel('Country')\n",
        "plt.show()"
      ],
      "execution_count": 60,
      "outputs": [
        {
          "output_type": "display_data",
          "data": {
            "image/png": "[encoded data removed]",
            "text/plain": [
              "<Figure size 1296x432 with 1 Axes>"
            ]
          },
          "metadata": {
            "needs_background": "light"
          }
        }
      ]
    },
    {
      "cell_type": "markdown",
      "metadata": {
        "id": "wMiotxhhzmmV"
      },
      "source": [
        "Country with most vaccinated people. Obviously, this will be skewed towards highest populated countries that effectively depoyed vaccinations to bulk of its population. "
      ]
    },
    {
      "cell_type": "code",
      "metadata": {
        "id": "FkVFje3r5CXK",
        "colab": {
          "base_uri": "https://localhost:8080/",
          "height": 390
        },
        "outputId": "fc2a0405-e8e8-4fb3-d00b-5954a82d90e9"
      },
      "source": [
        "total_vacc_by_country = df.groupby('country').max().sort_values('total_vaccinations', ascending=False)\n",
        "total_vacc_by_country = total_vacc_by_country.iloc[:10]\n",
        "total_vacc_by_country\n"
      ],
      "execution_count": 61,
      "outputs": [
        {
          "output_type": "execute_result",
          "data": {
            "text/html": [
              "<div>\n",
              "<style scoped>\n",
              "    .dataframe tbody tr th:only-of-type {\n",
              "        vertical-align: middle;\n",
              "    }\n",
              "\n",
              "    .dataframe tbody tr th {\n",
              "        vertical-align: top;\n",
              "    }\n",
              "\n",
              "    .dataframe thead th {\n",
              "        text-align: right;\n",
              "    }\n",
              "</style>\n",
              "<table border=\"1\" class=\"dataframe\">\n",
              "  <thead>\n",
              "    <tr style=\"text-align: right;\">\n",
              "      <th></th>\n",
              "      <th>iso_code</th>\n",
              "      <th>date</th>\n",
              "      <th>total_vaccinations</th>\n",
              "      <th>people_vaccinated</th>\n",
              "      <th>daily_vaccinations</th>\n",
              "      <th>total_vaccinations_per_hundred</th>\n",
              "      <th>vaccines</th>\n",
              "    </tr>\n",
              "    <tr>\n",
              "      <th>country</th>\n",
              "      <th></th>\n",
              "      <th></th>\n",
              "      <th></th>\n",
              "      <th></th>\n",
              "      <th></th>\n",
              "      <th></th>\n",
              "      <th></th>\n",
              "    </tr>\n",
              "  </thead>\n",
              "  <tbody>\n",
              "    <tr>\n",
              "      <th>China</th>\n",
              "      <td>CHN</td>\n",
              "      <td>2021-10-26</td>\n",
              "      <td>2.251339e+09</td>\n",
              "      <td>1.100842e+09</td>\n",
              "      <td>22424286.0</td>\n",
              "      <td>155.89</td>\n",
              "      <td>CanSino, Sinopharm/Beijing, Sinopharm/Wuhan, S...</td>\n",
              "    </tr>\n",
              "    <tr>\n",
              "      <th>India</th>\n",
              "      <td>IND</td>\n",
              "      <td>2021-10-26</td>\n",
              "      <td>1.030850e+09</td>\n",
              "      <td>7.211491e+08</td>\n",
              "      <td>10037995.0</td>\n",
              "      <td>73.98</td>\n",
              "      <td>Covaxin, Oxford/AstraZeneca, Sputnik V</td>\n",
              "    </tr>\n",
              "    <tr>\n",
              "      <th>United States</th>\n",
              "      <td>USA</td>\n",
              "      <td>2021-10-26</td>\n",
              "      <td>4.150120e+08</td>\n",
              "      <td>2.206488e+08</td>\n",
              "      <td>3384387.0</td>\n",
              "      <td>123.40</td>\n",
              "      <td>Johnson&amp;Johnson, Moderna, Pfizer/BioNTech</td>\n",
              "    </tr>\n",
              "    <tr>\n",
              "      <th>Brazil</th>\n",
              "      <td>BRA</td>\n",
              "      <td>2021-10-26</td>\n",
              "      <td>2.701074e+08</td>\n",
              "      <td>1.587227e+08</td>\n",
              "      <td>2045834.0</td>\n",
              "      <td>126.22</td>\n",
              "      <td>Johnson&amp;Johnson, Oxford/AstraZeneca, Pfizer/Bi...</td>\n",
              "    </tr>\n",
              "    <tr>\n",
              "      <th>Japan</th>\n",
              "      <td>JPN</td>\n",
              "      <td>2021-10-25</td>\n",
              "      <td>1.859792e+08</td>\n",
              "      <td>9.718129e+07</td>\n",
              "      <td>1997542.0</td>\n",
              "      <td>147.54</td>\n",
              "      <td>Moderna, Oxford/AstraZeneca, Pfizer/BioNTech</td>\n",
              "    </tr>\n",
              "    <tr>\n",
              "      <th>Indonesia</th>\n",
              "      <td>IDN</td>\n",
              "      <td>2021-10-26</td>\n",
              "      <td>1.834772e+08</td>\n",
              "      <td>1.143471e+08</td>\n",
              "      <td>1897011.0</td>\n",
              "      <td>66.39</td>\n",
              "      <td>Moderna, Oxford/AstraZeneca, Pfizer/BioNTech, ...</td>\n",
              "    </tr>\n",
              "    <tr>\n",
              "      <th>Turkey</th>\n",
              "      <td>TUR</td>\n",
              "      <td>2021-10-26</td>\n",
              "      <td>1.156746e+08</td>\n",
              "      <td>5.525654e+07</td>\n",
              "      <td>1264431.0</td>\n",
              "      <td>136.02</td>\n",
              "      <td>Pfizer/BioNTech, Sinovac</td>\n",
              "    </tr>\n",
              "    <tr>\n",
              "      <th>Mexico</th>\n",
              "      <td>MEX</td>\n",
              "      <td>2021-10-24</td>\n",
              "      <td>1.156246e+08</td>\n",
              "      <td>7.004907e+07</td>\n",
              "      <td>1088095.0</td>\n",
              "      <td>88.76</td>\n",
              "      <td>CanSino, Johnson&amp;Johnson, Moderna, Oxford/Astr...</td>\n",
              "    </tr>\n",
              "    <tr>\n",
              "      <th>Germany</th>\n",
              "      <td>DEU</td>\n",
              "      <td>2021-10-25</td>\n",
              "      <td>1.109504e+08</td>\n",
              "      <td>5.751572e+07</td>\n",
              "      <td>874929.0</td>\n",
              "      <td>132.24</td>\n",
              "      <td>Johnson&amp;Johnson, Moderna, Oxford/AstraZeneca, ...</td>\n",
              "    </tr>\n",
              "    <tr>\n",
              "      <th>Pakistan</th>\n",
              "      <td>PAK</td>\n",
              "      <td>2021-10-26</td>\n",
              "      <td>1.020679e+08</td>\n",
              "      <td>6.934111e+07</td>\n",
              "      <td>1280906.0</td>\n",
              "      <td>45.32</td>\n",
              "      <td>CanSino, Covaxin, Moderna, Oxford/AstraZeneca,...</td>\n",
              "    </tr>\n",
              "  </tbody>\n",
              "</table>\n",
              "</div>"
            ],
            "text/plain": [
              "              iso_code  ...                                           vaccines\n",
              "country                 ...                                                   \n",
              "China              CHN  ...  CanSino, Sinopharm/Beijing, Sinopharm/Wuhan, S...\n",
              "India              IND  ...             Covaxin, Oxford/AstraZeneca, Sputnik V\n",
              "United States      USA  ...          Johnson&Johnson, Moderna, Pfizer/BioNTech\n",
              "Brazil             BRA  ...  Johnson&Johnson, Oxford/AstraZeneca, Pfizer/Bi...\n",
              "Japan              JPN  ...       Moderna, Oxford/AstraZeneca, Pfizer/BioNTech\n",
              "Indonesia          IDN  ...  Moderna, Oxford/AstraZeneca, Pfizer/BioNTech, ...\n",
              "Turkey             TUR  ...                           Pfizer/BioNTech, Sinovac\n",
              "Mexico             MEX  ...  CanSino, Johnson&Johnson, Moderna, Oxford/Astr...\n",
              "Germany            DEU  ...  Johnson&Johnson, Moderna, Oxford/AstraZeneca, ...\n",
              "Pakistan           PAK  ...  CanSino, Covaxin, Moderna, Oxford/AstraZeneca,...\n",
              "\n",
              "[10 rows x 7 columns]"
            ]
          },
          "metadata": {},
          "execution_count": 61
        }
      ]
    },
    {
      "cell_type": "code",
      "metadata": {
        "id": "wO4CZSfuzonF",
        "colab": {
          "base_uri": "https://localhost:8080/",
          "height": 516
        },
        "outputId": "4bcb3763-f68d-4fa8-c91c-0a980ea072b7"
      },
      "source": [
        "\n",
        "plt.figure(figsize=(16, 7))\n",
        "plt.bar(total_vacc_by_country.index, total_vacc_by_country.total_vaccinations)\n",
        "\n",
        "plt.title('Total vaccinations per country')\n",
        "plt.xticks(rotation = 90)\n",
        "plt.ylabel('Total vaccinations')\n",
        "plt.xlabel('Country')\n",
        "plt.show()"
      ],
      "execution_count": 62,
      "outputs": [
        {
          "output_type": "display_data",
          "data": {
            "image/png": "[encoded data removed]",
            "text/plain": [
              "<Figure size 1152x504 with 1 Axes>"
            ]
          },
          "metadata": {
            "needs_background": "light"
          }
        }
      ]
    },
    {
      "cell_type": "code",
      "metadata": {
        "id": "2ClkrLIU5zAO",
        "colab": {
          "base_uri": "https://localhost:8080/",
          "height": 235
        },
        "outputId": "90780692-fcf4-42d5-9b8b-62810e7181bc"
      },
      "source": [
        "#Sort by total vaccinations delivered by countries and group by vaccines. \n",
        "vacc_names_by_country = df.groupby('vaccines').max().sort_values('total_vaccinations', ascending=False)\n",
        "vacc_names_by_country.head()\n"
      ],
      "execution_count": 63,
      "outputs": [
        {
          "output_type": "execute_result",
          "data": {
            "text/html": [
              "<div>\n",
              "<style scoped>\n",
              "    .dataframe tbody tr th:only-of-type {\n",
              "        vertical-align: middle;\n",
              "    }\n",
              "\n",
              "    .dataframe tbody tr th {\n",
              "        vertical-align: top;\n",
              "    }\n",
              "\n",
              "    .dataframe thead th {\n",
              "        text-align: right;\n",
              "    }\n",
              "</style>\n",
              "<table border=\"1\" class=\"dataframe\">\n",
              "  <thead>\n",
              "    <tr style=\"text-align: right;\">\n",
              "      <th></th>\n",
              "      <th>country</th>\n",
              "      <th>iso_code</th>\n",
              "      <th>date</th>\n",
              "      <th>total_vaccinations</th>\n",
              "      <th>people_vaccinated</th>\n",
              "      <th>daily_vaccinations</th>\n",
              "      <th>total_vaccinations_per_hundred</th>\n",
              "    </tr>\n",
              "    <tr>\n",
              "      <th>vaccines</th>\n",
              "      <th></th>\n",
              "      <th></th>\n",
              "      <th></th>\n",
              "      <th></th>\n",
              "      <th></th>\n",
              "      <th></th>\n",
              "      <th></th>\n",
              "    </tr>\n",
              "  </thead>\n",
              "  <tbody>\n",
              "    <tr>\n",
              "      <th>CanSino, Sinopharm/Beijing, Sinopharm/Wuhan, Sinovac, ZF2001</th>\n",
              "      <td>China</td>\n",
              "      <td>CHN</td>\n",
              "      <td>2021-10-26</td>\n",
              "      <td>2.251339e+09</td>\n",
              "      <td>1.100842e+09</td>\n",
              "      <td>22424286.0</td>\n",
              "      <td>155.89</td>\n",
              "    </tr>\n",
              "    <tr>\n",
              "      <th>Covaxin, Oxford/AstraZeneca, Sputnik V</th>\n",
              "      <td>India</td>\n",
              "      <td>IND</td>\n",
              "      <td>2021-10-26</td>\n",
              "      <td>1.030850e+09</td>\n",
              "      <td>7.211491e+08</td>\n",
              "      <td>10037995.0</td>\n",
              "      <td>73.98</td>\n",
              "    </tr>\n",
              "    <tr>\n",
              "      <th>Johnson&amp;Johnson, Moderna, Pfizer/BioNTech</th>\n",
              "      <td>United States</td>\n",
              "      <td>USA</td>\n",
              "      <td>2021-10-26</td>\n",
              "      <td>4.150120e+08</td>\n",
              "      <td>2.206488e+08</td>\n",
              "      <td>3384387.0</td>\n",
              "      <td>151.96</td>\n",
              "    </tr>\n",
              "    <tr>\n",
              "      <th>Johnson&amp;Johnson, Oxford/AstraZeneca, Pfizer/BioNTech, Sinovac</th>\n",
              "      <td>Brazil</td>\n",
              "      <td>BRA</td>\n",
              "      <td>2021-10-26</td>\n",
              "      <td>2.701074e+08</td>\n",
              "      <td>1.587227e+08</td>\n",
              "      <td>2045834.0</td>\n",
              "      <td>126.22</td>\n",
              "    </tr>\n",
              "    <tr>\n",
              "      <th>Moderna, Oxford/AstraZeneca, Pfizer/BioNTech</th>\n",
              "      <td>Wales</td>\n",
              "      <td>SXM</td>\n",
              "      <td>2021-10-26</td>\n",
              "      <td>1.859792e+08</td>\n",
              "      <td>9.718129e+07</td>\n",
              "      <td>1997542.0</td>\n",
              "      <td>165.14</td>\n",
              "    </tr>\n",
              "  </tbody>\n",
              "</table>\n",
              "</div>"
            ],
            "text/plain": [
              "                                                          country  ... total_vaccinations_per_hundred\n",
              "vaccines                                                           ...                               \n",
              "CanSino, Sinopharm/Beijing, Sinopharm/Wuhan, Si...          China  ...                         155.89\n",
              "Covaxin, Oxford/AstraZeneca, Sputnik V                      India  ...                          73.98\n",
              "Johnson&Johnson, Moderna, Pfizer/BioNTech           United States  ...                         151.96\n",
              "Johnson&Johnson, Oxford/AstraZeneca, Pfizer/Bio...         Brazil  ...                         126.22\n",
              "Moderna, Oxford/AstraZeneca, Pfizer/BioNTech                Wales  ...                         165.14\n",
              "\n",
              "[5 rows x 7 columns]"
            ]
          },
          "metadata": {},
          "execution_count": 63
        }
      ]
    },
    {
      "cell_type": "code",
      "metadata": {
        "id": "qltzBJnE6a4Y",
        "colab": {
          "base_uri": "https://localhost:8080/",
          "height": 390
        },
        "outputId": "ebb33cfa-a1e8-4710-85b6-53a71712ac1c"
      },
      "source": [
        "#Get the top 10 vaccines by country for easy plotting\n",
        "vacc_names_by_country = vacc_names_by_country.iloc[:10]\n",
        "vacc_names_by_country"
      ],
      "execution_count": 64,
      "outputs": [
        {
          "output_type": "execute_result",
          "data": {
            "text/html": [
              "<div>\n",
              "<style scoped>\n",
              "    .dataframe tbody tr th:only-of-type {\n",
              "        vertical-align: middle;\n",
              "    }\n",
              "\n",
              "    .dataframe tbody tr th {\n",
              "        vertical-align: top;\n",
              "    }\n",
              "\n",
              "    .dataframe thead th {\n",
              "        text-align: right;\n",
              "    }\n",
              "</style>\n",
              "<table border=\"1\" class=\"dataframe\">\n",
              "  <thead>\n",
              "    <tr style=\"text-align: right;\">\n",
              "      <th></th>\n",
              "      <th>country</th>\n",
              "      <th>iso_code</th>\n",
              "      <th>date</th>\n",
              "      <th>total_vaccinations</th>\n",
              "      <th>people_vaccinated</th>\n",
              "      <th>daily_vaccinations</th>\n",
              "      <th>total_vaccinations_per_hundred</th>\n",
              "    </tr>\n",
              "    <tr>\n",
              "      <th>vaccines</th>\n",
              "      <th></th>\n",
              "      <th></th>\n",
              "      <th></th>\n",
              "      <th></th>\n",
              "      <th></th>\n",
              "      <th></th>\n",
              "      <th></th>\n",
              "    </tr>\n",
              "  </thead>\n",
              "  <tbody>\n",
              "    <tr>\n",
              "      <th>CanSino, Sinopharm/Beijing, Sinopharm/Wuhan, Sinovac, ZF2001</th>\n",
              "      <td>China</td>\n",
              "      <td>CHN</td>\n",
              "      <td>2021-10-26</td>\n",
              "      <td>2.251339e+09</td>\n",
              "      <td>1.100842e+09</td>\n",
              "      <td>22424286.0</td>\n",
              "      <td>155.89</td>\n",
              "    </tr>\n",
              "    <tr>\n",
              "      <th>Covaxin, Oxford/AstraZeneca, Sputnik V</th>\n",
              "      <td>India</td>\n",
              "      <td>IND</td>\n",
              "      <td>2021-10-26</td>\n",
              "      <td>1.030850e+09</td>\n",
              "      <td>7.211491e+08</td>\n",
              "      <td>10037995.0</td>\n",
              "      <td>73.98</td>\n",
              "    </tr>\n",
              "    <tr>\n",
              "      <th>Johnson&amp;Johnson, Moderna, Pfizer/BioNTech</th>\n",
              "      <td>United States</td>\n",
              "      <td>USA</td>\n",
              "      <td>2021-10-26</td>\n",
              "      <td>4.150120e+08</td>\n",
              "      <td>2.206488e+08</td>\n",
              "      <td>3384387.0</td>\n",
              "      <td>151.96</td>\n",
              "    </tr>\n",
              "    <tr>\n",
              "      <th>Johnson&amp;Johnson, Oxford/AstraZeneca, Pfizer/BioNTech, Sinovac</th>\n",
              "      <td>Brazil</td>\n",
              "      <td>BRA</td>\n",
              "      <td>2021-10-26</td>\n",
              "      <td>2.701074e+08</td>\n",
              "      <td>1.587227e+08</td>\n",
              "      <td>2045834.0</td>\n",
              "      <td>126.22</td>\n",
              "    </tr>\n",
              "    <tr>\n",
              "      <th>Moderna, Oxford/AstraZeneca, Pfizer/BioNTech</th>\n",
              "      <td>Wales</td>\n",
              "      <td>SXM</td>\n",
              "      <td>2021-10-26</td>\n",
              "      <td>1.859792e+08</td>\n",
              "      <td>9.718129e+07</td>\n",
              "      <td>1997542.0</td>\n",
              "      <td>165.14</td>\n",
              "    </tr>\n",
              "    <tr>\n",
              "      <th>Moderna, Oxford/AstraZeneca, Pfizer/BioNTech, Sinopharm/Beijing, Sinovac</th>\n",
              "      <td>Indonesia</td>\n",
              "      <td>IDN</td>\n",
              "      <td>2021-10-26</td>\n",
              "      <td>1.834772e+08</td>\n",
              "      <td>1.143471e+08</td>\n",
              "      <td>1897011.0</td>\n",
              "      <td>66.39</td>\n",
              "    </tr>\n",
              "    <tr>\n",
              "      <th>Pfizer/BioNTech, Sinovac</th>\n",
              "      <td>Turkey</td>\n",
              "      <td>TUR</td>\n",
              "      <td>2021-10-26</td>\n",
              "      <td>1.156746e+08</td>\n",
              "      <td>5.525654e+07</td>\n",
              "      <td>1264431.0</td>\n",
              "      <td>136.02</td>\n",
              "    </tr>\n",
              "    <tr>\n",
              "      <th>CanSino, Johnson&amp;Johnson, Moderna, Oxford/AstraZeneca, Pfizer/BioNTech, Sinovac, Sputnik V</th>\n",
              "      <td>Mexico</td>\n",
              "      <td>MEX</td>\n",
              "      <td>2021-10-24</td>\n",
              "      <td>1.156246e+08</td>\n",
              "      <td>7.004907e+07</td>\n",
              "      <td>1088095.0</td>\n",
              "      <td>88.76</td>\n",
              "    </tr>\n",
              "    <tr>\n",
              "      <th>Johnson&amp;Johnson, Moderna, Oxford/AstraZeneca, Pfizer/BioNTech</th>\n",
              "      <td>Spain</td>\n",
              "      <td>ROU</td>\n",
              "      <td>2021-10-26</td>\n",
              "      <td>1.109504e+08</td>\n",
              "      <td>5.751572e+07</td>\n",
              "      <td>874929.0</td>\n",
              "      <td>169.02</td>\n",
              "    </tr>\n",
              "    <tr>\n",
              "      <th>CanSino, Covaxin, Moderna, Oxford/AstraZeneca, Pfizer/BioNTech, Sinopharm/Beijing, Sinovac, Sputnik V</th>\n",
              "      <td>Pakistan</td>\n",
              "      <td>PAK</td>\n",
              "      <td>2021-10-26</td>\n",
              "      <td>1.020679e+08</td>\n",
              "      <td>6.934111e+07</td>\n",
              "      <td>1280906.0</td>\n",
              "      <td>45.32</td>\n",
              "    </tr>\n",
              "  </tbody>\n",
              "</table>\n",
              "</div>"
            ],
            "text/plain": [
              "                                                          country  ... total_vaccinations_per_hundred\n",
              "vaccines                                                           ...                               \n",
              "CanSino, Sinopharm/Beijing, Sinopharm/Wuhan, Si...          China  ...                         155.89\n",
              "Covaxin, Oxford/AstraZeneca, Sputnik V                      India  ...                          73.98\n",
              "Johnson&Johnson, Moderna, Pfizer/BioNTech           United States  ...                         151.96\n",
              "Johnson&Johnson, Oxford/AstraZeneca, Pfizer/Bio...         Brazil  ...                         126.22\n",
              "Moderna, Oxford/AstraZeneca, Pfizer/BioNTech                Wales  ...                         165.14\n",
              "Moderna, Oxford/AstraZeneca, Pfizer/BioNTech, S...      Indonesia  ...                          66.39\n",
              "Pfizer/BioNTech, Sinovac                                   Turkey  ...                         136.02\n",
              "CanSino, Johnson&Johnson, Moderna, Oxford/Astra...         Mexico  ...                          88.76\n",
              "Johnson&Johnson, Moderna, Oxford/AstraZeneca, P...          Spain  ...                         169.02\n",
              "CanSino, Covaxin, Moderna, Oxford/AstraZeneca, ...       Pakistan  ...                          45.32\n",
              "\n",
              "[10 rows x 7 columns]"
            ]
          },
          "metadata": {},
          "execution_count": 64
        }
      ]
    },
    {
      "cell_type": "code",
      "metadata": {
        "id": "4FN9-Rcp8HD0",
        "colab": {
          "base_uri": "https://localhost:8080/",
          "height": 359
        },
        "outputId": "a0c2c59d-3272-404f-a3e6-d48fcccd763d"
      },
      "source": [
        "#Reset index to move vaccines from being index to a column. \n",
        "#This makes it easy for us to plot using Seaborn, especially if we want to sort by country. \n",
        "vacc_names_by_country=vacc_names_by_country.reset_index()\n",
        "vacc_names_by_country"
      ],
      "execution_count": 65,
      "outputs": [
        {
          "output_type": "execute_result",
          "data": {
            "text/html": [
              "<div>\n",
              "<style scoped>\n",
              "    .dataframe tbody tr th:only-of-type {\n",
              "        vertical-align: middle;\n",
              "    }\n",
              "\n",
              "    .dataframe tbody tr th {\n",
              "        vertical-align: top;\n",
              "    }\n",
              "\n",
              "    .dataframe thead th {\n",
              "        text-align: right;\n",
              "    }\n",
              "</style>\n",
              "<table border=\"1\" class=\"dataframe\">\n",
              "  <thead>\n",
              "    <tr style=\"text-align: right;\">\n",
              "      <th></th>\n",
              "      <th>vaccines</th>\n",
              "      <th>country</th>\n",
              "      <th>iso_code</th>\n",
              "      <th>date</th>\n",
              "      <th>total_vaccinations</th>\n",
              "      <th>people_vaccinated</th>\n",
              "      <th>daily_vaccinations</th>\n",
              "      <th>total_vaccinations_per_hundred</th>\n",
              "    </tr>\n",
              "  </thead>\n",
              "  <tbody>\n",
              "    <tr>\n",
              "      <th>0</th>\n",
              "      <td>CanSino, Sinopharm/Beijing, Sinopharm/Wuhan, S...</td>\n",
              "      <td>China</td>\n",
              "      <td>CHN</td>\n",
              "      <td>2021-10-26</td>\n",
              "      <td>2.251339e+09</td>\n",
              "      <td>1.100842e+09</td>\n",
              "      <td>22424286.0</td>\n",
              "      <td>155.89</td>\n",
              "    </tr>\n",
              "    <tr>\n",
              "      <th>1</th>\n",
              "      <td>Covaxin, Oxford/AstraZeneca, Sputnik V</td>\n",
              "      <td>India</td>\n",
              "      <td>IND</td>\n",
              "      <td>2021-10-26</td>\n",
              "      <td>1.030850e+09</td>\n",
              "      <td>7.211491e+08</td>\n",
              "      <td>10037995.0</td>\n",
              "      <td>73.98</td>\n",
              "    </tr>\n",
              "    <tr>\n",
              "      <th>2</th>\n",
              "      <td>Johnson&amp;Johnson, Moderna, Pfizer/BioNTech</td>\n",
              "      <td>United States</td>\n",
              "      <td>USA</td>\n",
              "      <td>2021-10-26</td>\n",
              "      <td>4.150120e+08</td>\n",
              "      <td>2.206488e+08</td>\n",
              "      <td>3384387.0</td>\n",
              "      <td>151.96</td>\n",
              "    </tr>\n",
              "    <tr>\n",
              "      <th>3</th>\n",
              "      <td>Johnson&amp;Johnson, Oxford/AstraZeneca, Pfizer/Bi...</td>\n",
              "      <td>Brazil</td>\n",
              "      <td>BRA</td>\n",
              "      <td>2021-10-26</td>\n",
              "      <td>2.701074e+08</td>\n",
              "      <td>1.587227e+08</td>\n",
              "      <td>2045834.0</td>\n",
              "      <td>126.22</td>\n",
              "    </tr>\n",
              "    <tr>\n",
              "      <th>4</th>\n",
              "      <td>Moderna, Oxford/AstraZeneca, Pfizer/BioNTech</td>\n",
              "      <td>Wales</td>\n",
              "      <td>SXM</td>\n",
              "      <td>2021-10-26</td>\n",
              "      <td>1.859792e+08</td>\n",
              "      <td>9.718129e+07</td>\n",
              "      <td>1997542.0</td>\n",
              "      <td>165.14</td>\n",
              "    </tr>\n",
              "    <tr>\n",
              "      <th>5</th>\n",
              "      <td>Moderna, Oxford/AstraZeneca, Pfizer/BioNTech, ...</td>\n",
              "      <td>Indonesia</td>\n",
              "      <td>IDN</td>\n",
              "      <td>2021-10-26</td>\n",
              "      <td>1.834772e+08</td>\n",
              "      <td>1.143471e+08</td>\n",
              "      <td>1897011.0</td>\n",
              "      <td>66.39</td>\n",
              "    </tr>\n",
              "    <tr>\n",
              "      <th>6</th>\n",
              "      <td>Pfizer/BioNTech, Sinovac</td>\n",
              "      <td>Turkey</td>\n",
              "      <td>TUR</td>\n",
              "      <td>2021-10-26</td>\n",
              "      <td>1.156746e+08</td>\n",
              "      <td>5.525654e+07</td>\n",
              "      <td>1264431.0</td>\n",
              "      <td>136.02</td>\n",
              "    </tr>\n",
              "    <tr>\n",
              "      <th>7</th>\n",
              "      <td>CanSino, Johnson&amp;Johnson, Moderna, Oxford/Astr...</td>\n",
              "      <td>Mexico</td>\n",
              "      <td>MEX</td>\n",
              "      <td>2021-10-24</td>\n",
              "      <td>1.156246e+08</td>\n",
              "      <td>7.004907e+07</td>\n",
              "      <td>1088095.0</td>\n",
              "      <td>88.76</td>\n",
              "    </tr>\n",
              "    <tr>\n",
              "      <th>8</th>\n",
              "      <td>Johnson&amp;Johnson, Moderna, Oxford/AstraZeneca, ...</td>\n",
              "      <td>Spain</td>\n",
              "      <td>ROU</td>\n",
              "      <td>2021-10-26</td>\n",
              "      <td>1.109504e+08</td>\n",
              "      <td>5.751572e+07</td>\n",
              "      <td>874929.0</td>\n",
              "      <td>169.02</td>\n",
              "    </tr>\n",
              "    <tr>\n",
              "      <th>9</th>\n",
              "      <td>CanSino, Covaxin, Moderna, Oxford/AstraZeneca,...</td>\n",
              "      <td>Pakistan</td>\n",
              "      <td>PAK</td>\n",
              "      <td>2021-10-26</td>\n",
              "      <td>1.020679e+08</td>\n",
              "      <td>6.934111e+07</td>\n",
              "      <td>1280906.0</td>\n",
              "      <td>45.32</td>\n",
              "    </tr>\n",
              "  </tbody>\n",
              "</table>\n",
              "</div>"
            ],
            "text/plain": [
              "                                            vaccines  ... total_vaccinations_per_hundred\n",
              "0  CanSino, Sinopharm/Beijing, Sinopharm/Wuhan, S...  ...                         155.89\n",
              "1             Covaxin, Oxford/AstraZeneca, Sputnik V  ...                          73.98\n",
              "2          Johnson&Johnson, Moderna, Pfizer/BioNTech  ...                         151.96\n",
              "3  Johnson&Johnson, Oxford/AstraZeneca, Pfizer/Bi...  ...                         126.22\n",
              "4       Moderna, Oxford/AstraZeneca, Pfizer/BioNTech  ...                         165.14\n",
              "5  Moderna, Oxford/AstraZeneca, Pfizer/BioNTech, ...  ...                          66.39\n",
              "6                           Pfizer/BioNTech, Sinovac  ...                         136.02\n",
              "7  CanSino, Johnson&Johnson, Moderna, Oxford/Astr...  ...                          88.76\n",
              "8  Johnson&Johnson, Moderna, Oxford/AstraZeneca, ...  ...                         169.02\n",
              "9  CanSino, Covaxin, Moderna, Oxford/AstraZeneca,...  ...                          45.32\n",
              "\n",
              "[10 rows x 8 columns]"
            ]
          },
          "metadata": {},
          "execution_count": 65
        }
      ]
    },
    {
      "cell_type": "code",
      "metadata": {
        "id": "ofxjusd7z3Ol",
        "colab": {
          "base_uri": "https://localhost:8080/",
          "height": 1000
        },
        "outputId": "8ccdc3aa-d1b6-487a-a82d-15c33aa94c11"
      },
      "source": [
        "plt.figure(figsize=(12,8))\n",
        "\n",
        "sns.barplot(data = vacc_names_by_country, x='vaccines', y = 'total_vaccinations', hue = 'country', dodge=False)\n",
        "plt.xticks(rotation=90)"
      ],
      "execution_count": 66,
      "outputs": [
        {
          "output_type": "execute_result",
          "data": {
            "text/plain": [
              "(array([0, 1, 2, 3, 4, 5, 6, 7, 8, 9]),\n",
              " <a list of 10 Text major ticklabel objects>)"
            ]
          },
          "metadata": {},
          "execution_count": 66
        },
        {
          "output_type": "display_data",
          "data": {
            "image/png": "[encoded data removed]",
            "text/plain": [
              "<Figure size 864x576 with 1 Axes>"
            ]
          },
          "metadata": {
            "needs_background": "light"
          }
        }
      ]
    },
    {
      "cell_type": "markdown",
      "metadata": {
        "id": "vhE7uzOe0QFs"
      },
      "source": [
        "Total vaccinations per hundred, by Country on a map. \n",
        "\n",
        "Warning: This can make your browser very slow. "
      ]
    },
    {
      "cell_type": "code",
      "metadata": {
        "id": "WD9ET00Q0R3m"
      },
      "source": [
        "fig = px.choropleth(df.reset_index(), locations=\"iso_code\",\n",
        "                    color=\"total_vaccinations_per_hundred\",\n",
        "                    color_continuous_scale=px.colors.sequential.Electric,\n",
        "                   title= \"Total vaccinations per 100\")\n",
        "\n",
        "fig.update_layout(margin={\"r\":0,\"t\":0,\"l\":0,\"b\":0})  #No margin on left, right, top and bottom\n",
        "fig.show()"
      ],
      "execution_count": null,
      "outputs": []
    }
  ]
}