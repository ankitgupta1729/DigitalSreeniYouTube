{
  "nbformat": 4,
  "nbformat_minor": 0,
  "metadata": {
    "colab": {
      "name": "tips-tricks-38-Installing_conda_in_Google_Colab.ipynb",
      "provenance": [],
      "collapsed_sections": [],
      "authorship_tag": "ABX9TyObA0VtGxomVUyJw2KO1l2J",
      "include_colab_link": true
    },
    "kernelspec": {
      "name": "python3",
      "display_name": "Python 3"
    },
    "language_info": {
      "name": "python"
    }
  },
  "cells": [
    {
      "cell_type": "markdown",
      "metadata": {
        "id": "view-in-github",
        "colab_type": "text"
      },
      "source": [
        "<a href=\"https://colab.research.google.com/github/bnsreenu/python_for_microscopists/blob/master/tips_tricks_38_Installing_conda_in_Google_Colab.ipynb\" target=\"_parent\"><img src=\"https://colab.research.google.com/assets/colab-badge.svg\" alt=\"Open In Colab\"/></a>"
      ]
    },
    {
      "cell_type": "markdown",
      "source": [
        "https://youtu.be/v4qskw8EHXQ"
      ],
      "metadata": {
        "id": "5u1e29aV0Me5"
      }
    },
    {
      "cell_type": "markdown",
      "source": [
        "This notebook guides you through the process of installing Conda in your Colab.\n",
        "\n",
        "Why do you need conda on Colab? \n",
        "Among other benefits, certain packages require Conda for installation. For example, trackpy installation: http://soft-matter.github.io/trackpy/dev/installation.html\n",
        "\n",
        "Trackpy strongly recommends using Conda and not pip. Therefore, we need to set up conda environment for our colab notebook. "
      ],
      "metadata": {
        "id": "9O9WZqwgWRGX"
      }
    },
    {
      "cell_type": "markdown",
      "source": [
        "Let us start by understanding the current python version in our colab and installing the corresponding conda environment. "
      ],
      "metadata": {
        "id": "qPLGsncoiLXT"
      }
    },
    {
      "cell_type": "code",
      "execution_count": 1,
      "metadata": {
        "colab": {
          "base_uri": "https://localhost:8080/"
        },
        "id": "du8s735AiLXi",
        "outputId": "e65eb063-752c-4a08-c533-0a956291b51c"
      },
      "outputs": [
        {
          "output_type": "stream",
          "name": "stdout",
          "text": [
            "/usr/local/bin/python\n",
            "Python 3.7.13\n"
          ]
        }
      ],
      "source": [
        "#Path and version numbers for python\n",
        "!which python\n",
        "!python --version"
      ]
    },
    {
      "cell_type": "markdown",
      "source": [
        "It gives python 3.7.13.\n",
        "https://docs.conda.io/en/latest/miniconda.html#system-requirements\n",
        "The documentation recommends miniconda 4.12.0 for python 3.7 Linux 64 bit\n",
        "\n",
        "Let us reset the default python path for colab. Just to make sure we do not run into any issues later when miniconda installs its own version of python. "
      ],
      "metadata": {
        "id": "If6dmNB0iLXj"
      }
    },
    {
      "cell_type": "code",
      "source": [
        "%env PYTHONPATH="
      ],
      "metadata": {
        "colab": {
          "base_uri": "https://localhost:8080/"
        },
        "id": "FPpwZf-AiLXk",
        "outputId": "4d3c1117-064d-4d5d-dcef-bfd3de3764ea"
      },
      "execution_count": 2,
      "outputs": [
        {
          "output_type": "stream",
          "name": "stdout",
          "text": [
            "env: PYTHONPATH=\n"
          ]
        }
      ]
    },
    {
      "cell_type": "code",
      "source": [
        "%%bash\n",
        "MINICONDA_INSTALLER_SCRIPT=Miniconda3-py37_4.12.0-Linux-x86_64.sh\n",
        "MINICONDA_PREFIX=/usr/local\n",
        "wget https://repo.continuum.io/miniconda/$MINICONDA_INSTALLER_SCRIPT\n",
        "chmod +x $MINICONDA_INSTALLER_SCRIPT\n",
        "./$MINICONDA_INSTALLER_SCRIPT -b -f -p $MINICONDA_PREFIX"
      ],
      "metadata": {
        "id": "wWwRqGxbiLXk"
      },
      "execution_count": null,
      "outputs": []
    },
    {
      "cell_type": "markdown",
      "source": [
        "Verify to see if the conda executable is available"
      ],
      "metadata": {
        "id": "QgDSOUpSiLXk"
      }
    },
    {
      "cell_type": "code",
      "source": [
        "!which conda # should return /usr/local/bin/conda"
      ],
      "metadata": {
        "colab": {
          "base_uri": "https://localhost:8080/"
        },
        "id": "w5jDaZY_iLXl",
        "outputId": "88f7a5e2-1d9d-4859-9d2c-f3699a664e43"
      },
      "execution_count": 4,
      "outputs": [
        {
          "output_type": "stream",
          "name": "stdout",
          "text": [
            "/usr/local/bin/conda\n"
          ]
        }
      ]
    },
    {
      "cell_type": "markdown",
      "source": [
        "Confirm the conda version"
      ],
      "metadata": {
        "id": "TOEjgt_iiLXl"
      }
    },
    {
      "cell_type": "code",
      "source": [
        "!conda --version # should return 4.12.0"
      ],
      "metadata": {
        "colab": {
          "base_uri": "https://localhost:8080/"
        },
        "id": "mT07XQJ4iLXl",
        "outputId": "0eccd204-0277-43fa-8ba7-4c4c6c4b200d"
      },
      "execution_count": 5,
      "outputs": [
        {
          "output_type": "stream",
          "name": "stdout",
          "text": [
            "conda 4.12.0\n"
          ]
        }
      ]
    },
    {
      "cell_type": "code",
      "source": [
        "!python --version "
      ],
      "metadata": {
        "colab": {
          "base_uri": "https://localhost:8080/"
        },
        "id": "ss-2jRS1iLXl",
        "outputId": "f35415d3-22dd-409c-9b44-1b5166682923"
      },
      "execution_count": 6,
      "outputs": [
        {
          "output_type": "stream",
          "name": "stdout",
          "text": [
            "Python 3.7.13\n"
          ]
        }
      ]
    },
    {
      "cell_type": "markdown",
      "source": [
        "Update conda"
      ],
      "metadata": {
        "id": "eE-XsQKYiLXm"
      }
    },
    {
      "cell_type": "code",
      "source": [
        "%%bash\n",
        "conda install --channel defaults conda python=3.7 --yes\n",
        "conda update --channel defaults --all --yes"
      ],
      "metadata": {
        "id": "sQH9P-M-iLXm"
      },
      "execution_count": null,
      "outputs": []
    },
    {
      "cell_type": "code",
      "source": [
        "!conda --version # updated version of conda"
      ],
      "metadata": {
        "colab": {
          "base_uri": "https://localhost:8080/"
        },
        "id": "1E_CAd4-iLXm",
        "outputId": "c3f03e49-6ad1-46f1-c04b-530b479e70ce"
      },
      "execution_count": 8,
      "outputs": [
        {
          "output_type": "stream",
          "name": "stdout",
          "text": [
            "conda 4.13.0\n"
          ]
        }
      ]
    },
    {
      "cell_type": "code",
      "source": [
        "!python --version"
      ],
      "metadata": {
        "colab": {
          "base_uri": "https://localhost:8080/"
        },
        "id": "VmckoiwqiLXm",
        "outputId": "37a3cf4b-a74d-461d-9fff-7ea66bcb5eb6"
      },
      "execution_count": 9,
      "outputs": [
        {
          "output_type": "stream",
          "name": "stdout",
          "text": [
            "Python 3.7.13\n"
          ]
        }
      ]
    },
    {
      "cell_type": "markdown",
      "source": [
        "Provide directory where site packages are installed within miniconda\n",
        "\n",
        "First, check the current paths. "
      ],
      "metadata": {
        "id": "NP0iSbBViLXn"
      }
    },
    {
      "cell_type": "code",
      "source": [
        "import sys\n",
        "sys.path"
      ],
      "metadata": {
        "colab": {
          "base_uri": "https://localhost:8080/"
        },
        "id": "lI78YaUdiLXn",
        "outputId": "466ec556-afc0-4fea-e60c-f3bf69d3653b"
      },
      "execution_count": 12,
      "outputs": [
        {
          "output_type": "execute_result",
          "data": {
            "text/plain": [
              "['',\n",
              " '/content',\n",
              " '/env/python',\n",
              " '/usr/lib/python37.zip',\n",
              " '/usr/lib/python3.7',\n",
              " '/usr/lib/python3.7/lib-dynload',\n",
              " '/usr/local/lib/python3.7/dist-packages',\n",
              " '/usr/lib/python3/dist-packages',\n",
              " '/usr/local/lib/python3.7/dist-packages/IPython/extensions',\n",
              " '/root/.ipython',\n",
              " '/usr/local/lib/python3.7/site-packages']"
            ]
          },
          "metadata": {},
          "execution_count": 12
        }
      ]
    },
    {
      "cell_type": "markdown",
      "source": [
        "Now add the path for our site-packages"
      ],
      "metadata": {
        "id": "Hotu5bFdiLXo"
      }
    },
    {
      "cell_type": "code",
      "source": [
        "import sys\n",
        "_ = (sys.path\n",
        "        .append(\"/usr/local/lib/python3.7/site-packages\"))"
      ],
      "metadata": {
        "id": "o00OJQRFiLXo"
      },
      "execution_count": 11,
      "outputs": []
    },
    {
      "cell_type": "markdown",
      "source": [
        "Now, we are all set to install trackpy  or pims or any other library using conda.\n",
        "\n",
        "Please note that you will be prompted to answer Yes/No during installation. Let us just install pims to prove the point. "
      ],
      "metadata": {
        "id": "DEWe5ZW-iLXp"
      }
    },
    {
      "cell_type": "code",
      "source": [
        "!conda install -c conda-forge pims"
      ],
      "metadata": {
        "id": "Hech3AARiLXp"
      },
      "execution_count": null,
      "outputs": []
    },
    {
      "cell_type": "code",
      "source": [
        "import pims"
      ],
      "metadata": {
        "colab": {
          "base_uri": "https://localhost:8080/"
        },
        "id": "moefo3W3sODe",
        "outputId": "1f027094-9a2d-4c7e-9a40-d4586fa0f4e7"
      },
      "execution_count": 15,
      "outputs": [
        {
          "output_type": "stream",
          "name": "stdout",
          "text": [
            "Imageio: 'ffmpeg-linux64-v3.3.1' was not found on your computer; downloading it now.\n",
            "Try 1. Download from https://github.com/imageio/imageio-binaries/raw/master/ffmpeg/ffmpeg-linux64-v3.3.1 (43.8 MB)\n",
            "Downloading: 8192/45929032 bytes (0.0%)\b\b\b\b\b\b\b\b\b\b\b\b\b\b\b\b\b\b\b\b\b\b\b\b\b\b3457024/45929032 bytes (7.5%)\b\b\b\b\b\b\b\b\b\b\b\b\b\b\b\b\b\b\b\b\b\b\b\b\b\b\b\b\b7340032/45929032 bytes (16.0%)\b\b\b\b\b\b\b\b\b\b\b\b\b\b\b\b\b\b\b\b\b\b\b\b\b\b\b\b\b\b10977280/45929032 bytes (23.9%)\b\b\b\b\b\b\b\b\b\b\b\b\b\b\b\b\b\b\b\b\b\b\b\b\b\b\b\b\b\b\b14516224/45929032 bytes (31.6%)\b\b\b\b\b\b\b\b\b\b\b\b\b\b\b\b\b\b\b\b\b\b\b\b\b\b\b\b\b\b\b17940480/45929032 bytes (39.1%)\b\b\b\b\b\b\b\b\b\b\b\b\b\b\b\b\b\b\b\b\b\b\b\b\b\b\b\b\b\b\b21463040/45929032 bytes (46.7%)\b\b\b\b\b\b\b\b\b\b\b\b\b\b\b\b\b\b\b\b\b\b\b\b\b\b\b\b\b\b\b24821760/45929032 bytes (54.0%)\b\b\b\b\b\b\b\b\b\b\b\b\b\b\b\b\b\b\b\b\b\b\b\b\b\b\b\b\b\b\b28442624/45929032 bytes (61.9%)\b\b\b\b\b\b\b\b\b\b\b\b\b\b\b\b\b\b\b\b\b\b\b\b\b\b\b\b\b\b\b31850496/45929032 bytes (69.3%)\b\b\b\b\b\b\b\b\b\b\b\b\b\b\b\b\b\b\b\b\b\b\b\b\b\b\b\b\b\b\b35405824/45929032 bytes (77.1%)\b\b\b\b\b\b\b\b\b\b\b\b\b\b\b\b\b\b\b\b\b\b\b\b\b\b\b\b\b\b\b38780928/45929032 bytes (84.4%)\b\b\b\b\b\b\b\b\b\b\b\b\b\b\b\b\b\b\b\b\b\b\b\b\b\b\b\b\b\b\b41984000/45929032 bytes (91.4%)\b\b\b\b\b\b\b\b\b\b\b\b\b\b\b\b\b\b\b\b\b\b\b\b\b\b\b\b\b\b\b45539328/45929032 bytes (99.2%)\b\b\b\b\b\b\b\b\b\b\b\b\b\b\b\b\b\b\b\b\b\b\b\b\b\b\b\b\b\b\b45929032/45929032 bytes (100.0%)\n",
            "  Done\n",
            "File saved as /root/.imageio/ffmpeg/ffmpeg-linux64-v3.3.1.\n"
          ]
        }
      ]
    }
  ]
}